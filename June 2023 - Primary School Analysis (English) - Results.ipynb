{
 "cells": [
  {
   "cell_type": "markdown",
   "id": "91a22007",
   "metadata": {},
   "source": [
    "# Primary School June 2023 Results\n",
    "#### English Total: 267, ixiXhosa Total (June): 243, ixiXhosa Total (June): 272"
   ]
  },
  {
   "cell_type": "code",
   "execution_count": 210,
   "id": "382a7d75",
   "metadata": {},
   "outputs": [],
   "source": [
    "import pandas as pd\n",
    "import seaborn as sns\n",
    "import matplotlib.pyplot as plt\n",
    "import plotly.express as px\n",
    "G3_colour = \"#6DA9E4\"\n",
    "G2_colour = \"#F7D060\"\n",
    "G1_colour = \"#917FB3\"\n",
    "GR_colour = \"#98D8AA\"\n",
    "ECD_colour = \"#FF6D60\""
   ]
  },
  {
   "cell_type": "code",
   "execution_count": 211,
   "id": "5ca150c9",
   "metadata": {},
   "outputs": [],
   "source": [
    "children_all = pd.read_csv(\"20230623 - Children Results.csv\")\n",
    "children = children_all[children_all['Jan - Listen First Sound'].notna() & children['June - Listen First Sound'].notna()].copy()\n",
    "\n",
    "children = children[children['City'] == 'Gqeberha'].copy()\n",
    "children = children[children['Schools'] != 'St Augustines'].copy()\n",
    "\n",
    "children['Jan - Total'] = children[['Jan - Listen First Sound', 'Jan - Listen Word','Jan - Phonics', 'Jan - Blends', 'Jan - Sight Words',\n",
    "                                  'Jan - Read Sentences', 'Jan - Read Story', 'Jan - Story Comprehension',\n",
    "                                  'Jan - Written Letters', 'Jan - Write Name', 'Jan - Write CVCs',\n",
    "                                  'Jan - Write Sentences']].sum(axis=1,min_count=1)\n",
    "children['June - Total'] = children[['June - Listen First Sound',\n",
    "       'June - Listen Word','June - Phonics', 'June - Blends', 'June - Sight Words',\n",
    "                                  'June - Read Sentences', 'June - Read Story', 'June - Story Comprehension',\n",
    "                                  'June - Written Letters', 'June - Write Name', 'June - Write CVCs',\n",
    "                                  'June - Write Sentences']].sum(axis=1,min_count=1)\n",
    "children['June - Listen First Sound Improvement'] = children['June - Listen First Sound'] - children['Jan - Listen First Sound']\n",
    "children['June - Listen Word Improvement'] = children['June - Listen Word'] - children['Jan - Listen Word']\n",
    "children['June - Phonics Improvement'] = children['June - Phonics'] - children['Jan - Phonics']\n",
    "children['June - Written Letters Improvement'] = children['June - Written Letters'] - children['Jan - Written Letters']\n",
    "children[\"Jan - Sounds Total\"] =  children[\"Jan - Listen First Sound\"] + children[\"Jan - Listen Word\"]\n",
    "children[\"June - Sounds Total\"] =  children[\"June - Listen First Sound\"] + children[\"June - Listen Word\"]\n",
    "children[\"June - Sounds Total Improvement\"] = children[\"June - Sounds Total\"] - children[\"Jan - Sounds Total\"]\n",
    "children[\"June - Blends Improvement\"] = children[\"June - Blends\"] - children[\"Jan - Blends\"]\n",
    "children[\"June - Read Sentences Improvement\"] = children[\"June - Read Sentences\"] - children[\"Jan - Read Sentences\"]\n",
    "children[\"June - Read Story Improvement\"] = children[\"June - Read Story\"] - children[\"Jan - Read Story\"]\n",
    "children[\"June - Sight Words Improvement\"] = children[\"June - Sight Words\"] - children[\"Jan - Sight Words\"]\n",
    "children[\"June - Write Sentence Improvement\"] = children[\"June - Write Sentences\"] - children[\"Jan - Write Sentences\"]\n",
    "children[\"June - Write CVCs Improvement\"] = children[\"June - Write CVCs\"] - children[\"Jan - Write CVCs\"]\n",
    "children[\"June - Total Improvement\"] = children[\"June - Total\"] - children[\"Jan - Total\"]\n",
    "# Sounds and Phonics Total is 49\n",
    "children[\"Jan - Sounds and Phonics\"] = children[\"Jan - Listen First Sound\"] + children[\"Jan - Listen Word\"] + children['Jan - Phonics']\n",
    "# Reading total is 128\n",
    "children[\"Jan - Reading\"] = children[\"Jan - Blends\"] + children[\"Jan - Sight Words\"] + children['Jan - Read Sentences'] + children[\"Jan - Read Story\"] + children[\"Jan - Story Comprehension\"]\n",
    "# Writing total is 87\n",
    "children[\"Jan - Writing\"] = children['Jan - Written Letters'] + children[\"Jan - Write CVCs\"] + children[\"Jan - Write Sentences\"]\n",
    "# Sounds and Phonics Total is 49\n",
    "children[\"June - Sounds and Phonics\"] = children[\"June - Listen First Sound\"] + children[\"June - Listen Word\"] + children['June - Phonics']\n",
    "# Reading total is 128\n",
    "children[\"June - Reading\"] = children[\"June - Blends\"] + children[\"June - Sight Words\"] + children['June - Read Sentences'] + children[\"June - Read Story\"] + children[\"June - Story Comprehension\"]\n",
    "# Writing total is 87\n",
    "children[\"June - Writing\"] = children['June - Written Letters'] + children[\"June - Write CVCs\"] + children[\"June - Write Sentences\"]\n",
    "\n",
    "children[\"June - Sounds and Phonics Improvement\"] = children[\"June - Sounds and Phonics\"] - children[\"Jan - Sounds and Phonics\"]\n",
    "children[\"June - Reading Improvement\"] = children[\"June - Reading\"] - children[\"Jan - Reading\"]\n",
    "children[\"June - Writing Improvement\"] = children[\"June - Writing\"] - children[\"Jan - Writing\"] \n",
    "\n",
    "improvement_columns = [\"June - Listen First Sound Improvement\",\"June - Listen Word Improvement\", \"June - Phonics Improvement\",\"June - Blends Improvement\", \"June - Sight Words Improvement\", \"June - Read Sentences Improvement\", \"June - Read Story Improvement\", \"June - Written Letters Improvement\", \"June - Write CVCs Improvement\", \"June - Write Sentence Improvement\", \"June - Total Improvement\" ]\n",
    "\n"
   ]
  },
  {
   "cell_type": "code",
   "execution_count": 212,
   "id": "27f0554f",
   "metadata": {},
   "outputs": [],
   "source": [
    "primary = children[children['Grade'] != 'PreR']\n",
    "primary_on = primary[primary['On The Programme'] == 'Yes']\n",
    "gbo = primary.groupby('Schools')\n",
    "gbo_on = primary_on.groupby('Schools')\n",
    "\n",
    "GradeR = children[children['Grade'] == 'Grade R']\n",
    "GradeR_on = GradeR[GradeR['On The Programme'] == 'Yes']\n",
    "gboR = GradeR.groupby('Schools')\n",
    "gboR_on = GradeR_on.groupby('Schools')\n",
    "\n",
    "Grade1 = children[children['Grade'] == 'Grade 1']\n",
    "Grade1_on = Grade1[Grade1['On The Programme'] == 'Yes']\n",
    "gbo1 = Grade1.groupby('Schools')\n",
    "gbo1_on = Grade1_on.groupby('Schools')\n",
    "\n",
    "Grade2 = children[children['Grade'] == 'Grade 2']\n",
    "Grade2_on = Grade2[Grade2['On The Programme'] == 'Yes']\n",
    "gbo2 = Grade2.groupby('Schools')\n",
    "gbo2_on = Grade2_on.groupby('Schools')\n",
    "\n",
    "Grade3 = children[children['Grade'] == 'Grade 3']\n",
    "Grade3_on = Grade3[Grade3['On The Programme'] == 'Yes']\n",
    "gbo3 = Grade3.groupby('Schools')\n",
    "gbo3_on = Grade3_on.groupby('Schools')\n",
    "\n"
   ]
  },
  {
   "cell_type": "markdown",
   "id": "f2fd9c40",
   "metadata": {},
   "source": [
    "# % of Children Assessed"
   ]
  },
  {
   "cell_type": "code",
   "execution_count": 213,
   "id": "a79e3ab0",
   "metadata": {
    "scrolled": false
   },
   "outputs": [
    {
     "data": {
      "text/html": [
       "<div>\n",
       "<style scoped>\n",
       "    .dataframe tbody tr th:only-of-type {\n",
       "        vertical-align: middle;\n",
       "    }\n",
       "\n",
       "    .dataframe tbody tr th {\n",
       "        vertical-align: top;\n",
       "    }\n",
       "\n",
       "    .dataframe thead th {\n",
       "        text-align: right;\n",
       "    }\n",
       "</style>\n",
       "<table border=\"1\" class=\"dataframe\">\n",
       "  <thead>\n",
       "    <tr style=\"text-align: right;\">\n",
       "      <th></th>\n",
       "      <th>Number of Children</th>\n",
       "      <th>Number of Children Assessed</th>\n",
       "      <th>Percentage Assessed</th>\n",
       "    </tr>\n",
       "    <tr>\n",
       "      <th>Schools</th>\n",
       "      <th></th>\n",
       "      <th></th>\n",
       "      <th></th>\n",
       "    </tr>\n",
       "  </thead>\n",
       "  <tbody>\n",
       "    <tr>\n",
       "      <th>Astra</th>\n",
       "      <td>55</td>\n",
       "      <td>55</td>\n",
       "      <td>100.000000</td>\n",
       "    </tr>\n",
       "    <tr>\n",
       "      <th>Charles Duna</th>\n",
       "      <td>96</td>\n",
       "      <td>95</td>\n",
       "      <td>98.958333</td>\n",
       "    </tr>\n",
       "    <tr>\n",
       "      <th>Isaac Booi</th>\n",
       "      <td>144</td>\n",
       "      <td>142</td>\n",
       "      <td>98.611111</td>\n",
       "    </tr>\n",
       "    <tr>\n",
       "      <th>Fumisukoma</th>\n",
       "      <td>143</td>\n",
       "      <td>141</td>\n",
       "      <td>98.601399</td>\n",
       "    </tr>\n",
       "    <tr>\n",
       "      <th>Ben Sinuka</th>\n",
       "      <td>48</td>\n",
       "      <td>47</td>\n",
       "      <td>97.916667</td>\n",
       "    </tr>\n",
       "    <tr>\n",
       "      <th>Ebongweni</th>\n",
       "      <td>47</td>\n",
       "      <td>46</td>\n",
       "      <td>97.872340</td>\n",
       "    </tr>\n",
       "    <tr>\n",
       "      <th>Empumalanga</th>\n",
       "      <td>59</td>\n",
       "      <td>57</td>\n",
       "      <td>96.610169</td>\n",
       "    </tr>\n",
       "    <tr>\n",
       "      <th>Seyisi</th>\n",
       "      <td>126</td>\n",
       "      <td>121</td>\n",
       "      <td>96.031746</td>\n",
       "    </tr>\n",
       "    <tr>\n",
       "      <th>Aaron Gqadu</th>\n",
       "      <td>44</td>\n",
       "      <td>41</td>\n",
       "      <td>93.181818</td>\n",
       "    </tr>\n",
       "    <tr>\n",
       "      <th>Molefe</th>\n",
       "      <td>46</td>\n",
       "      <td>40</td>\n",
       "      <td>86.956522</td>\n",
       "    </tr>\n",
       "    <tr>\n",
       "      <th>Sandwater</th>\n",
       "      <td>46</td>\n",
       "      <td>32</td>\n",
       "      <td>69.565217</td>\n",
       "    </tr>\n",
       "    <tr>\n",
       "      <th>Khanyisa</th>\n",
       "      <td>24</td>\n",
       "      <td>0</td>\n",
       "      <td>0.000000</td>\n",
       "    </tr>\n",
       "    <tr>\n",
       "      <th>Mzingisi</th>\n",
       "      <td>44</td>\n",
       "      <td>0</td>\n",
       "      <td>0.000000</td>\n",
       "    </tr>\n",
       "    <tr>\n",
       "      <th>Phakamile</th>\n",
       "      <td>48</td>\n",
       "      <td>0</td>\n",
       "      <td>0.000000</td>\n",
       "    </tr>\n",
       "    <tr>\n",
       "      <th>St Augustines</th>\n",
       "      <td>32</td>\n",
       "      <td>0</td>\n",
       "      <td>0.000000</td>\n",
       "    </tr>\n",
       "    <tr>\n",
       "      <th>Zukisa</th>\n",
       "      <td>32</td>\n",
       "      <td>0</td>\n",
       "      <td>0.000000</td>\n",
       "    </tr>\n",
       "  </tbody>\n",
       "</table>\n",
       "</div>"
      ],
      "text/plain": [
       "               Number of Children  Number of Children Assessed  \\\n",
       "Schools                                                          \n",
       "Astra                          55                           55   \n",
       "Charles Duna                   96                           95   \n",
       "Isaac Booi                    144                          142   \n",
       "Fumisukoma                    143                          141   \n",
       "Ben Sinuka                     48                           47   \n",
       "Ebongweni                      47                           46   \n",
       "Empumalanga                    59                           57   \n",
       "Seyisi                        126                          121   \n",
       "Aaron Gqadu                    44                           41   \n",
       "Molefe                         46                           40   \n",
       "Sandwater                      46                           32   \n",
       "Khanyisa                       24                            0   \n",
       "Mzingisi                       44                            0   \n",
       "Phakamile                      48                            0   \n",
       "St Augustines                  32                            0   \n",
       "Zukisa                         32                            0   \n",
       "\n",
       "               Percentage Assessed  \n",
       "Schools                             \n",
       "Astra                   100.000000  \n",
       "Charles Duna             98.958333  \n",
       "Isaac Booi               98.611111  \n",
       "Fumisukoma               98.601399  \n",
       "Ben Sinuka               97.916667  \n",
       "Ebongweni                97.872340  \n",
       "Empumalanga              96.610169  \n",
       "Seyisi                   96.031746  \n",
       "Aaron Gqadu              93.181818  \n",
       "Molefe                   86.956522  \n",
       "Sandwater                69.565217  \n",
       "Khanyisa                  0.000000  \n",
       "Mzingisi                  0.000000  \n",
       "Phakamile                 0.000000  \n",
       "St Augustines             0.000000  \n",
       "Zukisa                    0.000000  "
      ]
     },
     "execution_count": 213,
     "metadata": {},
     "output_type": "execute_result"
    }
   ],
   "source": [
    "primary_all = children_all[children_all['Grade'] != 'PreR']\n",
    "primary_on_all = primary_all[primary_all['On The Programme'] == 'Yes']\n",
    "gbo_all = primary_all.groupby('Schools')\n",
    "gbo_on_all = primary_on_all.groupby('Schools')\n",
    "\n",
    "total_children = gbo_on_all['Full Name'].count()\n",
    "total_children_assessed = gbo_on_all['June - Phonics'].count()\n",
    "\n",
    "percent_assessed = (total_children_assessed / total_children) * 100\n",
    "\n",
    "\n",
    "df_assessed = pd.DataFrame({'Number of Children': total_children, \n",
    "                          'Number of Children Assessed': total_children_assessed, \n",
    "                          'Percentage Assessed': percent_assessed})\n",
    "df_assessed.sort_values('Percentage Assessed', ascending=False)"
   ]
  },
  {
   "cell_type": "code",
   "execution_count": 214,
   "id": "275576d3",
   "metadata": {},
   "outputs": [
    {
     "data": {
      "text/plain": [
       "Schools       On The Programme\n",
       "Aaron Gqadu   Yes                  41\n",
       "              No                    2\n",
       "Astra         Yes                  55\n",
       "              No                    1\n",
       "Ben Sinuka    Yes                  47\n",
       "Charles Duna  Yes                  95\n",
       "              Unsure                1\n",
       "Ebongweni     Yes                  46\n",
       "              No                    1\n",
       "              Unsure                1\n",
       "Empumalanga   Yes                  57\n",
       "Fumisukoma    Yes                 141\n",
       "              No                    1\n",
       "Isaac Booi    Yes                 142\n",
       "Molefe        Yes                  38\n",
       "Seyisi        Yes                 121\n",
       "              No                    8\n",
       "Name: On The Programme, dtype: int64"
      ]
     },
     "execution_count": 214,
     "metadata": {},
     "output_type": "execute_result"
    }
   ],
   "source": [
    "df_all = primary.groupby('Schools')['On The Programme'].value_counts()\n",
    "pd.set_option('display.max_rows', None)\n",
    "df_all"
   ]
  },
  {
   "cell_type": "markdown",
   "id": "61576f11",
   "metadata": {},
   "source": [
    "# Average Number of Sessions per Child"
   ]
  },
  {
   "cell_type": "code",
   "execution_count": 215,
   "id": "f458c9e4",
   "metadata": {},
   "outputs": [
    {
     "data": {
      "text/plain": [
       "Schools\n",
       "Fumisukoma      18.147887\n",
       "Seyisi          17.504274\n",
       "Isaac Booi      16.838028\n",
       "Aaron Gqadu     16.780488\n",
       "Ebongweni       13.478261\n",
       "Ben Sinuka      13.022222\n",
       "Molefe          11.515152\n",
       "Charles Duna    10.831579\n",
       "Empumalanga     10.716981\n",
       "Astra            7.545455\n",
       "Name: Total Sessions, dtype: float64"
      ]
     },
     "execution_count": 215,
     "metadata": {},
     "output_type": "execute_result"
    }
   ],
   "source": [
    "df = gbo['Total Sessions'].mean()\n",
    "df.sort_values(ascending=False)"
   ]
  },
  {
   "cell_type": "code",
   "execution_count": null,
   "id": "d0f7c8d3",
   "metadata": {},
   "outputs": [],
   "source": []
  },
  {
   "cell_type": "markdown",
   "id": "1759c91c",
   "metadata": {},
   "source": [
    "# Whole School Results"
   ]
  },
  {
   "cell_type": "code",
   "execution_count": 216,
   "id": "e39cd413",
   "metadata": {},
   "outputs": [
    {
     "data": {
      "image/png": "[encoded data removed]",
      "text/plain": [
       "<Figure size 1500x600 with 1 Axes>"
      ]
     },
     "metadata": {},
     "output_type": "display_data"
    }
   ],
   "source": [
    "# First, calculate the order of schools based on the mean of 'June - Total Improvement'\n",
    "order = primary_on.groupby('Schools')['June - Total Improvement'].mean().sort_values(ascending=False).index\n",
    "\n",
    "fig, ax = plt.subplots(figsize=(15, 6))\n",
    "\n",
    "# Then, pass this order to the 'order' parameter in the barplot function\n",
    "sns.barplot(data=primary_on, x='Schools', y='June - Total Improvement', order=order, errorbar=None, ax=ax, palette=\"rocket\")\n",
    "plt.title(\"Average Progress of Children by School\")\n",
    "plt.xticks(rotation=90)\n",
    "plt.show()"
   ]
  },
  {
   "cell_type": "code",
   "execution_count": 217,
   "id": "83c3841c",
   "metadata": {
    "scrolled": false
   },
   "outputs": [
    {
     "data": {
      "text/html": [
       "<div>\n",
       "<style scoped>\n",
       "    .dataframe tbody tr th:only-of-type {\n",
       "        vertical-align: middle;\n",
       "    }\n",
       "\n",
       "    .dataframe tbody tr th {\n",
       "        vertical-align: top;\n",
       "    }\n",
       "\n",
       "    .dataframe thead th {\n",
       "        text-align: right;\n",
       "    }\n",
       "</style>\n",
       "<table border=\"1\" class=\"dataframe\">\n",
       "  <thead>\n",
       "    <tr style=\"text-align: right;\">\n",
       "      <th></th>\n",
       "      <th>June - Listen First Sound Improvement</th>\n",
       "      <th>June - Listen Word Improvement</th>\n",
       "      <th>June - Phonics Improvement</th>\n",
       "      <th>June - Blends Improvement</th>\n",
       "      <th>June - Sight Words Improvement</th>\n",
       "      <th>June - Read Sentences Improvement</th>\n",
       "      <th>June - Read Story Improvement</th>\n",
       "      <th>June - Written Letters Improvement</th>\n",
       "      <th>June - Write CVCs Improvement</th>\n",
       "      <th>June - Write Sentence Improvement</th>\n",
       "      <th>June - Total Improvement</th>\n",
       "    </tr>\n",
       "    <tr>\n",
       "      <th>Schools</th>\n",
       "      <th></th>\n",
       "      <th></th>\n",
       "      <th></th>\n",
       "      <th></th>\n",
       "      <th></th>\n",
       "      <th></th>\n",
       "      <th></th>\n",
       "      <th></th>\n",
       "      <th></th>\n",
       "      <th></th>\n",
       "      <th></th>\n",
       "    </tr>\n",
       "  </thead>\n",
       "  <tbody>\n",
       "    <tr>\n",
       "      <th>Ebongweni</th>\n",
       "      <td>5.043478</td>\n",
       "      <td>4.869565</td>\n",
       "      <td>11.478261</td>\n",
       "      <td>1.391304</td>\n",
       "      <td>2.608696</td>\n",
       "      <td>1.478261</td>\n",
       "      <td>1.586957</td>\n",
       "      <td>8.565217</td>\n",
       "      <td>4.347826</td>\n",
       "      <td>3.630435</td>\n",
       "      <td>46.065217</td>\n",
       "    </tr>\n",
       "    <tr>\n",
       "      <th>Fumisukoma</th>\n",
       "      <td>2.007092</td>\n",
       "      <td>1.921986</td>\n",
       "      <td>5.312057</td>\n",
       "      <td>1.489362</td>\n",
       "      <td>4.460993</td>\n",
       "      <td>2.049645</td>\n",
       "      <td>12.631206</td>\n",
       "      <td>4.007092</td>\n",
       "      <td>1.865248</td>\n",
       "      <td>7.794326</td>\n",
       "      <td>44.163121</td>\n",
       "    </tr>\n",
       "    <tr>\n",
       "      <th>Seyisi</th>\n",
       "      <td>2.380165</td>\n",
       "      <td>3.231405</td>\n",
       "      <td>8.173554</td>\n",
       "      <td>1.677686</td>\n",
       "      <td>3.752066</td>\n",
       "      <td>0.793388</td>\n",
       "      <td>7.041322</td>\n",
       "      <td>4.900826</td>\n",
       "      <td>2.115702</td>\n",
       "      <td>2.578512</td>\n",
       "      <td>37.239669</td>\n",
       "    </tr>\n",
       "    <tr>\n",
       "      <th>Ben Sinuka</th>\n",
       "      <td>1.829787</td>\n",
       "      <td>1.468085</td>\n",
       "      <td>4.446809</td>\n",
       "      <td>1.553191</td>\n",
       "      <td>4.744681</td>\n",
       "      <td>3.085106</td>\n",
       "      <td>8.702128</td>\n",
       "      <td>3.148936</td>\n",
       "      <td>1.255319</td>\n",
       "      <td>5.297872</td>\n",
       "      <td>36.148936</td>\n",
       "    </tr>\n",
       "    <tr>\n",
       "      <th>Molefe</th>\n",
       "      <td>3.605263</td>\n",
       "      <td>3.500000</td>\n",
       "      <td>7.710526</td>\n",
       "      <td>1.631579</td>\n",
       "      <td>1.973684</td>\n",
       "      <td>1.184211</td>\n",
       "      <td>0.157895</td>\n",
       "      <td>8.236842</td>\n",
       "      <td>4.289474</td>\n",
       "      <td>2.447368</td>\n",
       "      <td>35.368421</td>\n",
       "    </tr>\n",
       "    <tr>\n",
       "      <th>Charles Duna</th>\n",
       "      <td>2.684211</td>\n",
       "      <td>1.473684</td>\n",
       "      <td>8.105263</td>\n",
       "      <td>0.600000</td>\n",
       "      <td>1.473684</td>\n",
       "      <td>1.010526</td>\n",
       "      <td>1.757895</td>\n",
       "      <td>6.789474</td>\n",
       "      <td>2.431579</td>\n",
       "      <td>5.936842</td>\n",
       "      <td>32.968421</td>\n",
       "    </tr>\n",
       "    <tr>\n",
       "      <th>Empumalanga</th>\n",
       "      <td>1.807018</td>\n",
       "      <td>1.631579</td>\n",
       "      <td>10.508772</td>\n",
       "      <td>1.561404</td>\n",
       "      <td>1.614035</td>\n",
       "      <td>1.333333</td>\n",
       "      <td>3.087719</td>\n",
       "      <td>7.596491</td>\n",
       "      <td>2.929825</td>\n",
       "      <td>0.421053</td>\n",
       "      <td>32.824561</td>\n",
       "    </tr>\n",
       "    <tr>\n",
       "      <th>Astra</th>\n",
       "      <td>1.345455</td>\n",
       "      <td>1.890909</td>\n",
       "      <td>4.745455</td>\n",
       "      <td>1.872727</td>\n",
       "      <td>2.672727</td>\n",
       "      <td>1.945455</td>\n",
       "      <td>3.309091</td>\n",
       "      <td>3.981818</td>\n",
       "      <td>2.636364</td>\n",
       "      <td>7.818182</td>\n",
       "      <td>32.381818</td>\n",
       "    </tr>\n",
       "    <tr>\n",
       "      <th>Isaac Booi</th>\n",
       "      <td>1.211268</td>\n",
       "      <td>2.070423</td>\n",
       "      <td>3.633803</td>\n",
       "      <td>0.577465</td>\n",
       "      <td>1.225352</td>\n",
       "      <td>0.746479</td>\n",
       "      <td>2.161972</td>\n",
       "      <td>3.373239</td>\n",
       "      <td>1.570423</td>\n",
       "      <td>2.091549</td>\n",
       "      <td>19.028169</td>\n",
       "    </tr>\n",
       "    <tr>\n",
       "      <th>Aaron Gqadu</th>\n",
       "      <td>2.658537</td>\n",
       "      <td>1.609756</td>\n",
       "      <td>5.000000</td>\n",
       "      <td>0.658537</td>\n",
       "      <td>0.975610</td>\n",
       "      <td>0.146341</td>\n",
       "      <td>0.048780</td>\n",
       "      <td>4.268293</td>\n",
       "      <td>1.853659</td>\n",
       "      <td>1.073171</td>\n",
       "      <td>18.902439</td>\n",
       "    </tr>\n",
       "  </tbody>\n",
       "</table>\n",
       "</div>"
      ],
      "text/plain": [
       "              June - Listen First Sound Improvement  \\\n",
       "Schools                                               \n",
       "Ebongweni                                  5.043478   \n",
       "Fumisukoma                                 2.007092   \n",
       "Seyisi                                     2.380165   \n",
       "Ben Sinuka                                 1.829787   \n",
       "Molefe                                     3.605263   \n",
       "Charles Duna                               2.684211   \n",
       "Empumalanga                                1.807018   \n",
       "Astra                                      1.345455   \n",
       "Isaac Booi                                 1.211268   \n",
       "Aaron Gqadu                                2.658537   \n",
       "\n",
       "              June - Listen Word Improvement  June - Phonics Improvement  \\\n",
       "Schools                                                                    \n",
       "Ebongweni                           4.869565                   11.478261   \n",
       "Fumisukoma                          1.921986                    5.312057   \n",
       "Seyisi                              3.231405                    8.173554   \n",
       "Ben Sinuka                          1.468085                    4.446809   \n",
       "Molefe                              3.500000                    7.710526   \n",
       "Charles Duna                        1.473684                    8.105263   \n",
       "Empumalanga                         1.631579                   10.508772   \n",
       "Astra                               1.890909                    4.745455   \n",
       "Isaac Booi                          2.070423                    3.633803   \n",
       "Aaron Gqadu                         1.609756                    5.000000   \n",
       "\n",
       "              June - Blends Improvement  June - Sight Words Improvement  \\\n",
       "Schools                                                                   \n",
       "Ebongweni                      1.391304                        2.608696   \n",
       "Fumisukoma                     1.489362                        4.460993   \n",
       "Seyisi                         1.677686                        3.752066   \n",
       "Ben Sinuka                     1.553191                        4.744681   \n",
       "Molefe                         1.631579                        1.973684   \n",
       "Charles Duna                   0.600000                        1.473684   \n",
       "Empumalanga                    1.561404                        1.614035   \n",
       "Astra                          1.872727                        2.672727   \n",
       "Isaac Booi                     0.577465                        1.225352   \n",
       "Aaron Gqadu                    0.658537                        0.975610   \n",
       "\n",
       "              June - Read Sentences Improvement  \\\n",
       "Schools                                           \n",
       "Ebongweni                              1.478261   \n",
       "Fumisukoma                             2.049645   \n",
       "Seyisi                                 0.793388   \n",
       "Ben Sinuka                             3.085106   \n",
       "Molefe                                 1.184211   \n",
       "Charles Duna                           1.010526   \n",
       "Empumalanga                            1.333333   \n",
       "Astra                                  1.945455   \n",
       "Isaac Booi                             0.746479   \n",
       "Aaron Gqadu                            0.146341   \n",
       "\n",
       "              June - Read Story Improvement  \\\n",
       "Schools                                       \n",
       "Ebongweni                          1.586957   \n",
       "Fumisukoma                        12.631206   \n",
       "Seyisi                             7.041322   \n",
       "Ben Sinuka                         8.702128   \n",
       "Molefe                             0.157895   \n",
       "Charles Duna                       1.757895   \n",
       "Empumalanga                        3.087719   \n",
       "Astra                              3.309091   \n",
       "Isaac Booi                         2.161972   \n",
       "Aaron Gqadu                        0.048780   \n",
       "\n",
       "              June - Written Letters Improvement  \\\n",
       "Schools                                            \n",
       "Ebongweni                               8.565217   \n",
       "Fumisukoma                              4.007092   \n",
       "Seyisi                                  4.900826   \n",
       "Ben Sinuka                              3.148936   \n",
       "Molefe                                  8.236842   \n",
       "Charles Duna                            6.789474   \n",
       "Empumalanga                             7.596491   \n",
       "Astra                                   3.981818   \n",
       "Isaac Booi                              3.373239   \n",
       "Aaron Gqadu                             4.268293   \n",
       "\n",
       "              June - Write CVCs Improvement  \\\n",
       "Schools                                       \n",
       "Ebongweni                          4.347826   \n",
       "Fumisukoma                         1.865248   \n",
       "Seyisi                             2.115702   \n",
       "Ben Sinuka                         1.255319   \n",
       "Molefe                             4.289474   \n",
       "Charles Duna                       2.431579   \n",
       "Empumalanga                        2.929825   \n",
       "Astra                              2.636364   \n",
       "Isaac Booi                         1.570423   \n",
       "Aaron Gqadu                        1.853659   \n",
       "\n",
       "              June - Write Sentence Improvement  June - Total Improvement  \n",
       "Schools                                                                    \n",
       "Ebongweni                              3.630435                 46.065217  \n",
       "Fumisukoma                             7.794326                 44.163121  \n",
       "Seyisi                                 2.578512                 37.239669  \n",
       "Ben Sinuka                             5.297872                 36.148936  \n",
       "Molefe                                 2.447368                 35.368421  \n",
       "Charles Duna                           5.936842                 32.968421  \n",
       "Empumalanga                            0.421053                 32.824561  \n",
       "Astra                                  7.818182                 32.381818  \n",
       "Isaac Booi                             2.091549                 19.028169  \n",
       "Aaron Gqadu                            1.073171                 18.902439  "
      ]
     },
     "execution_count": 217,
     "metadata": {},
     "output_type": "execute_result"
    }
   ],
   "source": [
    "df_improvement = gbo_on[improvement_columns].mean()\n",
    "df_improvement.sort_values('June - Total Improvement', ascending=False)"
   ]
  },
  {
   "cell_type": "markdown",
   "id": "4dd264ae",
   "metadata": {},
   "source": [
    "# Grade R Results"
   ]
  },
  {
   "cell_type": "code",
   "execution_count": 218,
   "id": "072fe001",
   "metadata": {},
   "outputs": [
    {
     "data": {
      "application/vnd.plotly.v1+json": {
       "config": {
        "plotlyServerURL": "https://plotly.com"
       },
       "data": [
        {
         "name": "January Total",
         "type": "bar",
         "x": [
          "Ebongweni",
          "Charles Duna",
          "Seyisi",
          "Molefe",
          "Aaron Gqadu",
          "Empumalanga",
          "Fumisukoma",
          "Isaac Booi",
          "Ben Sinuka",
          "Astra"
         ],
         "y": [
          4.9,
          9.428571428571429,
          4.72,
          6.909090909090909,
          5.555555555555555,
          3.875,
          1.6666666666666667,
          3.5,
          0.5714285714285714,
          2.6923076923076925
         ]
        },
        {
         "name": "June Total",
         "type": "bar",
         "x": [
          "Ebongweni",
          "Charles Duna",
          "Seyisi",
          "Molefe",
          "Aaron Gqadu",
          "Empumalanga",
          "Fumisukoma",
          "Isaac Booi",
          "Ben Sinuka",
          "Astra"
         ],
         "y": [
          33.7,
          29.285714285714285,
          28.16,
          24.545454545454547,
          21.27777777777778,
          20.375,
          19.133333333333333,
          16.08695652173913,
          13.714285714285714,
          12.461538461538462
         ]
        }
       ],
       "layout": {
        "barmode": "group",
        "template": {
         "data": {
          "bar": [
           {
            "error_x": {
             "color": "#2a3f5f"
            },
            "error_y": {
             "color": "#2a3f5f"
            },
            "marker": {
             "line": {
              "color": "#E5ECF6",
              "width": 0.5
             },
             "pattern": {
              "fillmode": "overlay",
              "size": 10,
              "solidity": 0.2
             }
            },
            "type": "bar"
           }
          ],
          "barpolar": [
           {
            "marker": {
             "line": {
              "color": "#E5ECF6",
              "width": 0.5
             },
             "pattern": {
              "fillmode": "overlay",
              "size": 10,
              "solidity": 0.2
             }
            },
            "type": "barpolar"
           }
          ],
          "carpet": [
           {
            "aaxis": {
             "endlinecolor": "#2a3f5f",
             "gridcolor": "white",
             "linecolor": "white",
             "minorgridcolor": "white",
             "startlinecolor": "#2a3f5f"
            },
            "baxis": {
             "endlinecolor": "#2a3f5f",
             "gridcolor": "white",
             "linecolor": "white",
             "minorgridcolor": "white",
             "startlinecolor": "#2a3f5f"
            },
            "type": "carpet"
           }
          ],
          "choropleth": [
           {
            "colorbar": {
             "outlinewidth": 0,
             "ticks": ""
            },
            "type": "choropleth"
           }
          ],
          "contour": [
           {
            "colorbar": {
             "outlinewidth": 0,
             "ticks": ""
            },
            "colorscale": [
             [
              0,
              "#0d0887"
             ],
             [
              0.1111111111111111,
              "#46039f"
             ],
             [
              0.2222222222222222,
              "#7201a8"
             ],
             [
              0.3333333333333333,
              "#9c179e"
             ],
             [
              0.4444444444444444,
              "#bd3786"
             ],
             [
              0.5555555555555556,
              "#d8576b"
             ],
             [
              0.6666666666666666,
              "#ed7953"
             ],
             [
              0.7777777777777778,
              "#fb9f3a"
             ],
             [
              0.8888888888888888,
              "#fdca26"
             ],
             [
              1,
              "#f0f921"
             ]
            ],
            "type": "contour"
           }
          ],
          "contourcarpet": [
           {
            "colorbar": {
             "outlinewidth": 0,
             "ticks": ""
            },
            "type": "contourcarpet"
           }
          ],
          "heatmap": [
           {
            "colorbar": {
             "outlinewidth": 0,
             "ticks": ""
            },
            "colorscale": [
             [
              0,
              "#0d0887"
             ],
             [
              0.1111111111111111,
              "#46039f"
             ],
             [
              0.2222222222222222,
              "#7201a8"
             ],
             [
              0.3333333333333333,
              "#9c179e"
             ],
             [
              0.4444444444444444,
              "#bd3786"
             ],
             [
              0.5555555555555556,
              "#d8576b"
             ],
             [
              0.6666666666666666,
              "#ed7953"
             ],
             [
              0.7777777777777778,
              "#fb9f3a"
             ],
             [
              0.8888888888888888,
              "#fdca26"
             ],
             [
              1,
              "#f0f921"
             ]
            ],
            "type": "heatmap"
           }
          ],
          "heatmapgl": [
           {
            "colorbar": {
             "outlinewidth": 0,
             "ticks": ""
            },
            "colorscale": [
             [
              0,
              "#0d0887"
             ],
             [
              0.1111111111111111,
              "#46039f"
             ],
             [
              0.2222222222222222,
              "#7201a8"
             ],
             [
              0.3333333333333333,
              "#9c179e"
             ],
             [
              0.4444444444444444,
              "#bd3786"
             ],
             [
              0.5555555555555556,
              "#d8576b"
             ],
             [
              0.6666666666666666,
              "#ed7953"
             ],
             [
              0.7777777777777778,
              "#fb9f3a"
             ],
             [
              0.8888888888888888,
              "#fdca26"
             ],
             [
              1,
              "#f0f921"
             ]
            ],
            "type": "heatmapgl"
           }
          ],
          "histogram": [
           {
            "marker": {
             "pattern": {
              "fillmode": "overlay",
              "size": 10,
              "solidity": 0.2
             }
            },
            "type": "histogram"
           }
          ],
          "histogram2d": [
           {
            "colorbar": {
             "outlinewidth": 0,
             "ticks": ""
            },
            "colorscale": [
             [
              0,
              "#0d0887"
             ],
             [
              0.1111111111111111,
              "#46039f"
             ],
             [
              0.2222222222222222,
              "#7201a8"
             ],
             [
              0.3333333333333333,
              "#9c179e"
             ],
             [
              0.4444444444444444,
              "#bd3786"
             ],
             [
              0.5555555555555556,
              "#d8576b"
             ],
             [
              0.6666666666666666,
              "#ed7953"
             ],
             [
              0.7777777777777778,
              "#fb9f3a"
             ],
             [
              0.8888888888888888,
              "#fdca26"
             ],
             [
              1,
              "#f0f921"
             ]
            ],
            "type": "histogram2d"
           }
          ],
          "histogram2dcontour": [
           {
            "colorbar": {
             "outlinewidth": 0,
             "ticks": ""
            },
            "colorscale": [
             [
              0,
              "#0d0887"
             ],
             [
              0.1111111111111111,
              "#46039f"
             ],
             [
              0.2222222222222222,
              "#7201a8"
             ],
             [
              0.3333333333333333,
              "#9c179e"
             ],
             [
              0.4444444444444444,
              "#bd3786"
             ],
             [
              0.5555555555555556,
              "#d8576b"
             ],
             [
              0.6666666666666666,
              "#ed7953"
             ],
             [
              0.7777777777777778,
              "#fb9f3a"
             ],
             [
              0.8888888888888888,
              "#fdca26"
             ],
             [
              1,
              "#f0f921"
             ]
            ],
            "type": "histogram2dcontour"
           }
          ],
          "mesh3d": [
           {
            "colorbar": {
             "outlinewidth": 0,
             "ticks": ""
            },
            "type": "mesh3d"
           }
          ],
          "parcoords": [
           {
            "line": {
             "colorbar": {
              "outlinewidth": 0,
              "ticks": ""
             }
            },
            "type": "parcoords"
           }
          ],
          "pie": [
           {
            "automargin": true,
            "type": "pie"
           }
          ],
          "scatter": [
           {
            "fillpattern": {
             "fillmode": "overlay",
             "size": 10,
             "solidity": 0.2
            },
            "type": "scatter"
           }
          ],
          "scatter3d": [
           {
            "line": {
             "colorbar": {
              "outlinewidth": 0,
              "ticks": ""
             }
            },
            "marker": {
             "colorbar": {
              "outlinewidth": 0,
              "ticks": ""
             }
            },
            "type": "scatter3d"
           }
          ],
          "scattercarpet": [
           {
            "marker": {
             "colorbar": {
              "outlinewidth": 0,
              "ticks": ""
             }
            },
            "type": "scattercarpet"
           }
          ],
          "scattergeo": [
           {
            "marker": {
             "colorbar": {
              "outlinewidth": 0,
              "ticks": ""
             }
            },
            "type": "scattergeo"
           }
          ],
          "scattergl": [
           {
            "marker": {
             "colorbar": {
              "outlinewidth": 0,
              "ticks": ""
             }
            },
            "type": "scattergl"
           }
          ],
          "scattermapbox": [
           {
            "marker": {
             "colorbar": {
              "outlinewidth": 0,
              "ticks": ""
             }
            },
            "type": "scattermapbox"
           }
          ],
          "scatterpolar": [
           {
            "marker": {
             "colorbar": {
              "outlinewidth": 0,
              "ticks": ""
             }
            },
            "type": "scatterpolar"
           }
          ],
          "scatterpolargl": [
           {
            "marker": {
             "colorbar": {
              "outlinewidth": 0,
              "ticks": ""
             }
            },
            "type": "scatterpolargl"
           }
          ],
          "scatterternary": [
           {
            "marker": {
             "colorbar": {
              "outlinewidth": 0,
              "ticks": ""
             }
            },
            "type": "scatterternary"
           }
          ],
          "surface": [
           {
            "colorbar": {
             "outlinewidth": 0,
             "ticks": ""
            },
            "colorscale": [
             [
              0,
              "#0d0887"
             ],
             [
              0.1111111111111111,
              "#46039f"
             ],
             [
              0.2222222222222222,
              "#7201a8"
             ],
             [
              0.3333333333333333,
              "#9c179e"
             ],
             [
              0.4444444444444444,
              "#bd3786"
             ],
             [
              0.5555555555555556,
              "#d8576b"
             ],
             [
              0.6666666666666666,
              "#ed7953"
             ],
             [
              0.7777777777777778,
              "#fb9f3a"
             ],
             [
              0.8888888888888888,
              "#fdca26"
             ],
             [
              1,
              "#f0f921"
             ]
            ],
            "type": "surface"
           }
          ],
          "table": [
           {
            "cells": {
             "fill": {
              "color": "#EBF0F8"
             },
             "line": {
              "color": "white"
             }
            },
            "header": {
             "fill": {
              "color": "#C8D4E3"
             },
             "line": {
              "color": "white"
             }
            },
            "type": "table"
           }
          ]
         },
         "layout": {
          "annotationdefaults": {
           "arrowcolor": "#2a3f5f",
           "arrowhead": 0,
           "arrowwidth": 1
          },
          "autotypenumbers": "strict",
          "coloraxis": {
           "colorbar": {
            "outlinewidth": 0,
            "ticks": ""
           }
          },
          "colorscale": {
           "diverging": [
            [
             0,
             "#8e0152"
            ],
            [
             0.1,
             "#c51b7d"
            ],
            [
             0.2,
             "#de77ae"
            ],
            [
             0.3,
             "#f1b6da"
            ],
            [
             0.4,
             "#fde0ef"
            ],
            [
             0.5,
             "#f7f7f7"
            ],
            [
             0.6,
             "#e6f5d0"
            ],
            [
             0.7,
             "#b8e186"
            ],
            [
             0.8,
             "#7fbc41"
            ],
            [
             0.9,
             "#4d9221"
            ],
            [
             1,
             "#276419"
            ]
           ],
           "sequential": [
            [
             0,
             "#0d0887"
            ],
            [
             0.1111111111111111,
             "#46039f"
            ],
            [
             0.2222222222222222,
             "#7201a8"
            ],
            [
             0.3333333333333333,
             "#9c179e"
            ],
            [
             0.4444444444444444,
             "#bd3786"
            ],
            [
             0.5555555555555556,
             "#d8576b"
            ],
            [
             0.6666666666666666,
             "#ed7953"
            ],
            [
             0.7777777777777778,
             "#fb9f3a"
            ],
            [
             0.8888888888888888,
             "#fdca26"
            ],
            [
             1,
             "#f0f921"
            ]
           ],
           "sequentialminus": [
            [
             0,
             "#0d0887"
            ],
            [
             0.1111111111111111,
             "#46039f"
            ],
            [
             0.2222222222222222,
             "#7201a8"
            ],
            [
             0.3333333333333333,
             "#9c179e"
            ],
            [
             0.4444444444444444,
             "#bd3786"
            ],
            [
             0.5555555555555556,
             "#d8576b"
            ],
            [
             0.6666666666666666,
             "#ed7953"
            ],
            [
             0.7777777777777778,
             "#fb9f3a"
            ],
            [
             0.8888888888888888,
             "#fdca26"
            ],
            [
             1,
             "#f0f921"
            ]
           ]
          },
          "colorway": [
           "#636efa",
           "#EF553B",
           "#00cc96",
           "#ab63fa",
           "#FFA15A",
           "#19d3f3",
           "#FF6692",
           "#B6E880",
           "#FF97FF",
           "#FECB52"
          ],
          "font": {
           "color": "#2a3f5f"
          },
          "geo": {
           "bgcolor": "white",
           "lakecolor": "white",
           "landcolor": "#E5ECF6",
           "showlakes": true,
           "showland": true,
           "subunitcolor": "white"
          },
          "hoverlabel": {
           "align": "left"
          },
          "hovermode": "closest",
          "mapbox": {
           "style": "light"
          },
          "paper_bgcolor": "white",
          "plot_bgcolor": "#E5ECF6",
          "polar": {
           "angularaxis": {
            "gridcolor": "white",
            "linecolor": "white",
            "ticks": ""
           },
           "bgcolor": "#E5ECF6",
           "radialaxis": {
            "gridcolor": "white",
            "linecolor": "white",
            "ticks": ""
           }
          },
          "scene": {
           "xaxis": {
            "backgroundcolor": "#E5ECF6",
            "gridcolor": "white",
            "gridwidth": 2,
            "linecolor": "white",
            "showbackground": true,
            "ticks": "",
            "zerolinecolor": "white"
           },
           "yaxis": {
            "backgroundcolor": "#E5ECF6",
            "gridcolor": "white",
            "gridwidth": 2,
            "linecolor": "white",
            "showbackground": true,
            "ticks": "",
            "zerolinecolor": "white"
           },
           "zaxis": {
            "backgroundcolor": "#E5ECF6",
            "gridcolor": "white",
            "gridwidth": 2,
            "linecolor": "white",
            "showbackground": true,
            "ticks": "",
            "zerolinecolor": "white"
           }
          },
          "shapedefaults": {
           "line": {
            "color": "#2a3f5f"
           }
          },
          "ternary": {
           "aaxis": {
            "gridcolor": "white",
            "linecolor": "white",
            "ticks": ""
           },
           "baxis": {
            "gridcolor": "white",
            "linecolor": "white",
            "ticks": ""
           },
           "bgcolor": "#E5ECF6",
           "caxis": {
            "gridcolor": "white",
            "linecolor": "white",
            "ticks": ""
           }
          },
          "title": {
           "x": 0.05
          },
          "xaxis": {
           "automargin": true,
           "gridcolor": "white",
           "linecolor": "white",
           "ticks": "",
           "title": {
            "standoff": 15
           },
           "zerolinecolor": "white",
           "zerolinewidth": 2
          },
          "yaxis": {
           "automargin": true,
           "gridcolor": "white",
           "linecolor": "white",
           "ticks": "",
           "title": {
            "standoff": 15
           },
           "zerolinecolor": "white",
           "zerolinewidth": 2
          }
         }
        },
        "title": {
         "text": "Average Total Scores for January and June"
        },
        "xaxis": {
         "title": {
          "text": "Schools"
         }
        },
        "yaxis": {
         "title": {
          "text": "Average Total Scores"
         }
        }
       }
      },
      "text/html": [
       "<div>                            <div id=\"c468f0bb-3cc0-4b6c-9304-83dc57f80729\" class=\"plotly-graph-div\" style=\"height:525px; width:100%;\"></div>            <script type=\"text/javascript\">                require([\"plotly\"], function(Plotly) {                    window.PLOTLYENV=window.PLOTLYENV || {};                                    if (document.getElementById(\"c468f0bb-3cc0-4b6c-9304-83dc57f80729\")) {                    Plotly.newPlot(                        \"c468f0bb-3cc0-4b6c-9304-83dc57f80729\",                        [{\"name\":\"January Total\",\"x\":[\"Ebongweni\",\"Charles Duna\",\"Seyisi\",\"Molefe\",\"Aaron Gqadu\",\"Empumalanga\",\"Fumisukoma\",\"Isaac Booi\",\"Ben Sinuka\",\"Astra\"],\"y\":[4.9,9.428571428571429,4.72,6.909090909090909,5.555555555555555,3.875,1.6666666666666667,3.5,0.5714285714285714,2.6923076923076925],\"type\":\"bar\"},{\"name\":\"June Total\",\"x\":[\"Ebongweni\",\"Charles Duna\",\"Seyisi\",\"Molefe\",\"Aaron Gqadu\",\"Empumalanga\",\"Fumisukoma\",\"Isaac Booi\",\"Ben Sinuka\",\"Astra\"],\"y\":[33.7,29.285714285714285,28.16,24.545454545454547,21.27777777777778,20.375,19.133333333333333,16.08695652173913,13.714285714285714,12.461538461538462],\"type\":\"bar\"}],                        {\"barmode\":\"group\",\"title\":{\"text\":\"Average Total Scores for January and June\"},\"xaxis\":{\"title\":{\"text\":\"Schools\"}},\"yaxis\":{\"title\":{\"text\":\"Average Total Scores\"}},\"template\":{\"data\":{\"histogram2dcontour\":[{\"type\":\"histogram2dcontour\",\"colorbar\":{\"outlinewidth\":0,\"ticks\":\"\"},\"colorscale\":[[0.0,\"#0d0887\"],[0.1111111111111111,\"#46039f\"],[0.2222222222222222,\"#7201a8\"],[0.3333333333333333,\"#9c179e\"],[0.4444444444444444,\"#bd3786\"],[0.5555555555555556,\"#d8576b\"],[0.6666666666666666,\"#ed7953\"],[0.7777777777777778,\"#fb9f3a\"],[0.8888888888888888,\"#fdca26\"],[1.0,\"#f0f921\"]]}],\"choropleth\":[{\"type\":\"choropleth\",\"colorbar\":{\"outlinewidth\":0,\"ticks\":\"\"}}],\"histogram2d\":[{\"type\":\"histogram2d\",\"colorbar\":{\"outlinewidth\":0,\"ticks\":\"\"},\"colorscale\":[[0.0,\"#0d0887\"],[0.1111111111111111,\"#46039f\"],[0.2222222222222222,\"#7201a8\"],[0.3333333333333333,\"#9c179e\"],[0.4444444444444444,\"#bd3786\"],[0.5555555555555556,\"#d8576b\"],[0.6666666666666666,\"#ed7953\"],[0.7777777777777778,\"#fb9f3a\"],[0.8888888888888888,\"#fdca26\"],[1.0,\"#f0f921\"]]}],\"heatmap\":[{\"type\":\"heatmap\",\"colorbar\":{\"outlinewidth\":0,\"ticks\":\"\"},\"colorscale\":[[0.0,\"#0d0887\"],[0.1111111111111111,\"#46039f\"],[0.2222222222222222,\"#7201a8\"],[0.3333333333333333,\"#9c179e\"],[0.4444444444444444,\"#bd3786\"],[0.5555555555555556,\"#d8576b\"],[0.6666666666666666,\"#ed7953\"],[0.7777777777777778,\"#fb9f3a\"],[0.8888888888888888,\"#fdca26\"],[1.0,\"#f0f921\"]]}],\"heatmapgl\":[{\"type\":\"heatmapgl\",\"colorbar\":{\"outlinewidth\":0,\"ticks\":\"\"},\"colorscale\":[[0.0,\"#0d0887\"],[0.1111111111111111,\"#46039f\"],[0.2222222222222222,\"#7201a8\"],[0.3333333333333333,\"#9c179e\"],[0.4444444444444444,\"#bd3786\"],[0.5555555555555556,\"#d8576b\"],[0.6666666666666666,\"#ed7953\"],[0.7777777777777778,\"#fb9f3a\"],[0.8888888888888888,\"#fdca26\"],[1.0,\"#f0f921\"]]}],\"contourcarpet\":[{\"type\":\"contourcarpet\",\"colorbar\":{\"outlinewidth\":0,\"ticks\":\"\"}}],\"contour\":[{\"type\":\"contour\",\"colorbar\":{\"outlinewidth\":0,\"ticks\":\"\"},\"colorscale\":[[0.0,\"#0d0887\"],[0.1111111111111111,\"#46039f\"],[0.2222222222222222,\"#7201a8\"],[0.3333333333333333,\"#9c179e\"],[0.4444444444444444,\"#bd3786\"],[0.5555555555555556,\"#d8576b\"],[0.6666666666666666,\"#ed7953\"],[0.7777777777777778,\"#fb9f3a\"],[0.8888888888888888,\"#fdca26\"],[1.0,\"#f0f921\"]]}],\"surface\":[{\"type\":\"surface\",\"colorbar\":{\"outlinewidth\":0,\"ticks\":\"\"},\"colorscale\":[[0.0,\"#0d0887\"],[0.1111111111111111,\"#46039f\"],[0.2222222222222222,\"#7201a8\"],[0.3333333333333333,\"#9c179e\"],[0.4444444444444444,\"#bd3786\"],[0.5555555555555556,\"#d8576b\"],[0.6666666666666666,\"#ed7953\"],[0.7777777777777778,\"#fb9f3a\"],[0.8888888888888888,\"#fdca26\"],[1.0,\"#f0f921\"]]}],\"mesh3d\":[{\"type\":\"mesh3d\",\"colorbar\":{\"outlinewidth\":0,\"ticks\":\"\"}}],\"scatter\":[{\"fillpattern\":{\"fillmode\":\"overlay\",\"size\":10,\"solidity\":0.2},\"type\":\"scatter\"}],\"parcoords\":[{\"type\":\"parcoords\",\"line\":{\"colorbar\":{\"outlinewidth\":0,\"ticks\":\"\"}}}],\"scatterpolargl\":[{\"type\":\"scatterpolargl\",\"marker\":{\"colorbar\":{\"outlinewidth\":0,\"ticks\":\"\"}}}],\"bar\":[{\"error_x\":{\"color\":\"#2a3f5f\"},\"error_y\":{\"color\":\"#2a3f5f\"},\"marker\":{\"line\":{\"color\":\"#E5ECF6\",\"width\":0.5},\"pattern\":{\"fillmode\":\"overlay\",\"size\":10,\"solidity\":0.2}},\"type\":\"bar\"}],\"scattergeo\":[{\"type\":\"scattergeo\",\"marker\":{\"colorbar\":{\"outlinewidth\":0,\"ticks\":\"\"}}}],\"scatterpolar\":[{\"type\":\"scatterpolar\",\"marker\":{\"colorbar\":{\"outlinewidth\":0,\"ticks\":\"\"}}}],\"histogram\":[{\"marker\":{\"pattern\":{\"fillmode\":\"overlay\",\"size\":10,\"solidity\":0.2}},\"type\":\"histogram\"}],\"scattergl\":[{\"type\":\"scattergl\",\"marker\":{\"colorbar\":{\"outlinewidth\":0,\"ticks\":\"\"}}}],\"scatter3d\":[{\"type\":\"scatter3d\",\"line\":{\"colorbar\":{\"outlinewidth\":0,\"ticks\":\"\"}},\"marker\":{\"colorbar\":{\"outlinewidth\":0,\"ticks\":\"\"}}}],\"scattermapbox\":[{\"type\":\"scattermapbox\",\"marker\":{\"colorbar\":{\"outlinewidth\":0,\"ticks\":\"\"}}}],\"scatterternary\":[{\"type\":\"scatterternary\",\"marker\":{\"colorbar\":{\"outlinewidth\":0,\"ticks\":\"\"}}}],\"scattercarpet\":[{\"type\":\"scattercarpet\",\"marker\":{\"colorbar\":{\"outlinewidth\":0,\"ticks\":\"\"}}}],\"carpet\":[{\"aaxis\":{\"endlinecolor\":\"#2a3f5f\",\"gridcolor\":\"white\",\"linecolor\":\"white\",\"minorgridcolor\":\"white\",\"startlinecolor\":\"#2a3f5f\"},\"baxis\":{\"endlinecolor\":\"#2a3f5f\",\"gridcolor\":\"white\",\"linecolor\":\"white\",\"minorgridcolor\":\"white\",\"startlinecolor\":\"#2a3f5f\"},\"type\":\"carpet\"}],\"table\":[{\"cells\":{\"fill\":{\"color\":\"#EBF0F8\"},\"line\":{\"color\":\"white\"}},\"header\":{\"fill\":{\"color\":\"#C8D4E3\"},\"line\":{\"color\":\"white\"}},\"type\":\"table\"}],\"barpolar\":[{\"marker\":{\"line\":{\"color\":\"#E5ECF6\",\"width\":0.5},\"pattern\":{\"fillmode\":\"overlay\",\"size\":10,\"solidity\":0.2}},\"type\":\"barpolar\"}],\"pie\":[{\"automargin\":true,\"type\":\"pie\"}]},\"layout\":{\"autotypenumbers\":\"strict\",\"colorway\":[\"#636efa\",\"#EF553B\",\"#00cc96\",\"#ab63fa\",\"#FFA15A\",\"#19d3f3\",\"#FF6692\",\"#B6E880\",\"#FF97FF\",\"#FECB52\"],\"font\":{\"color\":\"#2a3f5f\"},\"hovermode\":\"closest\",\"hoverlabel\":{\"align\":\"left\"},\"paper_bgcolor\":\"white\",\"plot_bgcolor\":\"#E5ECF6\",\"polar\":{\"bgcolor\":\"#E5ECF6\",\"angularaxis\":{\"gridcolor\":\"white\",\"linecolor\":\"white\",\"ticks\":\"\"},\"radialaxis\":{\"gridcolor\":\"white\",\"linecolor\":\"white\",\"ticks\":\"\"}},\"ternary\":{\"bgcolor\":\"#E5ECF6\",\"aaxis\":{\"gridcolor\":\"white\",\"linecolor\":\"white\",\"ticks\":\"\"},\"baxis\":{\"gridcolor\":\"white\",\"linecolor\":\"white\",\"ticks\":\"\"},\"caxis\":{\"gridcolor\":\"white\",\"linecolor\":\"white\",\"ticks\":\"\"}},\"coloraxis\":{\"colorbar\":{\"outlinewidth\":0,\"ticks\":\"\"}},\"colorscale\":{\"sequential\":[[0.0,\"#0d0887\"],[0.1111111111111111,\"#46039f\"],[0.2222222222222222,\"#7201a8\"],[0.3333333333333333,\"#9c179e\"],[0.4444444444444444,\"#bd3786\"],[0.5555555555555556,\"#d8576b\"],[0.6666666666666666,\"#ed7953\"],[0.7777777777777778,\"#fb9f3a\"],[0.8888888888888888,\"#fdca26\"],[1.0,\"#f0f921\"]],\"sequentialminus\":[[0.0,\"#0d0887\"],[0.1111111111111111,\"#46039f\"],[0.2222222222222222,\"#7201a8\"],[0.3333333333333333,\"#9c179e\"],[0.4444444444444444,\"#bd3786\"],[0.5555555555555556,\"#d8576b\"],[0.6666666666666666,\"#ed7953\"],[0.7777777777777778,\"#fb9f3a\"],[0.8888888888888888,\"#fdca26\"],[1.0,\"#f0f921\"]],\"diverging\":[[0,\"#8e0152\"],[0.1,\"#c51b7d\"],[0.2,\"#de77ae\"],[0.3,\"#f1b6da\"],[0.4,\"#fde0ef\"],[0.5,\"#f7f7f7\"],[0.6,\"#e6f5d0\"],[0.7,\"#b8e186\"],[0.8,\"#7fbc41\"],[0.9,\"#4d9221\"],[1,\"#276419\"]]},\"xaxis\":{\"gridcolor\":\"white\",\"linecolor\":\"white\",\"ticks\":\"\",\"title\":{\"standoff\":15},\"zerolinecolor\":\"white\",\"automargin\":true,\"zerolinewidth\":2},\"yaxis\":{\"gridcolor\":\"white\",\"linecolor\":\"white\",\"ticks\":\"\",\"title\":{\"standoff\":15},\"zerolinecolor\":\"white\",\"automargin\":true,\"zerolinewidth\":2},\"scene\":{\"xaxis\":{\"backgroundcolor\":\"#E5ECF6\",\"gridcolor\":\"white\",\"linecolor\":\"white\",\"showbackground\":true,\"ticks\":\"\",\"zerolinecolor\":\"white\",\"gridwidth\":2},\"yaxis\":{\"backgroundcolor\":\"#E5ECF6\",\"gridcolor\":\"white\",\"linecolor\":\"white\",\"showbackground\":true,\"ticks\":\"\",\"zerolinecolor\":\"white\",\"gridwidth\":2},\"zaxis\":{\"backgroundcolor\":\"#E5ECF6\",\"gridcolor\":\"white\",\"linecolor\":\"white\",\"showbackground\":true,\"ticks\":\"\",\"zerolinecolor\":\"white\",\"gridwidth\":2}},\"shapedefaults\":{\"line\":{\"color\":\"#2a3f5f\"}},\"annotationdefaults\":{\"arrowcolor\":\"#2a3f5f\",\"arrowhead\":0,\"arrowwidth\":1},\"geo\":{\"bgcolor\":\"white\",\"landcolor\":\"#E5ECF6\",\"subunitcolor\":\"white\",\"showland\":true,\"showlakes\":true,\"lakecolor\":\"white\"},\"title\":{\"x\":0.05},\"mapbox\":{\"style\":\"light\"}}}},                        {\"responsive\": true}                    ).then(function(){\n",
       "                            \n",
       "var gd = document.getElementById('c468f0bb-3cc0-4b6c-9304-83dc57f80729');\n",
       "var x = new MutationObserver(function (mutations, observer) {{\n",
       "        var display = window.getComputedStyle(gd).display;\n",
       "        if (!display || display === 'none') {{\n",
       "            console.log([gd, 'removed!']);\n",
       "            Plotly.purge(gd);\n",
       "            observer.disconnect();\n",
       "        }}\n",
       "}});\n",
       "\n",
       "// Listen for the removal of the full notebook cells\n",
       "var notebookContainer = gd.closest('#notebook-container');\n",
       "if (notebookContainer) {{\n",
       "    x.observe(notebookContainer, {childList: true});\n",
       "}}\n",
       "\n",
       "// Listen for the clearing of the current output cell\n",
       "var outputEl = gd.closest('.output');\n",
       "if (outputEl) {{\n",
       "    x.observe(outputEl, {childList: true});\n",
       "}}\n",
       "\n",
       "                        })                };                });            </script>        </div>"
      ]
     },
     "metadata": {},
     "output_type": "display_data"
    }
   ],
   "source": [
    "import plotly.graph_objects as go\n",
    "\n",
    "# Create a new DataFrame, with means and sorted by 'June - Total'\n",
    "GradeR_on_grouped = GradeR_on.groupby('Schools')[['Jan - Total', 'June - Total']].mean()\n",
    "GradeR_on_sorted = GradeR_on_grouped.sort_values('June - Total', ascending=False).reset_index()\n",
    "\n",
    "# Create bar traces for January and June\n",
    "trace1 = go.Bar(\n",
    "    x=GradeR_on_sorted['Schools'], \n",
    "    y=GradeR_on_sorted['Jan - Total'],\n",
    "    name='January Total'\n",
    ")\n",
    "\n",
    "trace2 = go.Bar(\n",
    "    x=GradeR_on_sorted['Schools'], \n",
    "    y=GradeR_on_sorted['June - Total'],\n",
    "    name='June Total'\n",
    ")\n",
    "\n",
    "# Combine the traces\n",
    "data = [trace1, trace2]\n",
    "\n",
    "# Create a layout with title and axis labels\n",
    "layout = go.Layout(\n",
    "    title='Average Total Scores for January and June',\n",
    "    barmode='group', # bars for the same x location will be placed beside each other\n",
    "    xaxis=dict(title='Schools'),\n",
    "    yaxis=dict(title='Average Total Scores')\n",
    ")\n",
    "\n",
    "# Create a Figure and plot it\n",
    "fig = go.Figure(data=data, layout=layout)\n",
    "fig.show()\n"
   ]
  },
  {
   "cell_type": "code",
   "execution_count": 219,
   "id": "c37f29b4",
   "metadata": {},
   "outputs": [
    {
     "data": {
      "image/png": "[encoded data removed]",
      "text/plain": [
       "<Figure size 1500x600 with 1 Axes>"
      ]
     },
     "metadata": {},
     "output_type": "display_data"
    }
   ],
   "source": [
    "# First, calculate the order of schools based on the mean of 'June - Total Improvement'\n",
    "order = GradeR_on.groupby('Schools')['June - Total Improvement'].mean().sort_values(ascending=False).index\n",
    "\n",
    "fig, ax = plt.subplots(figsize=(15, 6))\n",
    "\n",
    "# Then, pass this order to the 'order' parameter in the barplot function\n",
    "sns.barplot(data=GradeR_on, x='Schools', y='June - Total Improvement', order=order, errorbar=None, ax=ax, palette=\"rocket\")\n",
    "plt.title(\"Average Progress of Children by School\")\n",
    "plt.xticks(rotation=90)\n",
    "plt.show()"
   ]
  },
  {
   "cell_type": "code",
   "execution_count": 220,
   "id": "20b1f684",
   "metadata": {},
   "outputs": [
    {
     "data": {
      "text/html": [
       "<div>\n",
       "<style scoped>\n",
       "    .dataframe tbody tr th:only-of-type {\n",
       "        vertical-align: middle;\n",
       "    }\n",
       "\n",
       "    .dataframe tbody tr th {\n",
       "        vertical-align: top;\n",
       "    }\n",
       "\n",
       "    .dataframe thead th {\n",
       "        text-align: right;\n",
       "    }\n",
       "</style>\n",
       "<table border=\"1\" class=\"dataframe\">\n",
       "  <thead>\n",
       "    <tr style=\"text-align: right;\">\n",
       "      <th></th>\n",
       "      <th>June - Listen First Sound Improvement</th>\n",
       "      <th>June - Listen Word Improvement</th>\n",
       "      <th>June - Phonics Improvement</th>\n",
       "      <th>June - Blends Improvement</th>\n",
       "      <th>June - Sight Words Improvement</th>\n",
       "      <th>June - Read Sentences Improvement</th>\n",
       "      <th>June - Read Story Improvement</th>\n",
       "      <th>June - Written Letters Improvement</th>\n",
       "      <th>June - Write CVCs Improvement</th>\n",
       "      <th>June - Write Sentence Improvement</th>\n",
       "      <th>June - Total Improvement</th>\n",
       "    </tr>\n",
       "    <tr>\n",
       "      <th>Schools</th>\n",
       "      <th></th>\n",
       "      <th></th>\n",
       "      <th></th>\n",
       "      <th></th>\n",
       "      <th></th>\n",
       "      <th></th>\n",
       "      <th></th>\n",
       "      <th></th>\n",
       "      <th></th>\n",
       "      <th></th>\n",
       "      <th></th>\n",
       "    </tr>\n",
       "  </thead>\n",
       "  <tbody>\n",
       "    <tr>\n",
       "      <th>Ebongweni</th>\n",
       "      <td>6.450000</td>\n",
       "      <td>3.950000</td>\n",
       "      <td>7.550000</td>\n",
       "      <td>0.450000</td>\n",
       "      <td>1.000000</td>\n",
       "      <td>0.400000</td>\n",
       "      <td>0.100000</td>\n",
       "      <td>6.200000</td>\n",
       "      <td>0.850000</td>\n",
       "      <td>0.450000</td>\n",
       "      <td>28.800000</td>\n",
       "    </tr>\n",
       "    <tr>\n",
       "      <th>Seyisi</th>\n",
       "      <td>4.920000</td>\n",
       "      <td>3.960000</td>\n",
       "      <td>9.080000</td>\n",
       "      <td>0.120000</td>\n",
       "      <td>0.000000</td>\n",
       "      <td>0.000000</td>\n",
       "      <td>0.000000</td>\n",
       "      <td>3.800000</td>\n",
       "      <td>0.680000</td>\n",
       "      <td>0.000000</td>\n",
       "      <td>23.440000</td>\n",
       "    </tr>\n",
       "    <tr>\n",
       "      <th>Charles Duna</th>\n",
       "      <td>2.928571</td>\n",
       "      <td>0.142857</td>\n",
       "      <td>7.250000</td>\n",
       "      <td>0.071429</td>\n",
       "      <td>0.125000</td>\n",
       "      <td>0.089286</td>\n",
       "      <td>0.000000</td>\n",
       "      <td>6.410714</td>\n",
       "      <td>1.214286</td>\n",
       "      <td>0.589286</td>\n",
       "      <td>19.857143</td>\n",
       "    </tr>\n",
       "    <tr>\n",
       "      <th>Molefe</th>\n",
       "      <td>4.272727</td>\n",
       "      <td>1.727273</td>\n",
       "      <td>4.272727</td>\n",
       "      <td>0.272727</td>\n",
       "      <td>1.000000</td>\n",
       "      <td>0.000000</td>\n",
       "      <td>0.000000</td>\n",
       "      <td>4.545455</td>\n",
       "      <td>0.818182</td>\n",
       "      <td>0.000000</td>\n",
       "      <td>17.636364</td>\n",
       "    </tr>\n",
       "    <tr>\n",
       "      <th>Fumisukoma</th>\n",
       "      <td>5.133333</td>\n",
       "      <td>1.266667</td>\n",
       "      <td>5.200000</td>\n",
       "      <td>0.333333</td>\n",
       "      <td>0.133333</td>\n",
       "      <td>0.133333</td>\n",
       "      <td>0.000000</td>\n",
       "      <td>3.666667</td>\n",
       "      <td>0.333333</td>\n",
       "      <td>0.000000</td>\n",
       "      <td>17.466667</td>\n",
       "    </tr>\n",
       "    <tr>\n",
       "      <th>Empumalanga</th>\n",
       "      <td>2.625000</td>\n",
       "      <td>0.937500</td>\n",
       "      <td>8.187500</td>\n",
       "      <td>0.062500</td>\n",
       "      <td>0.062500</td>\n",
       "      <td>0.000000</td>\n",
       "      <td>0.000000</td>\n",
       "      <td>3.875000</td>\n",
       "      <td>0.437500</td>\n",
       "      <td>0.000000</td>\n",
       "      <td>16.500000</td>\n",
       "    </tr>\n",
       "    <tr>\n",
       "      <th>Aaron Gqadu</th>\n",
       "      <td>3.333333</td>\n",
       "      <td>0.944444</td>\n",
       "      <td>6.333333</td>\n",
       "      <td>0.055556</td>\n",
       "      <td>0.500000</td>\n",
       "      <td>0.000000</td>\n",
       "      <td>0.000000</td>\n",
       "      <td>3.277778</td>\n",
       "      <td>0.555556</td>\n",
       "      <td>0.277778</td>\n",
       "      <td>15.722222</td>\n",
       "    </tr>\n",
       "    <tr>\n",
       "      <th>Ben Sinuka</th>\n",
       "      <td>4.571429</td>\n",
       "      <td>5.000000</td>\n",
       "      <td>1.857143</td>\n",
       "      <td>0.000000</td>\n",
       "      <td>0.000000</td>\n",
       "      <td>0.142857</td>\n",
       "      <td>0.142857</td>\n",
       "      <td>0.142857</td>\n",
       "      <td>0.285714</td>\n",
       "      <td>0.000000</td>\n",
       "      <td>13.142857</td>\n",
       "    </tr>\n",
       "    <tr>\n",
       "      <th>Isaac Booi</th>\n",
       "      <td>2.282609</td>\n",
       "      <td>1.586957</td>\n",
       "      <td>3.326087</td>\n",
       "      <td>0.043478</td>\n",
       "      <td>0.086957</td>\n",
       "      <td>-0.021739</td>\n",
       "      <td>0.000000</td>\n",
       "      <td>3.565217</td>\n",
       "      <td>0.673913</td>\n",
       "      <td>0.173913</td>\n",
       "      <td>12.586957</td>\n",
       "    </tr>\n",
       "    <tr>\n",
       "      <th>Astra</th>\n",
       "      <td>2.153846</td>\n",
       "      <td>1.000000</td>\n",
       "      <td>3.538462</td>\n",
       "      <td>0.000000</td>\n",
       "      <td>0.076923</td>\n",
       "      <td>0.000000</td>\n",
       "      <td>0.000000</td>\n",
       "      <td>2.538462</td>\n",
       "      <td>0.000000</td>\n",
       "      <td>0.000000</td>\n",
       "      <td>9.769231</td>\n",
       "    </tr>\n",
       "  </tbody>\n",
       "</table>\n",
       "</div>"
      ],
      "text/plain": [
       "              June - Listen First Sound Improvement  \\\n",
       "Schools                                               \n",
       "Ebongweni                                  6.450000   \n",
       "Seyisi                                     4.920000   \n",
       "Charles Duna                               2.928571   \n",
       "Molefe                                     4.272727   \n",
       "Fumisukoma                                 5.133333   \n",
       "Empumalanga                                2.625000   \n",
       "Aaron Gqadu                                3.333333   \n",
       "Ben Sinuka                                 4.571429   \n",
       "Isaac Booi                                 2.282609   \n",
       "Astra                                      2.153846   \n",
       "\n",
       "              June - Listen Word Improvement  June - Phonics Improvement  \\\n",
       "Schools                                                                    \n",
       "Ebongweni                           3.950000                    7.550000   \n",
       "Seyisi                              3.960000                    9.080000   \n",
       "Charles Duna                        0.142857                    7.250000   \n",
       "Molefe                              1.727273                    4.272727   \n",
       "Fumisukoma                          1.266667                    5.200000   \n",
       "Empumalanga                         0.937500                    8.187500   \n",
       "Aaron Gqadu                         0.944444                    6.333333   \n",
       "Ben Sinuka                          5.000000                    1.857143   \n",
       "Isaac Booi                          1.586957                    3.326087   \n",
       "Astra                               1.000000                    3.538462   \n",
       "\n",
       "              June - Blends Improvement  June - Sight Words Improvement  \\\n",
       "Schools                                                                   \n",
       "Ebongweni                      0.450000                        1.000000   \n",
       "Seyisi                         0.120000                        0.000000   \n",
       "Charles Duna                   0.071429                        0.125000   \n",
       "Molefe                         0.272727                        1.000000   \n",
       "Fumisukoma                     0.333333                        0.133333   \n",
       "Empumalanga                    0.062500                        0.062500   \n",
       "Aaron Gqadu                    0.055556                        0.500000   \n",
       "Ben Sinuka                     0.000000                        0.000000   \n",
       "Isaac Booi                     0.043478                        0.086957   \n",
       "Astra                          0.000000                        0.076923   \n",
       "\n",
       "              June - Read Sentences Improvement  \\\n",
       "Schools                                           \n",
       "Ebongweni                              0.400000   \n",
       "Seyisi                                 0.000000   \n",
       "Charles Duna                           0.089286   \n",
       "Molefe                                 0.000000   \n",
       "Fumisukoma                             0.133333   \n",
       "Empumalanga                            0.000000   \n",
       "Aaron Gqadu                            0.000000   \n",
       "Ben Sinuka                             0.142857   \n",
       "Isaac Booi                            -0.021739   \n",
       "Astra                                  0.000000   \n",
       "\n",
       "              June - Read Story Improvement  \\\n",
       "Schools                                       \n",
       "Ebongweni                          0.100000   \n",
       "Seyisi                             0.000000   \n",
       "Charles Duna                       0.000000   \n",
       "Molefe                             0.000000   \n",
       "Fumisukoma                         0.000000   \n",
       "Empumalanga                        0.000000   \n",
       "Aaron Gqadu                        0.000000   \n",
       "Ben Sinuka                         0.142857   \n",
       "Isaac Booi                         0.000000   \n",
       "Astra                              0.000000   \n",
       "\n",
       "              June - Written Letters Improvement  \\\n",
       "Schools                                            \n",
       "Ebongweni                               6.200000   \n",
       "Seyisi                                  3.800000   \n",
       "Charles Duna                            6.410714   \n",
       "Molefe                                  4.545455   \n",
       "Fumisukoma                              3.666667   \n",
       "Empumalanga                             3.875000   \n",
       "Aaron Gqadu                             3.277778   \n",
       "Ben Sinuka                              0.142857   \n",
       "Isaac Booi                              3.565217   \n",
       "Astra                                   2.538462   \n",
       "\n",
       "              June - Write CVCs Improvement  \\\n",
       "Schools                                       \n",
       "Ebongweni                          0.850000   \n",
       "Seyisi                             0.680000   \n",
       "Charles Duna                       1.214286   \n",
       "Molefe                             0.818182   \n",
       "Fumisukoma                         0.333333   \n",
       "Empumalanga                        0.437500   \n",
       "Aaron Gqadu                        0.555556   \n",
       "Ben Sinuka                         0.285714   \n",
       "Isaac Booi                         0.673913   \n",
       "Astra                              0.000000   \n",
       "\n",
       "              June - Write Sentence Improvement  June - Total Improvement  \n",
       "Schools                                                                    \n",
       "Ebongweni                              0.450000                 28.800000  \n",
       "Seyisi                                 0.000000                 23.440000  \n",
       "Charles Duna                           0.589286                 19.857143  \n",
       "Molefe                                 0.000000                 17.636364  \n",
       "Fumisukoma                             0.000000                 17.466667  \n",
       "Empumalanga                            0.000000                 16.500000  \n",
       "Aaron Gqadu                            0.277778                 15.722222  \n",
       "Ben Sinuka                             0.000000                 13.142857  \n",
       "Isaac Booi                             0.173913                 12.586957  \n",
       "Astra                                  0.000000                  9.769231  "
      ]
     },
     "execution_count": 220,
     "metadata": {},
     "output_type": "execute_result"
    }
   ],
   "source": [
    "df_GradeR_improvement = gboR_on[improvement_columns].mean()\n",
    "df_GradeR_improvement.sort_values('June - Total Improvement', ascending=False)"
   ]
  },
  {
   "cell_type": "markdown",
   "id": "c8ad629f",
   "metadata": {},
   "source": [
    "# Grade 1 Summary"
   ]
  },
  {
   "cell_type": "code",
   "execution_count": 221,
   "id": "71302d29",
   "metadata": {},
   "outputs": [
    {
     "data": {
      "application/vnd.plotly.v1+json": {
       "config": {
        "plotlyServerURL": "https://plotly.com"
       },
       "data": [
        {
         "name": "January Total",
         "type": "bar",
         "x": [
          "Astra",
          "Charles Duna",
          "Ebongweni",
          "Empumalanga",
          "Fumisukoma",
          "Molefe",
          "Seyisi",
          "Isaac Booi",
          "Aaron Gqadu",
          "Ben Sinuka"
         ],
         "y": [
          62.07142857142857,
          48.666666666666664,
          28.346153846153847,
          34.073170731707314,
          33.924528301886795,
          21.444444444444443,
          31.127659574468087,
          41.71052631578947,
          29.782608695652176,
          13
         ]
        },
        {
         "name": "June Total",
         "type": "bar",
         "x": [
          "Astra",
          "Charles Duna",
          "Ebongweni",
          "Empumalanga",
          "Fumisukoma",
          "Molefe",
          "Seyisi",
          "Isaac Booi",
          "Aaron Gqadu",
          "Ben Sinuka"
         ],
         "y": [
          101.45238095238095,
          100.46153846153847,
          87.6923076923077,
          73.26829268292683,
          72.50943396226415,
          64.03703703703704,
          63.297872340425535,
          62.55263157894737,
          51.17391304347826,
          43.22222222222222
         ]
        }
       ],
       "layout": {
        "barmode": "group",
        "template": {
         "data": {
          "bar": [
           {
            "error_x": {
             "color": "#2a3f5f"
            },
            "error_y": {
             "color": "#2a3f5f"
            },
            "marker": {
             "line": {
              "color": "#E5ECF6",
              "width": 0.5
             },
             "pattern": {
              "fillmode": "overlay",
              "size": 10,
              "solidity": 0.2
             }
            },
            "type": "bar"
           }
          ],
          "barpolar": [
           {
            "marker": {
             "line": {
              "color": "#E5ECF6",
              "width": 0.5
             },
             "pattern": {
              "fillmode": "overlay",
              "size": 10,
              "solidity": 0.2
             }
            },
            "type": "barpolar"
           }
          ],
          "carpet": [
           {
            "aaxis": {
             "endlinecolor": "#2a3f5f",
             "gridcolor": "white",
             "linecolor": "white",
             "minorgridcolor": "white",
             "startlinecolor": "#2a3f5f"
            },
            "baxis": {
             "endlinecolor": "#2a3f5f",
             "gridcolor": "white",
             "linecolor": "white",
             "minorgridcolor": "white",
             "startlinecolor": "#2a3f5f"
            },
            "type": "carpet"
           }
          ],
          "choropleth": [
           {
            "colorbar": {
             "outlinewidth": 0,
             "ticks": ""
            },
            "type": "choropleth"
           }
          ],
          "contour": [
           {
            "colorbar": {
             "outlinewidth": 0,
             "ticks": ""
            },
            "colorscale": [
             [
              0,
              "#0d0887"
             ],
             [
              0.1111111111111111,
              "#46039f"
             ],
             [
              0.2222222222222222,
              "#7201a8"
             ],
             [
              0.3333333333333333,
              "#9c179e"
             ],
             [
              0.4444444444444444,
              "#bd3786"
             ],
             [
              0.5555555555555556,
              "#d8576b"
             ],
             [
              0.6666666666666666,
              "#ed7953"
             ],
             [
              0.7777777777777778,
              "#fb9f3a"
             ],
             [
              0.8888888888888888,
              "#fdca26"
             ],
             [
              1,
              "#f0f921"
             ]
            ],
            "type": "contour"
           }
          ],
          "contourcarpet": [
           {
            "colorbar": {
             "outlinewidth": 0,
             "ticks": ""
            },
            "type": "contourcarpet"
           }
          ],
          "heatmap": [
           {
            "colorbar": {
             "outlinewidth": 0,
             "ticks": ""
            },
            "colorscale": [
             [
              0,
              "#0d0887"
             ],
             [
              0.1111111111111111,
              "#46039f"
             ],
             [
              0.2222222222222222,
              "#7201a8"
             ],
             [
              0.3333333333333333,
              "#9c179e"
             ],
             [
              0.4444444444444444,
              "#bd3786"
             ],
             [
              0.5555555555555556,
              "#d8576b"
             ],
             [
              0.6666666666666666,
              "#ed7953"
             ],
             [
              0.7777777777777778,
              "#fb9f3a"
             ],
             [
              0.8888888888888888,
              "#fdca26"
             ],
             [
              1,
              "#f0f921"
             ]
            ],
            "type": "heatmap"
           }
          ],
          "heatmapgl": [
           {
            "colorbar": {
             "outlinewidth": 0,
             "ticks": ""
            },
            "colorscale": [
             [
              0,
              "#0d0887"
             ],
             [
              0.1111111111111111,
              "#46039f"
             ],
             [
              0.2222222222222222,
              "#7201a8"
             ],
             [
              0.3333333333333333,
              "#9c179e"
             ],
             [
              0.4444444444444444,
              "#bd3786"
             ],
             [
              0.5555555555555556,
              "#d8576b"
             ],
             [
              0.6666666666666666,
              "#ed7953"
             ],
             [
              0.7777777777777778,
              "#fb9f3a"
             ],
             [
              0.8888888888888888,
              "#fdca26"
             ],
             [
              1,
              "#f0f921"
             ]
            ],
            "type": "heatmapgl"
           }
          ],
          "histogram": [
           {
            "marker": {
             "pattern": {
              "fillmode": "overlay",
              "size": 10,
              "solidity": 0.2
             }
            },
            "type": "histogram"
           }
          ],
          "histogram2d": [
           {
            "colorbar": {
             "outlinewidth": 0,
             "ticks": ""
            },
            "colorscale": [
             [
              0,
              "#0d0887"
             ],
             [
              0.1111111111111111,
              "#46039f"
             ],
             [
              0.2222222222222222,
              "#7201a8"
             ],
             [
              0.3333333333333333,
              "#9c179e"
             ],
             [
              0.4444444444444444,
              "#bd3786"
             ],
             [
              0.5555555555555556,
              "#d8576b"
             ],
             [
              0.6666666666666666,
              "#ed7953"
             ],
             [
              0.7777777777777778,
              "#fb9f3a"
             ],
             [
              0.8888888888888888,
              "#fdca26"
             ],
             [
              1,
              "#f0f921"
             ]
            ],
            "type": "histogram2d"
           }
          ],
          "histogram2dcontour": [
           {
            "colorbar": {
             "outlinewidth": 0,
             "ticks": ""
            },
            "colorscale": [
             [
              0,
              "#0d0887"
             ],
             [
              0.1111111111111111,
              "#46039f"
             ],
             [
              0.2222222222222222,
              "#7201a8"
             ],
             [
              0.3333333333333333,
              "#9c179e"
             ],
             [
              0.4444444444444444,
              "#bd3786"
             ],
             [
              0.5555555555555556,
              "#d8576b"
             ],
             [
              0.6666666666666666,
              "#ed7953"
             ],
             [
              0.7777777777777778,
              "#fb9f3a"
             ],
             [
              0.8888888888888888,
              "#fdca26"
             ],
             [
              1,
              "#f0f921"
             ]
            ],
            "type": "histogram2dcontour"
           }
          ],
          "mesh3d": [
           {
            "colorbar": {
             "outlinewidth": 0,
             "ticks": ""
            },
            "type": "mesh3d"
           }
          ],
          "parcoords": [
           {
            "line": {
             "colorbar": {
              "outlinewidth": 0,
              "ticks": ""
             }
            },
            "type": "parcoords"
           }
          ],
          "pie": [
           {
            "automargin": true,
            "type": "pie"
           }
          ],
          "scatter": [
           {
            "fillpattern": {
             "fillmode": "overlay",
             "size": 10,
             "solidity": 0.2
            },
            "type": "scatter"
           }
          ],
          "scatter3d": [
           {
            "line": {
             "colorbar": {
              "outlinewidth": 0,
              "ticks": ""
             }
            },
            "marker": {
             "colorbar": {
              "outlinewidth": 0,
              "ticks": ""
             }
            },
            "type": "scatter3d"
           }
          ],
          "scattercarpet": [
           {
            "marker": {
             "colorbar": {
              "outlinewidth": 0,
              "ticks": ""
             }
            },
            "type": "scattercarpet"
           }
          ],
          "scattergeo": [
           {
            "marker": {
             "colorbar": {
              "outlinewidth": 0,
              "ticks": ""
             }
            },
            "type": "scattergeo"
           }
          ],
          "scattergl": [
           {
            "marker": {
             "colorbar": {
              "outlinewidth": 0,
              "ticks": ""
             }
            },
            "type": "scattergl"
           }
          ],
          "scattermapbox": [
           {
            "marker": {
             "colorbar": {
              "outlinewidth": 0,
              "ticks": ""
             }
            },
            "type": "scattermapbox"
           }
          ],
          "scatterpolar": [
           {
            "marker": {
             "colorbar": {
              "outlinewidth": 0,
              "ticks": ""
             }
            },
            "type": "scatterpolar"
           }
          ],
          "scatterpolargl": [
           {
            "marker": {
             "colorbar": {
              "outlinewidth": 0,
              "ticks": ""
             }
            },
            "type": "scatterpolargl"
           }
          ],
          "scatterternary": [
           {
            "marker": {
             "colorbar": {
              "outlinewidth": 0,
              "ticks": ""
             }
            },
            "type": "scatterternary"
           }
          ],
          "surface": [
           {
            "colorbar": {
             "outlinewidth": 0,
             "ticks": ""
            },
            "colorscale": [
             [
              0,
              "#0d0887"
             ],
             [
              0.1111111111111111,
              "#46039f"
             ],
             [
              0.2222222222222222,
              "#7201a8"
             ],
             [
              0.3333333333333333,
              "#9c179e"
             ],
             [
              0.4444444444444444,
              "#bd3786"
             ],
             [
              0.5555555555555556,
              "#d8576b"
             ],
             [
              0.6666666666666666,
              "#ed7953"
             ],
             [
              0.7777777777777778,
              "#fb9f3a"
             ],
             [
              0.8888888888888888,
              "#fdca26"
             ],
             [
              1,
              "#f0f921"
             ]
            ],
            "type": "surface"
           }
          ],
          "table": [
           {
            "cells": {
             "fill": {
              "color": "#EBF0F8"
             },
             "line": {
              "color": "white"
             }
            },
            "header": {
             "fill": {
              "color": "#C8D4E3"
             },
             "line": {
              "color": "white"
             }
            },
            "type": "table"
           }
          ]
         },
         "layout": {
          "annotationdefaults": {
           "arrowcolor": "#2a3f5f",
           "arrowhead": 0,
           "arrowwidth": 1
          },
          "autotypenumbers": "strict",
          "coloraxis": {
           "colorbar": {
            "outlinewidth": 0,
            "ticks": ""
           }
          },
          "colorscale": {
           "diverging": [
            [
             0,
             "#8e0152"
            ],
            [
             0.1,
             "#c51b7d"
            ],
            [
             0.2,
             "#de77ae"
            ],
            [
             0.3,
             "#f1b6da"
            ],
            [
             0.4,
             "#fde0ef"
            ],
            [
             0.5,
             "#f7f7f7"
            ],
            [
             0.6,
             "#e6f5d0"
            ],
            [
             0.7,
             "#b8e186"
            ],
            [
             0.8,
             "#7fbc41"
            ],
            [
             0.9,
             "#4d9221"
            ],
            [
             1,
             "#276419"
            ]
           ],
           "sequential": [
            [
             0,
             "#0d0887"
            ],
            [
             0.1111111111111111,
             "#46039f"
            ],
            [
             0.2222222222222222,
             "#7201a8"
            ],
            [
             0.3333333333333333,
             "#9c179e"
            ],
            [
             0.4444444444444444,
             "#bd3786"
            ],
            [
             0.5555555555555556,
             "#d8576b"
            ],
            [
             0.6666666666666666,
             "#ed7953"
            ],
            [
             0.7777777777777778,
             "#fb9f3a"
            ],
            [
             0.8888888888888888,
             "#fdca26"
            ],
            [
             1,
             "#f0f921"
            ]
           ],
           "sequentialminus": [
            [
             0,
             "#0d0887"
            ],
            [
             0.1111111111111111,
             "#46039f"
            ],
            [
             0.2222222222222222,
             "#7201a8"
            ],
            [
             0.3333333333333333,
             "#9c179e"
            ],
            [
             0.4444444444444444,
             "#bd3786"
            ],
            [
             0.5555555555555556,
             "#d8576b"
            ],
            [
             0.6666666666666666,
             "#ed7953"
            ],
            [
             0.7777777777777778,
             "#fb9f3a"
            ],
            [
             0.8888888888888888,
             "#fdca26"
            ],
            [
             1,
             "#f0f921"
            ]
           ]
          },
          "colorway": [
           "#636efa",
           "#EF553B",
           "#00cc96",
           "#ab63fa",
           "#FFA15A",
           "#19d3f3",
           "#FF6692",
           "#B6E880",
           "#FF97FF",
           "#FECB52"
          ],
          "font": {
           "color": "#2a3f5f"
          },
          "geo": {
           "bgcolor": "white",
           "lakecolor": "white",
           "landcolor": "#E5ECF6",
           "showlakes": true,
           "showland": true,
           "subunitcolor": "white"
          },
          "hoverlabel": {
           "align": "left"
          },
          "hovermode": "closest",
          "mapbox": {
           "style": "light"
          },
          "paper_bgcolor": "white",
          "plot_bgcolor": "#E5ECF6",
          "polar": {
           "angularaxis": {
            "gridcolor": "white",
            "linecolor": "white",
            "ticks": ""
           },
           "bgcolor": "#E5ECF6",
           "radialaxis": {
            "gridcolor": "white",
            "linecolor": "white",
            "ticks": ""
           }
          },
          "scene": {
           "xaxis": {
            "backgroundcolor": "#E5ECF6",
            "gridcolor": "white",
            "gridwidth": 2,
            "linecolor": "white",
            "showbackground": true,
            "ticks": "",
            "zerolinecolor": "white"
           },
           "yaxis": {
            "backgroundcolor": "#E5ECF6",
            "gridcolor": "white",
            "gridwidth": 2,
            "linecolor": "white",
            "showbackground": true,
            "ticks": "",
            "zerolinecolor": "white"
           },
           "zaxis": {
            "backgroundcolor": "#E5ECF6",
            "gridcolor": "white",
            "gridwidth": 2,
            "linecolor": "white",
            "showbackground": true,
            "ticks": "",
            "zerolinecolor": "white"
           }
          },
          "shapedefaults": {
           "line": {
            "color": "#2a3f5f"
           }
          },
          "ternary": {
           "aaxis": {
            "gridcolor": "white",
            "linecolor": "white",
            "ticks": ""
           },
           "baxis": {
            "gridcolor": "white",
            "linecolor": "white",
            "ticks": ""
           },
           "bgcolor": "#E5ECF6",
           "caxis": {
            "gridcolor": "white",
            "linecolor": "white",
            "ticks": ""
           }
          },
          "title": {
           "x": 0.05
          },
          "xaxis": {
           "automargin": true,
           "gridcolor": "white",
           "linecolor": "white",
           "ticks": "",
           "title": {
            "standoff": 15
           },
           "zerolinecolor": "white",
           "zerolinewidth": 2
          },
          "yaxis": {
           "automargin": true,
           "gridcolor": "white",
           "linecolor": "white",
           "ticks": "",
           "title": {
            "standoff": 15
           },
           "zerolinecolor": "white",
           "zerolinewidth": 2
          }
         }
        },
        "title": {
         "text": "Average Total Scores for January and June"
        },
        "xaxis": {
         "title": {
          "text": "Schools"
         }
        },
        "yaxis": {
         "title": {
          "text": "Average Total Scores"
         }
        }
       }
      },
      "text/html": [
       "<div>                            <div id=\"23e4080b-7a30-4f0a-9c44-b65d72e20135\" class=\"plotly-graph-div\" style=\"height:525px; width:100%;\"></div>            <script type=\"text/javascript\">                require([\"plotly\"], function(Plotly) {                    window.PLOTLYENV=window.PLOTLYENV || {};                                    if (document.getElementById(\"23e4080b-7a30-4f0a-9c44-b65d72e20135\")) {                    Plotly.newPlot(                        \"23e4080b-7a30-4f0a-9c44-b65d72e20135\",                        [{\"name\":\"January Total\",\"x\":[\"Astra\",\"Charles Duna\",\"Ebongweni\",\"Empumalanga\",\"Fumisukoma\",\"Molefe\",\"Seyisi\",\"Isaac Booi\",\"Aaron Gqadu\",\"Ben Sinuka\"],\"y\":[62.07142857142857,48.666666666666664,28.346153846153847,34.073170731707314,33.924528301886795,21.444444444444443,31.127659574468087,41.71052631578947,29.782608695652176,13.0],\"type\":\"bar\"},{\"name\":\"June Total\",\"x\":[\"Astra\",\"Charles Duna\",\"Ebongweni\",\"Empumalanga\",\"Fumisukoma\",\"Molefe\",\"Seyisi\",\"Isaac Booi\",\"Aaron Gqadu\",\"Ben Sinuka\"],\"y\":[101.45238095238095,100.46153846153847,87.6923076923077,73.26829268292683,72.50943396226415,64.03703703703704,63.297872340425535,62.55263157894737,51.17391304347826,43.22222222222222],\"type\":\"bar\"}],                        {\"barmode\":\"group\",\"title\":{\"text\":\"Average Total Scores for January and June\"},\"xaxis\":{\"title\":{\"text\":\"Schools\"}},\"yaxis\":{\"title\":{\"text\":\"Average Total Scores\"}},\"template\":{\"data\":{\"histogram2dcontour\":[{\"type\":\"histogram2dcontour\",\"colorbar\":{\"outlinewidth\":0,\"ticks\":\"\"},\"colorscale\":[[0.0,\"#0d0887\"],[0.1111111111111111,\"#46039f\"],[0.2222222222222222,\"#7201a8\"],[0.3333333333333333,\"#9c179e\"],[0.4444444444444444,\"#bd3786\"],[0.5555555555555556,\"#d8576b\"],[0.6666666666666666,\"#ed7953\"],[0.7777777777777778,\"#fb9f3a\"],[0.8888888888888888,\"#fdca26\"],[1.0,\"#f0f921\"]]}],\"choropleth\":[{\"type\":\"choropleth\",\"colorbar\":{\"outlinewidth\":0,\"ticks\":\"\"}}],\"histogram2d\":[{\"type\":\"histogram2d\",\"colorbar\":{\"outlinewidth\":0,\"ticks\":\"\"},\"colorscale\":[[0.0,\"#0d0887\"],[0.1111111111111111,\"#46039f\"],[0.2222222222222222,\"#7201a8\"],[0.3333333333333333,\"#9c179e\"],[0.4444444444444444,\"#bd3786\"],[0.5555555555555556,\"#d8576b\"],[0.6666666666666666,\"#ed7953\"],[0.7777777777777778,\"#fb9f3a\"],[0.8888888888888888,\"#fdca26\"],[1.0,\"#f0f921\"]]}],\"heatmap\":[{\"type\":\"heatmap\",\"colorbar\":{\"outlinewidth\":0,\"ticks\":\"\"},\"colorscale\":[[0.0,\"#0d0887\"],[0.1111111111111111,\"#46039f\"],[0.2222222222222222,\"#7201a8\"],[0.3333333333333333,\"#9c179e\"],[0.4444444444444444,\"#bd3786\"],[0.5555555555555556,\"#d8576b\"],[0.6666666666666666,\"#ed7953\"],[0.7777777777777778,\"#fb9f3a\"],[0.8888888888888888,\"#fdca26\"],[1.0,\"#f0f921\"]]}],\"heatmapgl\":[{\"type\":\"heatmapgl\",\"colorbar\":{\"outlinewidth\":0,\"ticks\":\"\"},\"colorscale\":[[0.0,\"#0d0887\"],[0.1111111111111111,\"#46039f\"],[0.2222222222222222,\"#7201a8\"],[0.3333333333333333,\"#9c179e\"],[0.4444444444444444,\"#bd3786\"],[0.5555555555555556,\"#d8576b\"],[0.6666666666666666,\"#ed7953\"],[0.7777777777777778,\"#fb9f3a\"],[0.8888888888888888,\"#fdca26\"],[1.0,\"#f0f921\"]]}],\"contourcarpet\":[{\"type\":\"contourcarpet\",\"colorbar\":{\"outlinewidth\":0,\"ticks\":\"\"}}],\"contour\":[{\"type\":\"contour\",\"colorbar\":{\"outlinewidth\":0,\"ticks\":\"\"},\"colorscale\":[[0.0,\"#0d0887\"],[0.1111111111111111,\"#46039f\"],[0.2222222222222222,\"#7201a8\"],[0.3333333333333333,\"#9c179e\"],[0.4444444444444444,\"#bd3786\"],[0.5555555555555556,\"#d8576b\"],[0.6666666666666666,\"#ed7953\"],[0.7777777777777778,\"#fb9f3a\"],[0.8888888888888888,\"#fdca26\"],[1.0,\"#f0f921\"]]}],\"surface\":[{\"type\":\"surface\",\"colorbar\":{\"outlinewidth\":0,\"ticks\":\"\"},\"colorscale\":[[0.0,\"#0d0887\"],[0.1111111111111111,\"#46039f\"],[0.2222222222222222,\"#7201a8\"],[0.3333333333333333,\"#9c179e\"],[0.4444444444444444,\"#bd3786\"],[0.5555555555555556,\"#d8576b\"],[0.6666666666666666,\"#ed7953\"],[0.7777777777777778,\"#fb9f3a\"],[0.8888888888888888,\"#fdca26\"],[1.0,\"#f0f921\"]]}],\"mesh3d\":[{\"type\":\"mesh3d\",\"colorbar\":{\"outlinewidth\":0,\"ticks\":\"\"}}],\"scatter\":[{\"fillpattern\":{\"fillmode\":\"overlay\",\"size\":10,\"solidity\":0.2},\"type\":\"scatter\"}],\"parcoords\":[{\"type\":\"parcoords\",\"line\":{\"colorbar\":{\"outlinewidth\":0,\"ticks\":\"\"}}}],\"scatterpolargl\":[{\"type\":\"scatterpolargl\",\"marker\":{\"colorbar\":{\"outlinewidth\":0,\"ticks\":\"\"}}}],\"bar\":[{\"error_x\":{\"color\":\"#2a3f5f\"},\"error_y\":{\"color\":\"#2a3f5f\"},\"marker\":{\"line\":{\"color\":\"#E5ECF6\",\"width\":0.5},\"pattern\":{\"fillmode\":\"overlay\",\"size\":10,\"solidity\":0.2}},\"type\":\"bar\"}],\"scattergeo\":[{\"type\":\"scattergeo\",\"marker\":{\"colorbar\":{\"outlinewidth\":0,\"ticks\":\"\"}}}],\"scatterpolar\":[{\"type\":\"scatterpolar\",\"marker\":{\"colorbar\":{\"outlinewidth\":0,\"ticks\":\"\"}}}],\"histogram\":[{\"marker\":{\"pattern\":{\"fillmode\":\"overlay\",\"size\":10,\"solidity\":0.2}},\"type\":\"histogram\"}],\"scattergl\":[{\"type\":\"scattergl\",\"marker\":{\"colorbar\":{\"outlinewidth\":0,\"ticks\":\"\"}}}],\"scatter3d\":[{\"type\":\"scatter3d\",\"line\":{\"colorbar\":{\"outlinewidth\":0,\"ticks\":\"\"}},\"marker\":{\"colorbar\":{\"outlinewidth\":0,\"ticks\":\"\"}}}],\"scattermapbox\":[{\"type\":\"scattermapbox\",\"marker\":{\"colorbar\":{\"outlinewidth\":0,\"ticks\":\"\"}}}],\"scatterternary\":[{\"type\":\"scatterternary\",\"marker\":{\"colorbar\":{\"outlinewidth\":0,\"ticks\":\"\"}}}],\"scattercarpet\":[{\"type\":\"scattercarpet\",\"marker\":{\"colorbar\":{\"outlinewidth\":0,\"ticks\":\"\"}}}],\"carpet\":[{\"aaxis\":{\"endlinecolor\":\"#2a3f5f\",\"gridcolor\":\"white\",\"linecolor\":\"white\",\"minorgridcolor\":\"white\",\"startlinecolor\":\"#2a3f5f\"},\"baxis\":{\"endlinecolor\":\"#2a3f5f\",\"gridcolor\":\"white\",\"linecolor\":\"white\",\"minorgridcolor\":\"white\",\"startlinecolor\":\"#2a3f5f\"},\"type\":\"carpet\"}],\"table\":[{\"cells\":{\"fill\":{\"color\":\"#EBF0F8\"},\"line\":{\"color\":\"white\"}},\"header\":{\"fill\":{\"color\":\"#C8D4E3\"},\"line\":{\"color\":\"white\"}},\"type\":\"table\"}],\"barpolar\":[{\"marker\":{\"line\":{\"color\":\"#E5ECF6\",\"width\":0.5},\"pattern\":{\"fillmode\":\"overlay\",\"size\":10,\"solidity\":0.2}},\"type\":\"barpolar\"}],\"pie\":[{\"automargin\":true,\"type\":\"pie\"}]},\"layout\":{\"autotypenumbers\":\"strict\",\"colorway\":[\"#636efa\",\"#EF553B\",\"#00cc96\",\"#ab63fa\",\"#FFA15A\",\"#19d3f3\",\"#FF6692\",\"#B6E880\",\"#FF97FF\",\"#FECB52\"],\"font\":{\"color\":\"#2a3f5f\"},\"hovermode\":\"closest\",\"hoverlabel\":{\"align\":\"left\"},\"paper_bgcolor\":\"white\",\"plot_bgcolor\":\"#E5ECF6\",\"polar\":{\"bgcolor\":\"#E5ECF6\",\"angularaxis\":{\"gridcolor\":\"white\",\"linecolor\":\"white\",\"ticks\":\"\"},\"radialaxis\":{\"gridcolor\":\"white\",\"linecolor\":\"white\",\"ticks\":\"\"}},\"ternary\":{\"bgcolor\":\"#E5ECF6\",\"aaxis\":{\"gridcolor\":\"white\",\"linecolor\":\"white\",\"ticks\":\"\"},\"baxis\":{\"gridcolor\":\"white\",\"linecolor\":\"white\",\"ticks\":\"\"},\"caxis\":{\"gridcolor\":\"white\",\"linecolor\":\"white\",\"ticks\":\"\"}},\"coloraxis\":{\"colorbar\":{\"outlinewidth\":0,\"ticks\":\"\"}},\"colorscale\":{\"sequential\":[[0.0,\"#0d0887\"],[0.1111111111111111,\"#46039f\"],[0.2222222222222222,\"#7201a8\"],[0.3333333333333333,\"#9c179e\"],[0.4444444444444444,\"#bd3786\"],[0.5555555555555556,\"#d8576b\"],[0.6666666666666666,\"#ed7953\"],[0.7777777777777778,\"#fb9f3a\"],[0.8888888888888888,\"#fdca26\"],[1.0,\"#f0f921\"]],\"sequentialminus\":[[0.0,\"#0d0887\"],[0.1111111111111111,\"#46039f\"],[0.2222222222222222,\"#7201a8\"],[0.3333333333333333,\"#9c179e\"],[0.4444444444444444,\"#bd3786\"],[0.5555555555555556,\"#d8576b\"],[0.6666666666666666,\"#ed7953\"],[0.7777777777777778,\"#fb9f3a\"],[0.8888888888888888,\"#fdca26\"],[1.0,\"#f0f921\"]],\"diverging\":[[0,\"#8e0152\"],[0.1,\"#c51b7d\"],[0.2,\"#de77ae\"],[0.3,\"#f1b6da\"],[0.4,\"#fde0ef\"],[0.5,\"#f7f7f7\"],[0.6,\"#e6f5d0\"],[0.7,\"#b8e186\"],[0.8,\"#7fbc41\"],[0.9,\"#4d9221\"],[1,\"#276419\"]]},\"xaxis\":{\"gridcolor\":\"white\",\"linecolor\":\"white\",\"ticks\":\"\",\"title\":{\"standoff\":15},\"zerolinecolor\":\"white\",\"automargin\":true,\"zerolinewidth\":2},\"yaxis\":{\"gridcolor\":\"white\",\"linecolor\":\"white\",\"ticks\":\"\",\"title\":{\"standoff\":15},\"zerolinecolor\":\"white\",\"automargin\":true,\"zerolinewidth\":2},\"scene\":{\"xaxis\":{\"backgroundcolor\":\"#E5ECF6\",\"gridcolor\":\"white\",\"linecolor\":\"white\",\"showbackground\":true,\"ticks\":\"\",\"zerolinecolor\":\"white\",\"gridwidth\":2},\"yaxis\":{\"backgroundcolor\":\"#E5ECF6\",\"gridcolor\":\"white\",\"linecolor\":\"white\",\"showbackground\":true,\"ticks\":\"\",\"zerolinecolor\":\"white\",\"gridwidth\":2},\"zaxis\":{\"backgroundcolor\":\"#E5ECF6\",\"gridcolor\":\"white\",\"linecolor\":\"white\",\"showbackground\":true,\"ticks\":\"\",\"zerolinecolor\":\"white\",\"gridwidth\":2}},\"shapedefaults\":{\"line\":{\"color\":\"#2a3f5f\"}},\"annotationdefaults\":{\"arrowcolor\":\"#2a3f5f\",\"arrowhead\":0,\"arrowwidth\":1},\"geo\":{\"bgcolor\":\"white\",\"landcolor\":\"#E5ECF6\",\"subunitcolor\":\"white\",\"showland\":true,\"showlakes\":true,\"lakecolor\":\"white\"},\"title\":{\"x\":0.05},\"mapbox\":{\"style\":\"light\"}}}},                        {\"responsive\": true}                    ).then(function(){\n",
       "                            \n",
       "var gd = document.getElementById('23e4080b-7a30-4f0a-9c44-b65d72e20135');\n",
       "var x = new MutationObserver(function (mutations, observer) {{\n",
       "        var display = window.getComputedStyle(gd).display;\n",
       "        if (!display || display === 'none') {{\n",
       "            console.log([gd, 'removed!']);\n",
       "            Plotly.purge(gd);\n",
       "            observer.disconnect();\n",
       "        }}\n",
       "}});\n",
       "\n",
       "// Listen for the removal of the full notebook cells\n",
       "var notebookContainer = gd.closest('#notebook-container');\n",
       "if (notebookContainer) {{\n",
       "    x.observe(notebookContainer, {childList: true});\n",
       "}}\n",
       "\n",
       "// Listen for the clearing of the current output cell\n",
       "var outputEl = gd.closest('.output');\n",
       "if (outputEl) {{\n",
       "    x.observe(outputEl, {childList: true});\n",
       "}}\n",
       "\n",
       "                        })                };                });            </script>        </div>"
      ]
     },
     "metadata": {},
     "output_type": "display_data"
    }
   ],
   "source": [
    "import plotly.graph_objects as go\n",
    "\n",
    "# Create a new DataFrame, with means and sorted by 'June - Total'\n",
    "Grade1_on_grouped = Grade1_on.groupby('Schools')[['Jan - Total', 'June - Total']].mean()\n",
    "Grade1_on_sorted = Grade1_on_grouped.sort_values('June - Total', ascending=False).reset_index()\n",
    "\n",
    "# Create bar traces for January and June\n",
    "trace1 = go.Bar(\n",
    "    x=Grade1_on_sorted['Schools'], \n",
    "    y=Grade1_on_sorted['Jan - Total'],\n",
    "    name='January Total'\n",
    ")\n",
    "\n",
    "trace2 = go.Bar(\n",
    "    x=Grade1_on_sorted['Schools'], \n",
    "    y=Grade1_on_sorted['June - Total'],\n",
    "    name='June Total'\n",
    ")\n",
    "\n",
    "# Combine the traces\n",
    "data = [trace1, trace2]\n",
    "\n",
    "# Create a layout with title and axis labels\n",
    "layout = go.Layout(\n",
    "    title='Average Total Scores for January and June',\n",
    "    barmode='group', # bars for the same x location will be placed beside each other\n",
    "    xaxis=dict(title='Schools'),\n",
    "    yaxis=dict(title='Average Total Scores')\n",
    ")\n",
    "\n",
    "# Create a Figure and plot it\n",
    "fig = go.Figure(data=data, layout=layout)\n",
    "fig.show()"
   ]
  },
  {
   "cell_type": "code",
   "execution_count": 222,
   "id": "ede304bf",
   "metadata": {},
   "outputs": [
    {
     "data": {
      "image/png": "[encoded data removed]",
      "text/plain": [
       "<Figure size 1500x600 with 1 Axes>"
      ]
     },
     "metadata": {},
     "output_type": "display_data"
    }
   ],
   "source": [
    "# First, calculate the order of schools based on the mean of 'June - Total Improvement'\n",
    "order = Grade1_on.groupby('Schools')['June - Total Improvement'].mean().sort_values(ascending=False).index\n",
    "\n",
    "fig, ax = plt.subplots(figsize=(15, 6))\n",
    "\n",
    "# Then, pass this order to the 'order' parameter in the barplot function\n",
    "sns.barplot(data=Grade1_on, x='Schools', y='June - Total Improvement', order=order, errorbar=None, ax=ax, palette=\"rocket\")\n",
    "plt.title(\"Average Progress of Children by School\")\n",
    "plt.xticks(rotation=90)\n",
    "plt.show()"
   ]
  },
  {
   "cell_type": "code",
   "execution_count": 223,
   "id": "a81acf86",
   "metadata": {
    "scrolled": false
   },
   "outputs": [
    {
     "data": {
      "text/html": [
       "<div>\n",
       "<style scoped>\n",
       "    .dataframe tbody tr th:only-of-type {\n",
       "        vertical-align: middle;\n",
       "    }\n",
       "\n",
       "    .dataframe tbody tr th {\n",
       "        vertical-align: top;\n",
       "    }\n",
       "\n",
       "    .dataframe thead th {\n",
       "        text-align: right;\n",
       "    }\n",
       "</style>\n",
       "<table border=\"1\" class=\"dataframe\">\n",
       "  <thead>\n",
       "    <tr style=\"text-align: right;\">\n",
       "      <th></th>\n",
       "      <th>June - Listen First Sound Improvement</th>\n",
       "      <th>June - Listen Word Improvement</th>\n",
       "      <th>June - Phonics Improvement</th>\n",
       "      <th>June - Blends Improvement</th>\n",
       "      <th>June - Sight Words Improvement</th>\n",
       "      <th>June - Read Sentences Improvement</th>\n",
       "      <th>June - Read Story Improvement</th>\n",
       "      <th>June - Written Letters Improvement</th>\n",
       "      <th>June - Write CVCs Improvement</th>\n",
       "      <th>June - Write Sentence Improvement</th>\n",
       "      <th>June - Total Improvement</th>\n",
       "    </tr>\n",
       "    <tr>\n",
       "      <th>Schools</th>\n",
       "      <th></th>\n",
       "      <th></th>\n",
       "      <th></th>\n",
       "      <th></th>\n",
       "      <th></th>\n",
       "      <th></th>\n",
       "      <th></th>\n",
       "      <th></th>\n",
       "      <th></th>\n",
       "      <th></th>\n",
       "      <th></th>\n",
       "    </tr>\n",
       "  </thead>\n",
       "  <tbody>\n",
       "    <tr>\n",
       "      <th>Ebongweni</th>\n",
       "      <td>3.961538</td>\n",
       "      <td>5.576923</td>\n",
       "      <td>14.500000</td>\n",
       "      <td>2.115385</td>\n",
       "      <td>3.846154</td>\n",
       "      <td>2.307692</td>\n",
       "      <td>2.730769</td>\n",
       "      <td>10.384615</td>\n",
       "      <td>7.038462</td>\n",
       "      <td>6.076923</td>\n",
       "      <td>59.346154</td>\n",
       "    </tr>\n",
       "    <tr>\n",
       "      <th>Charles Duna</th>\n",
       "      <td>2.333333</td>\n",
       "      <td>3.384615</td>\n",
       "      <td>9.333333</td>\n",
       "      <td>1.358974</td>\n",
       "      <td>3.410256</td>\n",
       "      <td>2.333333</td>\n",
       "      <td>4.282051</td>\n",
       "      <td>7.333333</td>\n",
       "      <td>4.179487</td>\n",
       "      <td>13.615385</td>\n",
       "      <td>51.794872</td>\n",
       "    </tr>\n",
       "    <tr>\n",
       "      <th>Molefe</th>\n",
       "      <td>3.333333</td>\n",
       "      <td>4.222222</td>\n",
       "      <td>9.111111</td>\n",
       "      <td>2.185185</td>\n",
       "      <td>2.370370</td>\n",
       "      <td>1.666667</td>\n",
       "      <td>0.222222</td>\n",
       "      <td>9.740741</td>\n",
       "      <td>5.703704</td>\n",
       "      <td>3.444444</td>\n",
       "      <td>42.592593</td>\n",
       "    </tr>\n",
       "    <tr>\n",
       "      <th>Astra</th>\n",
       "      <td>1.095238</td>\n",
       "      <td>2.166667</td>\n",
       "      <td>5.119048</td>\n",
       "      <td>2.452381</td>\n",
       "      <td>3.476190</td>\n",
       "      <td>2.547619</td>\n",
       "      <td>4.333333</td>\n",
       "      <td>4.428571</td>\n",
       "      <td>3.452381</td>\n",
       "      <td>10.238095</td>\n",
       "      <td>39.380952</td>\n",
       "    </tr>\n",
       "    <tr>\n",
       "      <th>Empumalanga</th>\n",
       "      <td>1.487805</td>\n",
       "      <td>1.902439</td>\n",
       "      <td>11.414634</td>\n",
       "      <td>2.146341</td>\n",
       "      <td>2.219512</td>\n",
       "      <td>1.853659</td>\n",
       "      <td>4.292683</td>\n",
       "      <td>9.048780</td>\n",
       "      <td>3.902439</td>\n",
       "      <td>0.585366</td>\n",
       "      <td>39.195122</td>\n",
       "    </tr>\n",
       "    <tr>\n",
       "      <th>Fumisukoma</th>\n",
       "      <td>2.924528</td>\n",
       "      <td>3.150943</td>\n",
       "      <td>9.452830</td>\n",
       "      <td>1.773585</td>\n",
       "      <td>2.698113</td>\n",
       "      <td>1.943396</td>\n",
       "      <td>2.245283</td>\n",
       "      <td>7.132075</td>\n",
       "      <td>4.490566</td>\n",
       "      <td>2.415094</td>\n",
       "      <td>38.584906</td>\n",
       "    </tr>\n",
       "    <tr>\n",
       "      <th>Seyisi</th>\n",
       "      <td>2.319149</td>\n",
       "      <td>4.191489</td>\n",
       "      <td>8.000000</td>\n",
       "      <td>1.446809</td>\n",
       "      <td>3.446809</td>\n",
       "      <td>0.468085</td>\n",
       "      <td>0.042553</td>\n",
       "      <td>6.361702</td>\n",
       "      <td>4.085106</td>\n",
       "      <td>1.510638</td>\n",
       "      <td>32.170213</td>\n",
       "    </tr>\n",
       "    <tr>\n",
       "      <th>Ben Sinuka</th>\n",
       "      <td>3.888889</td>\n",
       "      <td>3.666667</td>\n",
       "      <td>9.888889</td>\n",
       "      <td>1.666667</td>\n",
       "      <td>0.666667</td>\n",
       "      <td>0.000000</td>\n",
       "      <td>0.000000</td>\n",
       "      <td>6.777778</td>\n",
       "      <td>2.777778</td>\n",
       "      <td>0.000000</td>\n",
       "      <td>30.222222</td>\n",
       "    </tr>\n",
       "    <tr>\n",
       "      <th>Aaron Gqadu</th>\n",
       "      <td>2.130435</td>\n",
       "      <td>2.130435</td>\n",
       "      <td>3.956522</td>\n",
       "      <td>1.130435</td>\n",
       "      <td>1.347826</td>\n",
       "      <td>0.260870</td>\n",
       "      <td>0.086957</td>\n",
       "      <td>5.043478</td>\n",
       "      <td>2.869565</td>\n",
       "      <td>1.695652</td>\n",
       "      <td>21.391304</td>\n",
       "    </tr>\n",
       "    <tr>\n",
       "      <th>Isaac Booi</th>\n",
       "      <td>1.315789</td>\n",
       "      <td>2.973684</td>\n",
       "      <td>5.473684</td>\n",
       "      <td>0.447368</td>\n",
       "      <td>0.578947</td>\n",
       "      <td>0.184211</td>\n",
       "      <td>0.263158</td>\n",
       "      <td>5.684211</td>\n",
       "      <td>2.631579</td>\n",
       "      <td>1.078947</td>\n",
       "      <td>20.842105</td>\n",
       "    </tr>\n",
       "  </tbody>\n",
       "</table>\n",
       "</div>"
      ],
      "text/plain": [
       "              June - Listen First Sound Improvement  \\\n",
       "Schools                                               \n",
       "Ebongweni                                  3.961538   \n",
       "Charles Duna                               2.333333   \n",
       "Molefe                                     3.333333   \n",
       "Astra                                      1.095238   \n",
       "Empumalanga                                1.487805   \n",
       "Fumisukoma                                 2.924528   \n",
       "Seyisi                                     2.319149   \n",
       "Ben Sinuka                                 3.888889   \n",
       "Aaron Gqadu                                2.130435   \n",
       "Isaac Booi                                 1.315789   \n",
       "\n",
       "              June - Listen Word Improvement  June - Phonics Improvement  \\\n",
       "Schools                                                                    \n",
       "Ebongweni                           5.576923                   14.500000   \n",
       "Charles Duna                        3.384615                    9.333333   \n",
       "Molefe                              4.222222                    9.111111   \n",
       "Astra                               2.166667                    5.119048   \n",
       "Empumalanga                         1.902439                   11.414634   \n",
       "Fumisukoma                          3.150943                    9.452830   \n",
       "Seyisi                              4.191489                    8.000000   \n",
       "Ben Sinuka                          3.666667                    9.888889   \n",
       "Aaron Gqadu                         2.130435                    3.956522   \n",
       "Isaac Booi                          2.973684                    5.473684   \n",
       "\n",
       "              June - Blends Improvement  June - Sight Words Improvement  \\\n",
       "Schools                                                                   \n",
       "Ebongweni                      2.115385                        3.846154   \n",
       "Charles Duna                   1.358974                        3.410256   \n",
       "Molefe                         2.185185                        2.370370   \n",
       "Astra                          2.452381                        3.476190   \n",
       "Empumalanga                    2.146341                        2.219512   \n",
       "Fumisukoma                     1.773585                        2.698113   \n",
       "Seyisi                         1.446809                        3.446809   \n",
       "Ben Sinuka                     1.666667                        0.666667   \n",
       "Aaron Gqadu                    1.130435                        1.347826   \n",
       "Isaac Booi                     0.447368                        0.578947   \n",
       "\n",
       "              June - Read Sentences Improvement  \\\n",
       "Schools                                           \n",
       "Ebongweni                              2.307692   \n",
       "Charles Duna                           2.333333   \n",
       "Molefe                                 1.666667   \n",
       "Astra                                  2.547619   \n",
       "Empumalanga                            1.853659   \n",
       "Fumisukoma                             1.943396   \n",
       "Seyisi                                 0.468085   \n",
       "Ben Sinuka                             0.000000   \n",
       "Aaron Gqadu                            0.260870   \n",
       "Isaac Booi                             0.184211   \n",
       "\n",
       "              June - Read Story Improvement  \\\n",
       "Schools                                       \n",
       "Ebongweni                          2.730769   \n",
       "Charles Duna                       4.282051   \n",
       "Molefe                             0.222222   \n",
       "Astra                              4.333333   \n",
       "Empumalanga                        4.292683   \n",
       "Fumisukoma                         2.245283   \n",
       "Seyisi                             0.042553   \n",
       "Ben Sinuka                         0.000000   \n",
       "Aaron Gqadu                        0.086957   \n",
       "Isaac Booi                         0.263158   \n",
       "\n",
       "              June - Written Letters Improvement  \\\n",
       "Schools                                            \n",
       "Ebongweni                              10.384615   \n",
       "Charles Duna                            7.333333   \n",
       "Molefe                                  9.740741   \n",
       "Astra                                   4.428571   \n",
       "Empumalanga                             9.048780   \n",
       "Fumisukoma                              7.132075   \n",
       "Seyisi                                  6.361702   \n",
       "Ben Sinuka                              6.777778   \n",
       "Aaron Gqadu                             5.043478   \n",
       "Isaac Booi                              5.684211   \n",
       "\n",
       "              June - Write CVCs Improvement  \\\n",
       "Schools                                       \n",
       "Ebongweni                          7.038462   \n",
       "Charles Duna                       4.179487   \n",
       "Molefe                             5.703704   \n",
       "Astra                              3.452381   \n",
       "Empumalanga                        3.902439   \n",
       "Fumisukoma                         4.490566   \n",
       "Seyisi                             4.085106   \n",
       "Ben Sinuka                         2.777778   \n",
       "Aaron Gqadu                        2.869565   \n",
       "Isaac Booi                         2.631579   \n",
       "\n",
       "              June - Write Sentence Improvement  June - Total Improvement  \n",
       "Schools                                                                    \n",
       "Ebongweni                              6.076923                 59.346154  \n",
       "Charles Duna                          13.615385                 51.794872  \n",
       "Molefe                                 3.444444                 42.592593  \n",
       "Astra                                 10.238095                 39.380952  \n",
       "Empumalanga                            0.585366                 39.195122  \n",
       "Fumisukoma                             2.415094                 38.584906  \n",
       "Seyisi                                 1.510638                 32.170213  \n",
       "Ben Sinuka                             0.000000                 30.222222  \n",
       "Aaron Gqadu                            1.695652                 21.391304  \n",
       "Isaac Booi                             1.078947                 20.842105  "
      ]
     },
     "execution_count": 223,
     "metadata": {},
     "output_type": "execute_result"
    }
   ],
   "source": [
    "df_Grade1_improvement = gbo1_on[improvement_columns].mean()\n",
    "df_Grade1_improvement.sort_values('June - Total Improvement', ascending=False)"
   ]
  },
  {
   "cell_type": "markdown",
   "id": "ce4a51bb",
   "metadata": {},
   "source": [
    "# Grade 2 Summary"
   ]
  },
  {
   "cell_type": "code",
   "execution_count": 224,
   "id": "d173b5af",
   "metadata": {
    "scrolled": false
   },
   "outputs": [
    {
     "data": {
      "application/vnd.plotly.v1+json": {
       "config": {
        "plotlyServerURL": "https://plotly.com"
       },
       "data": [
        {
         "name": "January Total",
         "type": "bar",
         "x": [
          "Fumisukoma",
          "Seyisi",
          "Ben Sinuka",
          "Isaac Booi"
         ],
         "y": [
          116.02777777777777,
          82.34210526315789,
          83.07142857142857,
          83.94444444444444
         ]
        },
        {
         "name": "June Total",
         "type": "bar",
         "x": [
          "Fumisukoma",
          "Seyisi",
          "Ben Sinuka",
          "Isaac Booi"
         ],
         "y": [
          167.55555555555554,
          128.55263157894737,
          124.35714285714286,
          106.44444444444444
         ]
        }
       ],
       "layout": {
        "barmode": "group",
        "template": {
         "data": {
          "bar": [
           {
            "error_x": {
             "color": "#2a3f5f"
            },
            "error_y": {
             "color": "#2a3f5f"
            },
            "marker": {
             "line": {
              "color": "#E5ECF6",
              "width": 0.5
             },
             "pattern": {
              "fillmode": "overlay",
              "size": 10,
              "solidity": 0.2
             }
            },
            "type": "bar"
           }
          ],
          "barpolar": [
           {
            "marker": {
             "line": {
              "color": "#E5ECF6",
              "width": 0.5
             },
             "pattern": {
              "fillmode": "overlay",
              "size": 10,
              "solidity": 0.2
             }
            },
            "type": "barpolar"
           }
          ],
          "carpet": [
           {
            "aaxis": {
             "endlinecolor": "#2a3f5f",
             "gridcolor": "white",
             "linecolor": "white",
             "minorgridcolor": "white",
             "startlinecolor": "#2a3f5f"
            },
            "baxis": {
             "endlinecolor": "#2a3f5f",
             "gridcolor": "white",
             "linecolor": "white",
             "minorgridcolor": "white",
             "startlinecolor": "#2a3f5f"
            },
            "type": "carpet"
           }
          ],
          "choropleth": [
           {
            "colorbar": {
             "outlinewidth": 0,
             "ticks": ""
            },
            "type": "choropleth"
           }
          ],
          "contour": [
           {
            "colorbar": {
             "outlinewidth": 0,
             "ticks": ""
            },
            "colorscale": [
             [
              0,
              "#0d0887"
             ],
             [
              0.1111111111111111,
              "#46039f"
             ],
             [
              0.2222222222222222,
              "#7201a8"
             ],
             [
              0.3333333333333333,
              "#9c179e"
             ],
             [
              0.4444444444444444,
              "#bd3786"
             ],
             [
              0.5555555555555556,
              "#d8576b"
             ],
             [
              0.6666666666666666,
              "#ed7953"
             ],
             [
              0.7777777777777778,
              "#fb9f3a"
             ],
             [
              0.8888888888888888,
              "#fdca26"
             ],
             [
              1,
              "#f0f921"
             ]
            ],
            "type": "contour"
           }
          ],
          "contourcarpet": [
           {
            "colorbar": {
             "outlinewidth": 0,
             "ticks": ""
            },
            "type": "contourcarpet"
           }
          ],
          "heatmap": [
           {
            "colorbar": {
             "outlinewidth": 0,
             "ticks": ""
            },
            "colorscale": [
             [
              0,
              "#0d0887"
             ],
             [
              0.1111111111111111,
              "#46039f"
             ],
             [
              0.2222222222222222,
              "#7201a8"
             ],
             [
              0.3333333333333333,
              "#9c179e"
             ],
             [
              0.4444444444444444,
              "#bd3786"
             ],
             [
              0.5555555555555556,
              "#d8576b"
             ],
             [
              0.6666666666666666,
              "#ed7953"
             ],
             [
              0.7777777777777778,
              "#fb9f3a"
             ],
             [
              0.8888888888888888,
              "#fdca26"
             ],
             [
              1,
              "#f0f921"
             ]
            ],
            "type": "heatmap"
           }
          ],
          "heatmapgl": [
           {
            "colorbar": {
             "outlinewidth": 0,
             "ticks": ""
            },
            "colorscale": [
             [
              0,
              "#0d0887"
             ],
             [
              0.1111111111111111,
              "#46039f"
             ],
             [
              0.2222222222222222,
              "#7201a8"
             ],
             [
              0.3333333333333333,
              "#9c179e"
             ],
             [
              0.4444444444444444,
              "#bd3786"
             ],
             [
              0.5555555555555556,
              "#d8576b"
             ],
             [
              0.6666666666666666,
              "#ed7953"
             ],
             [
              0.7777777777777778,
              "#fb9f3a"
             ],
             [
              0.8888888888888888,
              "#fdca26"
             ],
             [
              1,
              "#f0f921"
             ]
            ],
            "type": "heatmapgl"
           }
          ],
          "histogram": [
           {
            "marker": {
             "pattern": {
              "fillmode": "overlay",
              "size": 10,
              "solidity": 0.2
             }
            },
            "type": "histogram"
           }
          ],
          "histogram2d": [
           {
            "colorbar": {
             "outlinewidth": 0,
             "ticks": ""
            },
            "colorscale": [
             [
              0,
              "#0d0887"
             ],
             [
              0.1111111111111111,
              "#46039f"
             ],
             [
              0.2222222222222222,
              "#7201a8"
             ],
             [
              0.3333333333333333,
              "#9c179e"
             ],
             [
              0.4444444444444444,
              "#bd3786"
             ],
             [
              0.5555555555555556,
              "#d8576b"
             ],
             [
              0.6666666666666666,
              "#ed7953"
             ],
             [
              0.7777777777777778,
              "#fb9f3a"
             ],
             [
              0.8888888888888888,
              "#fdca26"
             ],
             [
              1,
              "#f0f921"
             ]
            ],
            "type": "histogram2d"
           }
          ],
          "histogram2dcontour": [
           {
            "colorbar": {
             "outlinewidth": 0,
             "ticks": ""
            },
            "colorscale": [
             [
              0,
              "#0d0887"
             ],
             [
              0.1111111111111111,
              "#46039f"
             ],
             [
              0.2222222222222222,
              "#7201a8"
             ],
             [
              0.3333333333333333,
              "#9c179e"
             ],
             [
              0.4444444444444444,
              "#bd3786"
             ],
             [
              0.5555555555555556,
              "#d8576b"
             ],
             [
              0.6666666666666666,
              "#ed7953"
             ],
             [
              0.7777777777777778,
              "#fb9f3a"
             ],
             [
              0.8888888888888888,
              "#fdca26"
             ],
             [
              1,
              "#f0f921"
             ]
            ],
            "type": "histogram2dcontour"
           }
          ],
          "mesh3d": [
           {
            "colorbar": {
             "outlinewidth": 0,
             "ticks": ""
            },
            "type": "mesh3d"
           }
          ],
          "parcoords": [
           {
            "line": {
             "colorbar": {
              "outlinewidth": 0,
              "ticks": ""
             }
            },
            "type": "parcoords"
           }
          ],
          "pie": [
           {
            "automargin": true,
            "type": "pie"
           }
          ],
          "scatter": [
           {
            "fillpattern": {
             "fillmode": "overlay",
             "size": 10,
             "solidity": 0.2
            },
            "type": "scatter"
           }
          ],
          "scatter3d": [
           {
            "line": {
             "colorbar": {
              "outlinewidth": 0,
              "ticks": ""
             }
            },
            "marker": {
             "colorbar": {
              "outlinewidth": 0,
              "ticks": ""
             }
            },
            "type": "scatter3d"
           }
          ],
          "scattercarpet": [
           {
            "marker": {
             "colorbar": {
              "outlinewidth": 0,
              "ticks": ""
             }
            },
            "type": "scattercarpet"
           }
          ],
          "scattergeo": [
           {
            "marker": {
             "colorbar": {
              "outlinewidth": 0,
              "ticks": ""
             }
            },
            "type": "scattergeo"
           }
          ],
          "scattergl": [
           {
            "marker": {
             "colorbar": {
              "outlinewidth": 0,
              "ticks": ""
             }
            },
            "type": "scattergl"
           }
          ],
          "scattermapbox": [
           {
            "marker": {
             "colorbar": {
              "outlinewidth": 0,
              "ticks": ""
             }
            },
            "type": "scattermapbox"
           }
          ],
          "scatterpolar": [
           {
            "marker": {
             "colorbar": {
              "outlinewidth": 0,
              "ticks": ""
             }
            },
            "type": "scatterpolar"
           }
          ],
          "scatterpolargl": [
           {
            "marker": {
             "colorbar": {
              "outlinewidth": 0,
              "ticks": ""
             }
            },
            "type": "scatterpolargl"
           }
          ],
          "scatterternary": [
           {
            "marker": {
             "colorbar": {
              "outlinewidth": 0,
              "ticks": ""
             }
            },
            "type": "scatterternary"
           }
          ],
          "surface": [
           {
            "colorbar": {
             "outlinewidth": 0,
             "ticks": ""
            },
            "colorscale": [
             [
              0,
              "#0d0887"
             ],
             [
              0.1111111111111111,
              "#46039f"
             ],
             [
              0.2222222222222222,
              "#7201a8"
             ],
             [
              0.3333333333333333,
              "#9c179e"
             ],
             [
              0.4444444444444444,
              "#bd3786"
             ],
             [
              0.5555555555555556,
              "#d8576b"
             ],
             [
              0.6666666666666666,
              "#ed7953"
             ],
             [
              0.7777777777777778,
              "#fb9f3a"
             ],
             [
              0.8888888888888888,
              "#fdca26"
             ],
             [
              1,
              "#f0f921"
             ]
            ],
            "type": "surface"
           }
          ],
          "table": [
           {
            "cells": {
             "fill": {
              "color": "#EBF0F8"
             },
             "line": {
              "color": "white"
             }
            },
            "header": {
             "fill": {
              "color": "#C8D4E3"
             },
             "line": {
              "color": "white"
             }
            },
            "type": "table"
           }
          ]
         },
         "layout": {
          "annotationdefaults": {
           "arrowcolor": "#2a3f5f",
           "arrowhead": 0,
           "arrowwidth": 1
          },
          "autotypenumbers": "strict",
          "coloraxis": {
           "colorbar": {
            "outlinewidth": 0,
            "ticks": ""
           }
          },
          "colorscale": {
           "diverging": [
            [
             0,
             "#8e0152"
            ],
            [
             0.1,
             "#c51b7d"
            ],
            [
             0.2,
             "#de77ae"
            ],
            [
             0.3,
             "#f1b6da"
            ],
            [
             0.4,
             "#fde0ef"
            ],
            [
             0.5,
             "#f7f7f7"
            ],
            [
             0.6,
             "#e6f5d0"
            ],
            [
             0.7,
             "#b8e186"
            ],
            [
             0.8,
             "#7fbc41"
            ],
            [
             0.9,
             "#4d9221"
            ],
            [
             1,
             "#276419"
            ]
           ],
           "sequential": [
            [
             0,
             "#0d0887"
            ],
            [
             0.1111111111111111,
             "#46039f"
            ],
            [
             0.2222222222222222,
             "#7201a8"
            ],
            [
             0.3333333333333333,
             "#9c179e"
            ],
            [
             0.4444444444444444,
             "#bd3786"
            ],
            [
             0.5555555555555556,
             "#d8576b"
            ],
            [
             0.6666666666666666,
             "#ed7953"
            ],
            [
             0.7777777777777778,
             "#fb9f3a"
            ],
            [
             0.8888888888888888,
             "#fdca26"
            ],
            [
             1,
             "#f0f921"
            ]
           ],
           "sequentialminus": [
            [
             0,
             "#0d0887"
            ],
            [
             0.1111111111111111,
             "#46039f"
            ],
            [
             0.2222222222222222,
             "#7201a8"
            ],
            [
             0.3333333333333333,
             "#9c179e"
            ],
            [
             0.4444444444444444,
             "#bd3786"
            ],
            [
             0.5555555555555556,
             "#d8576b"
            ],
            [
             0.6666666666666666,
             "#ed7953"
            ],
            [
             0.7777777777777778,
             "#fb9f3a"
            ],
            [
             0.8888888888888888,
             "#fdca26"
            ],
            [
             1,
             "#f0f921"
            ]
           ]
          },
          "colorway": [
           "#636efa",
           "#EF553B",
           "#00cc96",
           "#ab63fa",
           "#FFA15A",
           "#19d3f3",
           "#FF6692",
           "#B6E880",
           "#FF97FF",
           "#FECB52"
          ],
          "font": {
           "color": "#2a3f5f"
          },
          "geo": {
           "bgcolor": "white",
           "lakecolor": "white",
           "landcolor": "#E5ECF6",
           "showlakes": true,
           "showland": true,
           "subunitcolor": "white"
          },
          "hoverlabel": {
           "align": "left"
          },
          "hovermode": "closest",
          "mapbox": {
           "style": "light"
          },
          "paper_bgcolor": "white",
          "plot_bgcolor": "#E5ECF6",
          "polar": {
           "angularaxis": {
            "gridcolor": "white",
            "linecolor": "white",
            "ticks": ""
           },
           "bgcolor": "#E5ECF6",
           "radialaxis": {
            "gridcolor": "white",
            "linecolor": "white",
            "ticks": ""
           }
          },
          "scene": {
           "xaxis": {
            "backgroundcolor": "#E5ECF6",
            "gridcolor": "white",
            "gridwidth": 2,
            "linecolor": "white",
            "showbackground": true,
            "ticks": "",
            "zerolinecolor": "white"
           },
           "yaxis": {
            "backgroundcolor": "#E5ECF6",
            "gridcolor": "white",
            "gridwidth": 2,
            "linecolor": "white",
            "showbackground": true,
            "ticks": "",
            "zerolinecolor": "white"
           },
           "zaxis": {
            "backgroundcolor": "#E5ECF6",
            "gridcolor": "white",
            "gridwidth": 2,
            "linecolor": "white",
            "showbackground": true,
            "ticks": "",
            "zerolinecolor": "white"
           }
          },
          "shapedefaults": {
           "line": {
            "color": "#2a3f5f"
           }
          },
          "ternary": {
           "aaxis": {
            "gridcolor": "white",
            "linecolor": "white",
            "ticks": ""
           },
           "baxis": {
            "gridcolor": "white",
            "linecolor": "white",
            "ticks": ""
           },
           "bgcolor": "#E5ECF6",
           "caxis": {
            "gridcolor": "white",
            "linecolor": "white",
            "ticks": ""
           }
          },
          "title": {
           "x": 0.05
          },
          "xaxis": {
           "automargin": true,
           "gridcolor": "white",
           "linecolor": "white",
           "ticks": "",
           "title": {
            "standoff": 15
           },
           "zerolinecolor": "white",
           "zerolinewidth": 2
          },
          "yaxis": {
           "automargin": true,
           "gridcolor": "white",
           "linecolor": "white",
           "ticks": "",
           "title": {
            "standoff": 15
           },
           "zerolinecolor": "white",
           "zerolinewidth": 2
          }
         }
        },
        "title": {
         "text": "Average Total Scores for January and June"
        },
        "xaxis": {
         "title": {
          "text": "Schools"
         }
        },
        "yaxis": {
         "title": {
          "text": "Average Total Scores"
         }
        }
       }
      },
      "text/html": [
       "<div>                            <div id=\"4ba10407-12d8-4c77-8144-8454f1aebb0c\" class=\"plotly-graph-div\" style=\"height:525px; width:100%;\"></div>            <script type=\"text/javascript\">                require([\"plotly\"], function(Plotly) {                    window.PLOTLYENV=window.PLOTLYENV || {};                                    if (document.getElementById(\"4ba10407-12d8-4c77-8144-8454f1aebb0c\")) {                    Plotly.newPlot(                        \"4ba10407-12d8-4c77-8144-8454f1aebb0c\",                        [{\"name\":\"January Total\",\"x\":[\"Fumisukoma\",\"Seyisi\",\"Ben Sinuka\",\"Isaac Booi\"],\"y\":[116.02777777777777,82.34210526315789,83.07142857142857,83.94444444444444],\"type\":\"bar\"},{\"name\":\"June Total\",\"x\":[\"Fumisukoma\",\"Seyisi\",\"Ben Sinuka\",\"Isaac Booi\"],\"y\":[167.55555555555554,128.55263157894737,124.35714285714286,106.44444444444444],\"type\":\"bar\"}],                        {\"barmode\":\"group\",\"title\":{\"text\":\"Average Total Scores for January and June\"},\"xaxis\":{\"title\":{\"text\":\"Schools\"}},\"yaxis\":{\"title\":{\"text\":\"Average Total Scores\"}},\"template\":{\"data\":{\"histogram2dcontour\":[{\"type\":\"histogram2dcontour\",\"colorbar\":{\"outlinewidth\":0,\"ticks\":\"\"},\"colorscale\":[[0.0,\"#0d0887\"],[0.1111111111111111,\"#46039f\"],[0.2222222222222222,\"#7201a8\"],[0.3333333333333333,\"#9c179e\"],[0.4444444444444444,\"#bd3786\"],[0.5555555555555556,\"#d8576b\"],[0.6666666666666666,\"#ed7953\"],[0.7777777777777778,\"#fb9f3a\"],[0.8888888888888888,\"#fdca26\"],[1.0,\"#f0f921\"]]}],\"choropleth\":[{\"type\":\"choropleth\",\"colorbar\":{\"outlinewidth\":0,\"ticks\":\"\"}}],\"histogram2d\":[{\"type\":\"histogram2d\",\"colorbar\":{\"outlinewidth\":0,\"ticks\":\"\"},\"colorscale\":[[0.0,\"#0d0887\"],[0.1111111111111111,\"#46039f\"],[0.2222222222222222,\"#7201a8\"],[0.3333333333333333,\"#9c179e\"],[0.4444444444444444,\"#bd3786\"],[0.5555555555555556,\"#d8576b\"],[0.6666666666666666,\"#ed7953\"],[0.7777777777777778,\"#fb9f3a\"],[0.8888888888888888,\"#fdca26\"],[1.0,\"#f0f921\"]]}],\"heatmap\":[{\"type\":\"heatmap\",\"colorbar\":{\"outlinewidth\":0,\"ticks\":\"\"},\"colorscale\":[[0.0,\"#0d0887\"],[0.1111111111111111,\"#46039f\"],[0.2222222222222222,\"#7201a8\"],[0.3333333333333333,\"#9c179e\"],[0.4444444444444444,\"#bd3786\"],[0.5555555555555556,\"#d8576b\"],[0.6666666666666666,\"#ed7953\"],[0.7777777777777778,\"#fb9f3a\"],[0.8888888888888888,\"#fdca26\"],[1.0,\"#f0f921\"]]}],\"heatmapgl\":[{\"type\":\"heatmapgl\",\"colorbar\":{\"outlinewidth\":0,\"ticks\":\"\"},\"colorscale\":[[0.0,\"#0d0887\"],[0.1111111111111111,\"#46039f\"],[0.2222222222222222,\"#7201a8\"],[0.3333333333333333,\"#9c179e\"],[0.4444444444444444,\"#bd3786\"],[0.5555555555555556,\"#d8576b\"],[0.6666666666666666,\"#ed7953\"],[0.7777777777777778,\"#fb9f3a\"],[0.8888888888888888,\"#fdca26\"],[1.0,\"#f0f921\"]]}],\"contourcarpet\":[{\"type\":\"contourcarpet\",\"colorbar\":{\"outlinewidth\":0,\"ticks\":\"\"}}],\"contour\":[{\"type\":\"contour\",\"colorbar\":{\"outlinewidth\":0,\"ticks\":\"\"},\"colorscale\":[[0.0,\"#0d0887\"],[0.1111111111111111,\"#46039f\"],[0.2222222222222222,\"#7201a8\"],[0.3333333333333333,\"#9c179e\"],[0.4444444444444444,\"#bd3786\"],[0.5555555555555556,\"#d8576b\"],[0.6666666666666666,\"#ed7953\"],[0.7777777777777778,\"#fb9f3a\"],[0.8888888888888888,\"#fdca26\"],[1.0,\"#f0f921\"]]}],\"surface\":[{\"type\":\"surface\",\"colorbar\":{\"outlinewidth\":0,\"ticks\":\"\"},\"colorscale\":[[0.0,\"#0d0887\"],[0.1111111111111111,\"#46039f\"],[0.2222222222222222,\"#7201a8\"],[0.3333333333333333,\"#9c179e\"],[0.4444444444444444,\"#bd3786\"],[0.5555555555555556,\"#d8576b\"],[0.6666666666666666,\"#ed7953\"],[0.7777777777777778,\"#fb9f3a\"],[0.8888888888888888,\"#fdca26\"],[1.0,\"#f0f921\"]]}],\"mesh3d\":[{\"type\":\"mesh3d\",\"colorbar\":{\"outlinewidth\":0,\"ticks\":\"\"}}],\"scatter\":[{\"fillpattern\":{\"fillmode\":\"overlay\",\"size\":10,\"solidity\":0.2},\"type\":\"scatter\"}],\"parcoords\":[{\"type\":\"parcoords\",\"line\":{\"colorbar\":{\"outlinewidth\":0,\"ticks\":\"\"}}}],\"scatterpolargl\":[{\"type\":\"scatterpolargl\",\"marker\":{\"colorbar\":{\"outlinewidth\":0,\"ticks\":\"\"}}}],\"bar\":[{\"error_x\":{\"color\":\"#2a3f5f\"},\"error_y\":{\"color\":\"#2a3f5f\"},\"marker\":{\"line\":{\"color\":\"#E5ECF6\",\"width\":0.5},\"pattern\":{\"fillmode\":\"overlay\",\"size\":10,\"solidity\":0.2}},\"type\":\"bar\"}],\"scattergeo\":[{\"type\":\"scattergeo\",\"marker\":{\"colorbar\":{\"outlinewidth\":0,\"ticks\":\"\"}}}],\"scatterpolar\":[{\"type\":\"scatterpolar\",\"marker\":{\"colorbar\":{\"outlinewidth\":0,\"ticks\":\"\"}}}],\"histogram\":[{\"marker\":{\"pattern\":{\"fillmode\":\"overlay\",\"size\":10,\"solidity\":0.2}},\"type\":\"histogram\"}],\"scattergl\":[{\"type\":\"scattergl\",\"marker\":{\"colorbar\":{\"outlinewidth\":0,\"ticks\":\"\"}}}],\"scatter3d\":[{\"type\":\"scatter3d\",\"line\":{\"colorbar\":{\"outlinewidth\":0,\"ticks\":\"\"}},\"marker\":{\"colorbar\":{\"outlinewidth\":0,\"ticks\":\"\"}}}],\"scattermapbox\":[{\"type\":\"scattermapbox\",\"marker\":{\"colorbar\":{\"outlinewidth\":0,\"ticks\":\"\"}}}],\"scatterternary\":[{\"type\":\"scatterternary\",\"marker\":{\"colorbar\":{\"outlinewidth\":0,\"ticks\":\"\"}}}],\"scattercarpet\":[{\"type\":\"scattercarpet\",\"marker\":{\"colorbar\":{\"outlinewidth\":0,\"ticks\":\"\"}}}],\"carpet\":[{\"aaxis\":{\"endlinecolor\":\"#2a3f5f\",\"gridcolor\":\"white\",\"linecolor\":\"white\",\"minorgridcolor\":\"white\",\"startlinecolor\":\"#2a3f5f\"},\"baxis\":{\"endlinecolor\":\"#2a3f5f\",\"gridcolor\":\"white\",\"linecolor\":\"white\",\"minorgridcolor\":\"white\",\"startlinecolor\":\"#2a3f5f\"},\"type\":\"carpet\"}],\"table\":[{\"cells\":{\"fill\":{\"color\":\"#EBF0F8\"},\"line\":{\"color\":\"white\"}},\"header\":{\"fill\":{\"color\":\"#C8D4E3\"},\"line\":{\"color\":\"white\"}},\"type\":\"table\"}],\"barpolar\":[{\"marker\":{\"line\":{\"color\":\"#E5ECF6\",\"width\":0.5},\"pattern\":{\"fillmode\":\"overlay\",\"size\":10,\"solidity\":0.2}},\"type\":\"barpolar\"}],\"pie\":[{\"automargin\":true,\"type\":\"pie\"}]},\"layout\":{\"autotypenumbers\":\"strict\",\"colorway\":[\"#636efa\",\"#EF553B\",\"#00cc96\",\"#ab63fa\",\"#FFA15A\",\"#19d3f3\",\"#FF6692\",\"#B6E880\",\"#FF97FF\",\"#FECB52\"],\"font\":{\"color\":\"#2a3f5f\"},\"hovermode\":\"closest\",\"hoverlabel\":{\"align\":\"left\"},\"paper_bgcolor\":\"white\",\"plot_bgcolor\":\"#E5ECF6\",\"polar\":{\"bgcolor\":\"#E5ECF6\",\"angularaxis\":{\"gridcolor\":\"white\",\"linecolor\":\"white\",\"ticks\":\"\"},\"radialaxis\":{\"gridcolor\":\"white\",\"linecolor\":\"white\",\"ticks\":\"\"}},\"ternary\":{\"bgcolor\":\"#E5ECF6\",\"aaxis\":{\"gridcolor\":\"white\",\"linecolor\":\"white\",\"ticks\":\"\"},\"baxis\":{\"gridcolor\":\"white\",\"linecolor\":\"white\",\"ticks\":\"\"},\"caxis\":{\"gridcolor\":\"white\",\"linecolor\":\"white\",\"ticks\":\"\"}},\"coloraxis\":{\"colorbar\":{\"outlinewidth\":0,\"ticks\":\"\"}},\"colorscale\":{\"sequential\":[[0.0,\"#0d0887\"],[0.1111111111111111,\"#46039f\"],[0.2222222222222222,\"#7201a8\"],[0.3333333333333333,\"#9c179e\"],[0.4444444444444444,\"#bd3786\"],[0.5555555555555556,\"#d8576b\"],[0.6666666666666666,\"#ed7953\"],[0.7777777777777778,\"#fb9f3a\"],[0.8888888888888888,\"#fdca26\"],[1.0,\"#f0f921\"]],\"sequentialminus\":[[0.0,\"#0d0887\"],[0.1111111111111111,\"#46039f\"],[0.2222222222222222,\"#7201a8\"],[0.3333333333333333,\"#9c179e\"],[0.4444444444444444,\"#bd3786\"],[0.5555555555555556,\"#d8576b\"],[0.6666666666666666,\"#ed7953\"],[0.7777777777777778,\"#fb9f3a\"],[0.8888888888888888,\"#fdca26\"],[1.0,\"#f0f921\"]],\"diverging\":[[0,\"#8e0152\"],[0.1,\"#c51b7d\"],[0.2,\"#de77ae\"],[0.3,\"#f1b6da\"],[0.4,\"#fde0ef\"],[0.5,\"#f7f7f7\"],[0.6,\"#e6f5d0\"],[0.7,\"#b8e186\"],[0.8,\"#7fbc41\"],[0.9,\"#4d9221\"],[1,\"#276419\"]]},\"xaxis\":{\"gridcolor\":\"white\",\"linecolor\":\"white\",\"ticks\":\"\",\"title\":{\"standoff\":15},\"zerolinecolor\":\"white\",\"automargin\":true,\"zerolinewidth\":2},\"yaxis\":{\"gridcolor\":\"white\",\"linecolor\":\"white\",\"ticks\":\"\",\"title\":{\"standoff\":15},\"zerolinecolor\":\"white\",\"automargin\":true,\"zerolinewidth\":2},\"scene\":{\"xaxis\":{\"backgroundcolor\":\"#E5ECF6\",\"gridcolor\":\"white\",\"linecolor\":\"white\",\"showbackground\":true,\"ticks\":\"\",\"zerolinecolor\":\"white\",\"gridwidth\":2},\"yaxis\":{\"backgroundcolor\":\"#E5ECF6\",\"gridcolor\":\"white\",\"linecolor\":\"white\",\"showbackground\":true,\"ticks\":\"\",\"zerolinecolor\":\"white\",\"gridwidth\":2},\"zaxis\":{\"backgroundcolor\":\"#E5ECF6\",\"gridcolor\":\"white\",\"linecolor\":\"white\",\"showbackground\":true,\"ticks\":\"\",\"zerolinecolor\":\"white\",\"gridwidth\":2}},\"shapedefaults\":{\"line\":{\"color\":\"#2a3f5f\"}},\"annotationdefaults\":{\"arrowcolor\":\"#2a3f5f\",\"arrowhead\":0,\"arrowwidth\":1},\"geo\":{\"bgcolor\":\"white\",\"landcolor\":\"#E5ECF6\",\"subunitcolor\":\"white\",\"showland\":true,\"showlakes\":true,\"lakecolor\":\"white\"},\"title\":{\"x\":0.05},\"mapbox\":{\"style\":\"light\"}}}},                        {\"responsive\": true}                    ).then(function(){\n",
       "                            \n",
       "var gd = document.getElementById('4ba10407-12d8-4c77-8144-8454f1aebb0c');\n",
       "var x = new MutationObserver(function (mutations, observer) {{\n",
       "        var display = window.getComputedStyle(gd).display;\n",
       "        if (!display || display === 'none') {{\n",
       "            console.log([gd, 'removed!']);\n",
       "            Plotly.purge(gd);\n",
       "            observer.disconnect();\n",
       "        }}\n",
       "}});\n",
       "\n",
       "// Listen for the removal of the full notebook cells\n",
       "var notebookContainer = gd.closest('#notebook-container');\n",
       "if (notebookContainer) {{\n",
       "    x.observe(notebookContainer, {childList: true});\n",
       "}}\n",
       "\n",
       "// Listen for the clearing of the current output cell\n",
       "var outputEl = gd.closest('.output');\n",
       "if (outputEl) {{\n",
       "    x.observe(outputEl, {childList: true});\n",
       "}}\n",
       "\n",
       "                        })                };                });            </script>        </div>"
      ]
     },
     "metadata": {},
     "output_type": "display_data"
    }
   ],
   "source": [
    "import plotly.graph_objects as go\n",
    "\n",
    "# Create a new DataFrame, with means and sorted by 'June - Total'\n",
    "Grade2_on_grouped = Grade2_on.groupby('Schools')[['Jan - Total', 'June - Total']].mean()\n",
    "Grade2_on_sorted = Grade2_on_grouped.sort_values('June - Total', ascending=False).reset_index()\n",
    "\n",
    "# Create bar traces for January and June\n",
    "trace1 = go.Bar(\n",
    "    x=Grade2_on_sorted['Schools'], \n",
    "    y=Grade2_on_sorted['Jan - Total'],\n",
    "    name='January Total'\n",
    ")\n",
    "\n",
    "trace2 = go.Bar(\n",
    "    x=Grade2_on_sorted['Schools'], \n",
    "    y=Grade2_on_sorted['June - Total'],\n",
    "    name='June Total'\n",
    ")\n",
    "\n",
    "# Combine the traces\n",
    "data = [trace1, trace2]\n",
    "\n",
    "# Create a layout with title and axis labels\n",
    "layout = go.Layout(\n",
    "    title='Average Total Scores for January and June',\n",
    "    barmode='group', # bars for the same x location will be placed beside each other\n",
    "    xaxis=dict(title='Schools'),\n",
    "    yaxis=dict(title='Average Total Scores')\n",
    ")\n",
    "\n",
    "# Create a Figure and plot it\n",
    "fig = go.Figure(data=data, layout=layout)\n",
    "fig.show()"
   ]
  },
  {
   "cell_type": "code",
   "execution_count": 225,
   "id": "cb389be9",
   "metadata": {},
   "outputs": [
    {
     "data": {
      "image/png": "[encoded data removed]",
      "text/plain": [
       "<Figure size 1500x600 with 1 Axes>"
      ]
     },
     "metadata": {},
     "output_type": "display_data"
    }
   ],
   "source": [
    "# First, calculate the order of schools based on the mean of 'June - Total Improvement'\n",
    "order = Grade2_on.groupby('Schools')['June - Total Improvement'].mean().sort_values(ascending=False).index\n",
    "\n",
    "fig, ax = plt.subplots(figsize=(15, 6))\n",
    "\n",
    "# Then, pass this order to the 'order' parameter in the barplot function\n",
    "sns.barplot(data=Grade2_on, x='Schools', y='June - Total Improvement', order=order, errorbar=None, ax=ax, palette=\"rocket\")\n",
    "plt.title(\"Average Progress of Children by School\")\n",
    "plt.xticks(rotation=90)\n",
    "plt.show()"
   ]
  },
  {
   "cell_type": "code",
   "execution_count": 226,
   "id": "526dfb1d",
   "metadata": {},
   "outputs": [
    {
     "data": {
      "text/html": [
       "<div>\n",
       "<style scoped>\n",
       "    .dataframe tbody tr th:only-of-type {\n",
       "        vertical-align: middle;\n",
       "    }\n",
       "\n",
       "    .dataframe tbody tr th {\n",
       "        vertical-align: top;\n",
       "    }\n",
       "\n",
       "    .dataframe thead th {\n",
       "        text-align: right;\n",
       "    }\n",
       "</style>\n",
       "<table border=\"1\" class=\"dataframe\">\n",
       "  <thead>\n",
       "    <tr style=\"text-align: right;\">\n",
       "      <th></th>\n",
       "      <th>June - Listen First Sound Improvement</th>\n",
       "      <th>June - Listen Word Improvement</th>\n",
       "      <th>June - Phonics Improvement</th>\n",
       "      <th>June - Blends Improvement</th>\n",
       "      <th>June - Sight Words Improvement</th>\n",
       "      <th>June - Read Sentences Improvement</th>\n",
       "      <th>June - Read Story Improvement</th>\n",
       "      <th>June - Written Letters Improvement</th>\n",
       "      <th>June - Write CVCs Improvement</th>\n",
       "      <th>June - Write Sentence Improvement</th>\n",
       "      <th>June - Total Improvement</th>\n",
       "    </tr>\n",
       "    <tr>\n",
       "      <th>Schools</th>\n",
       "      <th></th>\n",
       "      <th></th>\n",
       "      <th></th>\n",
       "      <th></th>\n",
       "      <th></th>\n",
       "      <th></th>\n",
       "      <th></th>\n",
       "      <th></th>\n",
       "      <th></th>\n",
       "      <th></th>\n",
       "      <th></th>\n",
       "    </tr>\n",
       "  </thead>\n",
       "  <tbody>\n",
       "    <tr>\n",
       "      <th>Fumisukoma</th>\n",
       "      <td>0.361111</td>\n",
       "      <td>0.944444</td>\n",
       "      <td>2.555556</td>\n",
       "      <td>1.388889</td>\n",
       "      <td>8.388889</td>\n",
       "      <td>3.222222</td>\n",
       "      <td>18.916667</td>\n",
       "      <td>1.694444</td>\n",
       "      <td>0.361111</td>\n",
       "      <td>13.361111</td>\n",
       "      <td>51.527778</td>\n",
       "    </tr>\n",
       "    <tr>\n",
       "      <th>Seyisi</th>\n",
       "      <td>0.921053</td>\n",
       "      <td>1.342105</td>\n",
       "      <td>7.763158</td>\n",
       "      <td>2.578947</td>\n",
       "      <td>5.605263</td>\n",
       "      <td>1.421053</td>\n",
       "      <td>16.315789</td>\n",
       "      <td>4.394737</td>\n",
       "      <td>1.000000</td>\n",
       "      <td>4.184211</td>\n",
       "      <td>46.210526</td>\n",
       "    </tr>\n",
       "    <tr>\n",
       "      <th>Ben Sinuka</th>\n",
       "      <td>0.857143</td>\n",
       "      <td>0.928571</td>\n",
       "      <td>3.142857</td>\n",
       "      <td>2.357143</td>\n",
       "      <td>5.714286</td>\n",
       "      <td>3.857143</td>\n",
       "      <td>9.571429</td>\n",
       "      <td>3.785714</td>\n",
       "      <td>1.714286</td>\n",
       "      <td>9.071429</td>\n",
       "      <td>41.285714</td>\n",
       "    </tr>\n",
       "    <tr>\n",
       "      <th>Isaac Booi</th>\n",
       "      <td>0.305556</td>\n",
       "      <td>2.166667</td>\n",
       "      <td>2.694444</td>\n",
       "      <td>1.416667</td>\n",
       "      <td>1.666667</td>\n",
       "      <td>1.333333</td>\n",
       "      <td>5.166667</td>\n",
       "      <td>1.944444</td>\n",
       "      <td>2.388889</td>\n",
       "      <td>3.333333</td>\n",
       "      <td>22.500000</td>\n",
       "    </tr>\n",
       "  </tbody>\n",
       "</table>\n",
       "</div>"
      ],
      "text/plain": [
       "            June - Listen First Sound Improvement  \\\n",
       "Schools                                             \n",
       "Fumisukoma                               0.361111   \n",
       "Seyisi                                   0.921053   \n",
       "Ben Sinuka                               0.857143   \n",
       "Isaac Booi                               0.305556   \n",
       "\n",
       "            June - Listen Word Improvement  June - Phonics Improvement  \\\n",
       "Schools                                                                  \n",
       "Fumisukoma                        0.944444                    2.555556   \n",
       "Seyisi                            1.342105                    7.763158   \n",
       "Ben Sinuka                        0.928571                    3.142857   \n",
       "Isaac Booi                        2.166667                    2.694444   \n",
       "\n",
       "            June - Blends Improvement  June - Sight Words Improvement  \\\n",
       "Schools                                                                 \n",
       "Fumisukoma                   1.388889                        8.388889   \n",
       "Seyisi                       2.578947                        5.605263   \n",
       "Ben Sinuka                   2.357143                        5.714286   \n",
       "Isaac Booi                   1.416667                        1.666667   \n",
       "\n",
       "            June - Read Sentences Improvement  June - Read Story Improvement  \\\n",
       "Schools                                                                        \n",
       "Fumisukoma                           3.222222                      18.916667   \n",
       "Seyisi                               1.421053                      16.315789   \n",
       "Ben Sinuka                           3.857143                       9.571429   \n",
       "Isaac Booi                           1.333333                       5.166667   \n",
       "\n",
       "            June - Written Letters Improvement  June - Write CVCs Improvement  \\\n",
       "Schools                                                                         \n",
       "Fumisukoma                            1.694444                       0.361111   \n",
       "Seyisi                                4.394737                       1.000000   \n",
       "Ben Sinuka                            3.785714                       1.714286   \n",
       "Isaac Booi                            1.944444                       2.388889   \n",
       "\n",
       "            June - Write Sentence Improvement  June - Total Improvement  \n",
       "Schools                                                                  \n",
       "Fumisukoma                          13.361111                 51.527778  \n",
       "Seyisi                               4.184211                 46.210526  \n",
       "Ben Sinuka                           9.071429                 41.285714  \n",
       "Isaac Booi                           3.333333                 22.500000  "
      ]
     },
     "execution_count": 226,
     "metadata": {},
     "output_type": "execute_result"
    }
   ],
   "source": [
    "df_Grade2_improvement = gbo2_on[improvement_columns].mean()\n",
    "df_Grade2_improvement.sort_values('June - Total Improvement', ascending=False)"
   ]
  },
  {
   "cell_type": "markdown",
   "id": "9a161350",
   "metadata": {},
   "source": [
    "# Grade 3 Summary"
   ]
  },
  {
   "cell_type": "code",
   "execution_count": 227,
   "id": "51f8c887",
   "metadata": {},
   "outputs": [
    {
     "data": {
      "image/png": "[encoded data removed]",
      "text/plain": [
       "<Figure size 1500x600 with 1 Axes>"
      ]
     },
     "metadata": {},
     "output_type": "display_data"
    }
   ],
   "source": [
    "# First, calculate the order of schools based on the mean of 'June - Total Improvement'\n",
    "order = Grade3_on.groupby('Schools')['June - Total Improvement'].mean().sort_values(ascending=False).index\n",
    "\n",
    "fig, ax = plt.subplots(figsize=(15, 6))\n",
    "\n",
    "# Then, pass this order to the 'order' parameter in the barplot function\n",
    "sns.barplot(data=Grade3_on, x='Schools', y='June - Total Improvement', order=order, errorbar=None, ax=ax, palette=\"rocket\")\n",
    "plt.title(\"Average Progress of Children by School\")\n",
    "plt.xticks(rotation=90)\n",
    "plt.show()"
   ]
  },
  {
   "cell_type": "code",
   "execution_count": 228,
   "id": "250f632a",
   "metadata": {},
   "outputs": [
    {
     "data": {
      "text/html": [
       "<div>\n",
       "<style scoped>\n",
       "    .dataframe tbody tr th:only-of-type {\n",
       "        vertical-align: middle;\n",
       "    }\n",
       "\n",
       "    .dataframe tbody tr th {\n",
       "        vertical-align: top;\n",
       "    }\n",
       "\n",
       "    .dataframe thead th {\n",
       "        text-align: right;\n",
       "    }\n",
       "</style>\n",
       "<table border=\"1\" class=\"dataframe\">\n",
       "  <thead>\n",
       "    <tr style=\"text-align: right;\">\n",
       "      <th></th>\n",
       "      <th>June - Listen First Sound Improvement</th>\n",
       "      <th>June - Listen Word Improvement</th>\n",
       "      <th>June - Phonics Improvement</th>\n",
       "      <th>June - Blends Improvement</th>\n",
       "      <th>June - Sight Words Improvement</th>\n",
       "      <th>June - Read Sentences Improvement</th>\n",
       "      <th>June - Read Story Improvement</th>\n",
       "      <th>June - Written Letters Improvement</th>\n",
       "      <th>June - Write CVCs Improvement</th>\n",
       "      <th>June - Write Sentence Improvement</th>\n",
       "      <th>June - Total Improvement</th>\n",
       "    </tr>\n",
       "    <tr>\n",
       "      <th>Schools</th>\n",
       "      <th></th>\n",
       "      <th></th>\n",
       "      <th></th>\n",
       "      <th></th>\n",
       "      <th></th>\n",
       "      <th></th>\n",
       "      <th></th>\n",
       "      <th></th>\n",
       "      <th></th>\n",
       "      <th></th>\n",
       "      <th></th>\n",
       "    </tr>\n",
       "  </thead>\n",
       "  <tbody>\n",
       "    <tr>\n",
       "      <th>Seyisi</th>\n",
       "      <td>1.909091</td>\n",
       "      <td>4.000000</td>\n",
       "      <td>8.272727</td>\n",
       "      <td>3.090909</td>\n",
       "      <td>7.181818</td>\n",
       "      <td>1.818182</td>\n",
       "      <td>20.909091</td>\n",
       "      <td>2.909091</td>\n",
       "      <td>0.818182</td>\n",
       "      <td>7.454545</td>\n",
       "      <td>59.272727</td>\n",
       "    </tr>\n",
       "    <tr>\n",
       "      <th>Fumisukoma</th>\n",
       "      <td>1.027027</td>\n",
       "      <td>1.378378</td>\n",
       "      <td>2.108108</td>\n",
       "      <td>1.648649</td>\n",
       "      <td>4.918919</td>\n",
       "      <td>1.837838</td>\n",
       "      <td>26.513514</td>\n",
       "      <td>1.918919</td>\n",
       "      <td>0.189189</td>\n",
       "      <td>13.243243</td>\n",
       "      <td>55.810811</td>\n",
       "    </tr>\n",
       "    <tr>\n",
       "      <th>Ben Sinuka</th>\n",
       "      <td>0.411765</td>\n",
       "      <td>-0.705882</td>\n",
       "      <td>3.705882</td>\n",
       "      <td>1.470588</td>\n",
       "      <td>8.058824</td>\n",
       "      <td>5.294118</td>\n",
       "      <td>16.117647</td>\n",
       "      <td>1.941176</td>\n",
       "      <td>0.470588</td>\n",
       "      <td>7.176471</td>\n",
       "      <td>44.529412</td>\n",
       "    </tr>\n",
       "    <tr>\n",
       "      <th>Isaac Booi</th>\n",
       "      <td>0.272727</td>\n",
       "      <td>1.363636</td>\n",
       "      <td>2.636364</td>\n",
       "      <td>0.545455</td>\n",
       "      <td>4.000000</td>\n",
       "      <td>2.363636</td>\n",
       "      <td>5.045455</td>\n",
       "      <td>1.318182</td>\n",
       "      <td>0.272727</td>\n",
       "      <td>5.818182</td>\n",
       "      <td>23.681818</td>\n",
       "    </tr>\n",
       "  </tbody>\n",
       "</table>\n",
       "</div>"
      ],
      "text/plain": [
       "            June - Listen First Sound Improvement  \\\n",
       "Schools                                             \n",
       "Seyisi                                   1.909091   \n",
       "Fumisukoma                               1.027027   \n",
       "Ben Sinuka                               0.411765   \n",
       "Isaac Booi                               0.272727   \n",
       "\n",
       "            June - Listen Word Improvement  June - Phonics Improvement  \\\n",
       "Schools                                                                  \n",
       "Seyisi                            4.000000                    8.272727   \n",
       "Fumisukoma                        1.378378                    2.108108   \n",
       "Ben Sinuka                       -0.705882                    3.705882   \n",
       "Isaac Booi                        1.363636                    2.636364   \n",
       "\n",
       "            June - Blends Improvement  June - Sight Words Improvement  \\\n",
       "Schools                                                                 \n",
       "Seyisi                       3.090909                        7.181818   \n",
       "Fumisukoma                   1.648649                        4.918919   \n",
       "Ben Sinuka                   1.470588                        8.058824   \n",
       "Isaac Booi                   0.545455                        4.000000   \n",
       "\n",
       "            June - Read Sentences Improvement  June - Read Story Improvement  \\\n",
       "Schools                                                                        \n",
       "Seyisi                               1.818182                      20.909091   \n",
       "Fumisukoma                           1.837838                      26.513514   \n",
       "Ben Sinuka                           5.294118                      16.117647   \n",
       "Isaac Booi                           2.363636                       5.045455   \n",
       "\n",
       "            June - Written Letters Improvement  June - Write CVCs Improvement  \\\n",
       "Schools                                                                         \n",
       "Seyisi                                2.909091                       0.818182   \n",
       "Fumisukoma                            1.918919                       0.189189   \n",
       "Ben Sinuka                            1.941176                       0.470588   \n",
       "Isaac Booi                            1.318182                       0.272727   \n",
       "\n",
       "            June - Write Sentence Improvement  June - Total Improvement  \n",
       "Schools                                                                  \n",
       "Seyisi                               7.454545                 59.272727  \n",
       "Fumisukoma                          13.243243                 55.810811  \n",
       "Ben Sinuka                           7.176471                 44.529412  \n",
       "Isaac Booi                           5.818182                 23.681818  "
      ]
     },
     "execution_count": 228,
     "metadata": {},
     "output_type": "execute_result"
    }
   ],
   "source": [
    "df_Grade3_improvement = gbo3_on[improvement_columns].mean()\n",
    "df_Grade3_improvement.sort_values('June - Total Improvement', ascending=False)"
   ]
  },
  {
   "cell_type": "markdown",
   "id": "f4a668bf",
   "metadata": {},
   "source": [
    "# LCs with the Most Overall Improvement"
   ]
  },
  {
   "cell_type": "code",
   "execution_count": 229,
   "id": "00b53569",
   "metadata": {},
   "outputs": [
    {
     "data": {
      "text/plain": [
       "Schools       LC Name                     \n",
       "Fumisukoma    Elam Xalipi                      65.181818\n",
       "              Anelisa  Nakani                  59.083333\n",
       "Ebongweni     Ncebakazi Sithako                55.416667\n",
       "Fumisukoma    Nandipha  Putela                 54.083333\n",
       "Ben Sinuka    Mihle Gunguluza                  52.583333\n",
       "Seyisi        Nosipho Gxasheka                 52.454545\n",
       "Ebongweni     Zintle Dyesi                     52.250000\n",
       "Seyisi        Alizwa Tsili                     50.583333\n",
       "Fumisukoma    Liyema Tom                       49.500000\n",
       "Molefe        Babalwa Lindi                    48.800000\n",
       "Fumisukoma    Silindokuhle Hlolimpi            48.583333\n",
       "              Ntombizandile Ngamntwini         48.166667\n",
       "              Esethu Mantakana                 47.900000\n",
       "Charles Duna  Lutho Ngqokwe                    44.500000\n",
       "              Sinazo Njokweni                  41.500000\n",
       "Fumisukoma    Lisakhanya Mahleza               41.500000\n",
       "Seyisi        Asenathi Phiri                   41.200000\n",
       "Astra         Jennelee Ruth Noah               40.416667\n",
       "Fumisukoma    Siphosethu  Mantwana             40.000000\n",
       "Seyisi        Noluyolo Nyati                   39.909091\n",
       "              Thenjiwe Shushu                  39.700000\n",
       "Empumalanga   Sibabalwe Ngcobo                 38.750000\n",
       "Astra         Denise Donay                     38.545455\n",
       "Seyisi        Phaphama Kolisi                  38.454545\n",
       "Ebongweni     Siphephelo Mkuli                 38.166667\n",
       "Astra         Shenaaz Britz                    38.083333\n",
       "Ebongweni     Sinazo Mbombela                  36.900000\n",
       "Charles Duna  Nandipha Princess Brikwa         36.750000\n",
       "Seyisi        Sinazo Jwara                     36.500000\n",
       "Fumisukoma    Sinazo Maxaza                    35.916667\n",
       "Molefe        Misokuhle Sogiba                 35.666667\n",
       "Ben Sinuka    Luphumzo Bassie                  34.666667\n",
       "Charles Duna  Sandla Qinisile                  33.363636\n",
       "Seyisi        Sihle Bunu                       33.250000\n",
       "Empumalanga   Siviwe Sidiba                    33.000000\n",
       "Molefe        Lihlumelo Gaba                   32.900000\n",
       "Fumisukoma    Sisipho Ntisa                    32.818182\n",
       "Empumalanga   Anesipho Budaza                  31.583333\n",
       "Ben Sinuka    Sinazo Moabi                     30.818182\n",
       "Charles Duna  Philasande Moshoeshoe            30.333333\n",
       "Empumalanga   Noluthando Kondile               30.181818\n",
       "              Esihle Jona                      30.181818\n",
       "Charles Duna  Siyamthanda Masala               29.833333\n",
       "              Aviwe Mhlanga                    29.083333\n",
       "Seyisi        LC Name 2                        28.500000\n",
       "Isaac Booi    Sisipho Wali                     27.416667\n",
       "Astra         Cheslean Warney                  26.333333\n",
       "Ben Sinuka    Ntlakanipho Ngqondi              26.083333\n",
       "Seyisi        Siphosethu Mlenze                25.100000\n",
       "Isaac Booi    Siya Matola                      24.333333\n",
       "              Nominentle Magwa                 23.000000\n",
       "Molefe        Thandoxolo Mertjies              22.888889\n",
       "Aaron Gqadu   Onwabile Bebe                    22.750000\n",
       "Isaac Booi    Lizalise Baliwe                  22.727273\n",
       "Aaron Gqadu   Bongiwe Nontsinga                22.444444\n",
       "Fumisukoma    Athenkosi Jodwana                22.333333\n",
       "Seyisi        Asanele Somhlahlo                22.100000\n",
       "Aaron Gqadu   Zimkhitha Mvinjelwa              19.909091\n",
       "Isaac Booi    Anam Mabangula                   19.083333\n",
       "Charles Duna  Sanele Dyasi                     18.416667\n",
       "Isaac Booi    Anita Ngceza                     18.250000\n",
       "              Sinombulelo                      17.666667\n",
       "              Seluleko Mvabi                   17.454545\n",
       "              Siyamthanda Shevan Palamente     16.416667\n",
       "              Sinethemba Maxwell Mofu          14.916667\n",
       "              Viwe Gloria Mke                  14.166667\n",
       "              Basanele Hlwempu                 13.083333\n",
       "Astra         Saudah Davids                    12.375000\n",
       "Aaron Gqadu   Khalipha Mpunzi                   9.500000\n",
       "              Nqophisa Mkhaliphi                5.000000\n",
       "Fumisukoma    Sibabalwe Ngcobo               -120.000000\n",
       "Name: June - Total Improvement, dtype: float64"
      ]
     },
     "execution_count": 229,
     "metadata": {},
     "output_type": "execute_result"
    }
   ],
   "source": [
    "gbo_new = primary_on.groupby(['Schools', 'LC Name'])\n",
    "gbo_new['June - Total Improvement'].mean().sort_values(ascending=False)"
   ]
  },
  {
   "cell_type": "markdown",
   "id": "bb9a20e5",
   "metadata": {},
   "source": [
    "# Beginners Performance\n",
    "#### Checking the performance of children with a Sounds & Phonics Score under 20"
   ]
  },
  {
   "cell_type": "code",
   "execution_count": 230,
   "id": "9cb870b4",
   "metadata": {},
   "outputs": [
    {
     "data": {
      "text/html": [
       "<div>\n",
       "<style scoped>\n",
       "    .dataframe tbody tr th:only-of-type {\n",
       "        vertical-align: middle;\n",
       "    }\n",
       "\n",
       "    .dataframe tbody tr th {\n",
       "        vertical-align: top;\n",
       "    }\n",
       "\n",
       "    .dataframe thead th {\n",
       "        text-align: right;\n",
       "    }\n",
       "</style>\n",
       "<table border=\"1\" class=\"dataframe\">\n",
       "  <thead>\n",
       "    <tr style=\"text-align: right;\">\n",
       "      <th></th>\n",
       "      <th>June - Listen First Sound Improvement</th>\n",
       "      <th>June - Listen Word Improvement</th>\n",
       "      <th>June - Phonics Improvement</th>\n",
       "      <th>June - Sounds and Phonics Improvement</th>\n",
       "    </tr>\n",
       "    <tr>\n",
       "      <th>Schools</th>\n",
       "      <th></th>\n",
       "      <th></th>\n",
       "      <th></th>\n",
       "      <th></th>\n",
       "    </tr>\n",
       "  </thead>\n",
       "  <tbody>\n",
       "    <tr>\n",
       "      <th>Ebongweni</th>\n",
       "      <td>5.842105</td>\n",
       "      <td>5.526316</td>\n",
       "      <td>11.631579</td>\n",
       "      <td>23.000000</td>\n",
       "    </tr>\n",
       "    <tr>\n",
       "      <th>Seyisi</th>\n",
       "      <td>3.910714</td>\n",
       "      <td>4.178571</td>\n",
       "      <td>11.696429</td>\n",
       "      <td>19.785714</td>\n",
       "    </tr>\n",
       "    <tr>\n",
       "      <th>Molefe</th>\n",
       "      <td>4.730769</td>\n",
       "      <td>4.000000</td>\n",
       "      <td>8.538462</td>\n",
       "      <td>17.269231</td>\n",
       "    </tr>\n",
       "    <tr>\n",
       "      <th>Empumalanga</th>\n",
       "      <td>2.685714</td>\n",
       "      <td>1.400000</td>\n",
       "      <td>12.971429</td>\n",
       "      <td>17.057143</td>\n",
       "    </tr>\n",
       "    <tr>\n",
       "      <th>Fumisukoma</th>\n",
       "      <td>4.604167</td>\n",
       "      <td>2.458333</td>\n",
       "      <td>9.937500</td>\n",
       "      <td>17.000000</td>\n",
       "    </tr>\n",
       "    <tr>\n",
       "      <th>Ben Sinuka</th>\n",
       "      <td>4.411765</td>\n",
       "      <td>4.352941</td>\n",
       "      <td>5.941176</td>\n",
       "      <td>14.705882</td>\n",
       "    </tr>\n",
       "    <tr>\n",
       "      <th>Charles Duna</th>\n",
       "      <td>3.215385</td>\n",
       "      <td>0.753846</td>\n",
       "      <td>9.169231</td>\n",
       "      <td>13.138462</td>\n",
       "    </tr>\n",
       "    <tr>\n",
       "      <th>Astra</th>\n",
       "      <td>3.181818</td>\n",
       "      <td>1.318182</td>\n",
       "      <td>7.272727</td>\n",
       "      <td>11.772727</td>\n",
       "    </tr>\n",
       "    <tr>\n",
       "      <th>Aaron Gqadu</th>\n",
       "      <td>3.468750</td>\n",
       "      <td>1.031250</td>\n",
       "      <td>5.468750</td>\n",
       "      <td>9.968750</td>\n",
       "    </tr>\n",
       "    <tr>\n",
       "      <th>Isaac Booi</th>\n",
       "      <td>2.089552</td>\n",
       "      <td>1.925373</td>\n",
       "      <td>5.089552</td>\n",
       "      <td>9.104478</td>\n",
       "    </tr>\n",
       "  </tbody>\n",
       "</table>\n",
       "</div>"
      ],
      "text/plain": [
       "              June - Listen First Sound Improvement  \\\n",
       "Schools                                               \n",
       "Ebongweni                                  5.842105   \n",
       "Seyisi                                     3.910714   \n",
       "Molefe                                     4.730769   \n",
       "Empumalanga                                2.685714   \n",
       "Fumisukoma                                 4.604167   \n",
       "Ben Sinuka                                 4.411765   \n",
       "Charles Duna                               3.215385   \n",
       "Astra                                      3.181818   \n",
       "Aaron Gqadu                                3.468750   \n",
       "Isaac Booi                                 2.089552   \n",
       "\n",
       "              June - Listen Word Improvement  June - Phonics Improvement  \\\n",
       "Schools                                                                    \n",
       "Ebongweni                           5.526316                   11.631579   \n",
       "Seyisi                              4.178571                   11.696429   \n",
       "Molefe                              4.000000                    8.538462   \n",
       "Empumalanga                         1.400000                   12.971429   \n",
       "Fumisukoma                          2.458333                    9.937500   \n",
       "Ben Sinuka                          4.352941                    5.941176   \n",
       "Charles Duna                        0.753846                    9.169231   \n",
       "Astra                               1.318182                    7.272727   \n",
       "Aaron Gqadu                         1.031250                    5.468750   \n",
       "Isaac Booi                          1.925373                    5.089552   \n",
       "\n",
       "              June - Sounds and Phonics Improvement  \n",
       "Schools                                              \n",
       "Ebongweni                                 23.000000  \n",
       "Seyisi                                    19.785714  \n",
       "Molefe                                    17.269231  \n",
       "Empumalanga                               17.057143  \n",
       "Fumisukoma                                17.000000  \n",
       "Ben Sinuka                                14.705882  \n",
       "Charles Duna                              13.138462  \n",
       "Astra                                     11.772727  \n",
       "Aaron Gqadu                                9.968750  \n",
       "Isaac Booi                                 9.104478  "
      ]
     },
     "execution_count": 230,
     "metadata": {},
     "output_type": "execute_result"
    }
   ],
   "source": [
    "df_beginners = primary[(primary['On The Programme'] == 'Yes') & (primary['Jan - Sounds and Phonics'] < 20)]\n",
    "columns = [\"June - Listen First Sound Improvement\",\"June - Listen Word Improvement\", \"June - Phonics Improvement\", \"June - Sounds and Phonics Improvement\"]\n",
    "df_beginners.groupby('Schools')[columns].mean().sort_values(\"June - Sounds and Phonics Improvement\", ascending=False)"
   ]
  },
  {
   "cell_type": "markdown",
   "id": "6feeff7f",
   "metadata": {},
   "source": [
    "# Early Readers Performance\n",
    "#### Checking the performance of children with a Reading Score above X"
   ]
  },
  {
   "cell_type": "code",
   "execution_count": 231,
   "id": "5e784b50",
   "metadata": {},
   "outputs": [
    {
     "data": {
      "text/html": [
       "<div>\n",
       "<style scoped>\n",
       "    .dataframe tbody tr th:only-of-type {\n",
       "        vertical-align: middle;\n",
       "    }\n",
       "\n",
       "    .dataframe tbody tr th {\n",
       "        vertical-align: top;\n",
       "    }\n",
       "\n",
       "    .dataframe thead th {\n",
       "        text-align: right;\n",
       "    }\n",
       "</style>\n",
       "<table border=\"1\" class=\"dataframe\">\n",
       "  <thead>\n",
       "    <tr style=\"text-align: right;\">\n",
       "      <th></th>\n",
       "      <th>June - Blends Improvement</th>\n",
       "      <th>June - Sight Words Improvement</th>\n",
       "      <th>June - Read Sentences Improvement</th>\n",
       "      <th>June - Read Story Improvement</th>\n",
       "      <th>June - Reading Improvement</th>\n",
       "    </tr>\n",
       "    <tr>\n",
       "      <th>Schools</th>\n",
       "      <th></th>\n",
       "      <th></th>\n",
       "      <th></th>\n",
       "      <th></th>\n",
       "      <th></th>\n",
       "    </tr>\n",
       "  </thead>\n",
       "  <tbody>\n",
       "    <tr>\n",
       "      <th>Fumisukoma</th>\n",
       "      <td>1.514085</td>\n",
       "      <td>4.514085</td>\n",
       "      <td>2.035211</td>\n",
       "      <td>12.781690</td>\n",
       "      <td>21.204225</td>\n",
       "    </tr>\n",
       "    <tr>\n",
       "      <th>Ben Sinuka</th>\n",
       "      <td>1.553191</td>\n",
       "      <td>4.744681</td>\n",
       "      <td>3.085106</td>\n",
       "      <td>8.702128</td>\n",
       "      <td>18.382979</td>\n",
       "    </tr>\n",
       "    <tr>\n",
       "      <th>Seyisi</th>\n",
       "      <td>1.728682</td>\n",
       "      <td>3.682171</td>\n",
       "      <td>0.844961</td>\n",
       "      <td>6.751938</td>\n",
       "      <td>13.232558</td>\n",
       "    </tr>\n",
       "    <tr>\n",
       "      <th>Astra</th>\n",
       "      <td>1.839286</td>\n",
       "      <td>2.625000</td>\n",
       "      <td>1.910714</td>\n",
       "      <td>3.250000</td>\n",
       "      <td>9.678571</td>\n",
       "    </tr>\n",
       "    <tr>\n",
       "      <th>Empumalanga</th>\n",
       "      <td>1.561404</td>\n",
       "      <td>1.614035</td>\n",
       "      <td>1.333333</td>\n",
       "      <td>3.087719</td>\n",
       "      <td>7.596491</td>\n",
       "    </tr>\n",
       "    <tr>\n",
       "      <th>Ebongweni</th>\n",
       "      <td>1.333333</td>\n",
       "      <td>2.500000</td>\n",
       "      <td>1.416667</td>\n",
       "      <td>1.520833</td>\n",
       "      <td>6.770833</td>\n",
       "    </tr>\n",
       "    <tr>\n",
       "      <th>Molefe</th>\n",
       "      <td>1.631579</td>\n",
       "      <td>1.973684</td>\n",
       "      <td>1.184211</td>\n",
       "      <td>0.157895</td>\n",
       "      <td>4.947368</td>\n",
       "    </tr>\n",
       "    <tr>\n",
       "      <th>Charles Duna</th>\n",
       "      <td>0.604167</td>\n",
       "      <td>1.458333</td>\n",
       "      <td>1.010417</td>\n",
       "      <td>1.739583</td>\n",
       "      <td>4.864583</td>\n",
       "    </tr>\n",
       "    <tr>\n",
       "      <th>Isaac Booi</th>\n",
       "      <td>0.577465</td>\n",
       "      <td>1.225352</td>\n",
       "      <td>0.746479</td>\n",
       "      <td>2.161972</td>\n",
       "      <td>4.732394</td>\n",
       "    </tr>\n",
       "    <tr>\n",
       "      <th>Aaron Gqadu</th>\n",
       "      <td>0.767442</td>\n",
       "      <td>0.953488</td>\n",
       "      <td>0.139535</td>\n",
       "      <td>0.046512</td>\n",
       "      <td>1.906977</td>\n",
       "    </tr>\n",
       "  </tbody>\n",
       "</table>\n",
       "</div>"
      ],
      "text/plain": [
       "              June - Blends Improvement  June - Sight Words Improvement  \\\n",
       "Schools                                                                   \n",
       "Fumisukoma                     1.514085                        4.514085   \n",
       "Ben Sinuka                     1.553191                        4.744681   \n",
       "Seyisi                         1.728682                        3.682171   \n",
       "Astra                          1.839286                        2.625000   \n",
       "Empumalanga                    1.561404                        1.614035   \n",
       "Ebongweni                      1.333333                        2.500000   \n",
       "Molefe                         1.631579                        1.973684   \n",
       "Charles Duna                   0.604167                        1.458333   \n",
       "Isaac Booi                     0.577465                        1.225352   \n",
       "Aaron Gqadu                    0.767442                        0.953488   \n",
       "\n",
       "              June - Read Sentences Improvement  \\\n",
       "Schools                                           \n",
       "Fumisukoma                             2.035211   \n",
       "Ben Sinuka                             3.085106   \n",
       "Seyisi                                 0.844961   \n",
       "Astra                                  1.910714   \n",
       "Empumalanga                            1.333333   \n",
       "Ebongweni                              1.416667   \n",
       "Molefe                                 1.184211   \n",
       "Charles Duna                           1.010417   \n",
       "Isaac Booi                             0.746479   \n",
       "Aaron Gqadu                            0.139535   \n",
       "\n",
       "              June - Read Story Improvement  June - Reading Improvement  \n",
       "Schools                                                                  \n",
       "Fumisukoma                        12.781690                   21.204225  \n",
       "Ben Sinuka                         8.702128                   18.382979  \n",
       "Seyisi                             6.751938                   13.232558  \n",
       "Astra                              3.250000                    9.678571  \n",
       "Empumalanga                        3.087719                    7.596491  \n",
       "Ebongweni                          1.520833                    6.770833  \n",
       "Molefe                             0.157895                    4.947368  \n",
       "Charles Duna                       1.739583                    4.864583  \n",
       "Isaac Booi                         2.161972                    4.732394  \n",
       "Aaron Gqadu                        0.046512                    1.906977  "
      ]
     },
     "execution_count": 231,
     "metadata": {},
     "output_type": "execute_result"
    }
   ],
   "source": [
    "# Reading total is 128\n",
    "# children[\"June - Reading\"] = children[\"June - Blends\"] + children[\"June - Sight Words\"] + children['June - Read Sentences'] + children[\"June - Read Story\"] + children[\"June - Story Comprehension\"]\n",
    "\n",
    "df_early_readers = primary[(primary['On The Programme'] == 'Yes') & (primary['Jan - Sounds and Phonics'] > 35) & primary['Jan - Reading'] < 30]\n",
    "columns = [\"June - Blends Improvement\", \"June - Sight Words Improvement\", 'June - Read Sentences Improvement', \"June - Read Story Improvement\", \"June - Reading Improvement\"]\n",
    "df_early_readers.groupby('Schools')[columns].mean().sort_values(\"June - Reading Improvement\", ascending=False)"
   ]
  },
  {
   "cell_type": "markdown",
   "id": "98927d6c",
   "metadata": {},
   "source": [
    "# Good Readers Performance"
   ]
  },
  {
   "cell_type": "markdown",
   "id": "727260ab",
   "metadata": {},
   "source": [
    "### Number of 'Good Readers'"
   ]
  },
  {
   "cell_type": "code",
   "execution_count": 232,
   "id": "862f15e5",
   "metadata": {},
   "outputs": [
    {
     "data": {
      "text/plain": [
       "Schools\n",
       "Astra          1\n",
       "Ben Sinuka     5\n",
       "Fumisukoma    27\n",
       "Isaac Booi    11\n",
       "Seyisi         2\n",
       "Name: Mcode, dtype: int64"
      ]
     },
     "execution_count": 232,
     "metadata": {},
     "output_type": "execute_result"
    }
   ],
   "source": [
    "df_good_readers = primary[(primary['On The Programme'] == 'Yes') & (primary['Jan - Sounds and Phonics'] > 35) & (primary['Jan - Reading'] > 50)]\n",
    "df_good_readers.groupby('Schools')['Mcode'].count()"
   ]
  },
  {
   "cell_type": "markdown",
   "id": "1c796fe2",
   "metadata": {},
   "source": [
    "### Improvement of 'Good Readers'"
   ]
  },
  {
   "cell_type": "code",
   "execution_count": 233,
   "id": "763a5426",
   "metadata": {},
   "outputs": [
    {
     "data": {
      "text/html": [
       "<div>\n",
       "<style scoped>\n",
       "    .dataframe tbody tr th:only-of-type {\n",
       "        vertical-align: middle;\n",
       "    }\n",
       "\n",
       "    .dataframe tbody tr th {\n",
       "        vertical-align: top;\n",
       "    }\n",
       "\n",
       "    .dataframe thead th {\n",
       "        text-align: right;\n",
       "    }\n",
       "</style>\n",
       "<table border=\"1\" class=\"dataframe\">\n",
       "  <thead>\n",
       "    <tr style=\"text-align: right;\">\n",
       "      <th></th>\n",
       "      <th>June - Sight Words Improvement</th>\n",
       "      <th>June - Read Story Improvement</th>\n",
       "      <th>June - Reading Improvement</th>\n",
       "    </tr>\n",
       "    <tr>\n",
       "      <th>Schools</th>\n",
       "      <th></th>\n",
       "      <th></th>\n",
       "      <th></th>\n",
       "    </tr>\n",
       "  </thead>\n",
       "  <tbody>\n",
       "    <tr>\n",
       "      <th>Astra</th>\n",
       "      <td>4.000000</td>\n",
       "      <td>40.000000</td>\n",
       "      <td>45.000000</td>\n",
       "    </tr>\n",
       "    <tr>\n",
       "      <th>Ben Sinuka</th>\n",
       "      <td>11.000000</td>\n",
       "      <td>20.000000</td>\n",
       "      <td>37.800000</td>\n",
       "    </tr>\n",
       "    <tr>\n",
       "      <th>Seyisi</th>\n",
       "      <td>7.500000</td>\n",
       "      <td>19.500000</td>\n",
       "      <td>29.500000</td>\n",
       "    </tr>\n",
       "    <tr>\n",
       "      <th>Fumisukoma</th>\n",
       "      <td>3.481481</td>\n",
       "      <td>22.000000</td>\n",
       "      <td>27.407407</td>\n",
       "    </tr>\n",
       "    <tr>\n",
       "      <th>Isaac Booi</th>\n",
       "      <td>0.454545</td>\n",
       "      <td>-0.727273</td>\n",
       "      <td>3.181818</td>\n",
       "    </tr>\n",
       "  </tbody>\n",
       "</table>\n",
       "</div>"
      ],
      "text/plain": [
       "            June - Sight Words Improvement  June - Read Story Improvement  \\\n",
       "Schools                                                                     \n",
       "Astra                             4.000000                      40.000000   \n",
       "Ben Sinuka                       11.000000                      20.000000   \n",
       "Seyisi                            7.500000                      19.500000   \n",
       "Fumisukoma                        3.481481                      22.000000   \n",
       "Isaac Booi                        0.454545                      -0.727273   \n",
       "\n",
       "            June - Reading Improvement  \n",
       "Schools                                 \n",
       "Astra                        45.000000  \n",
       "Ben Sinuka                   37.800000  \n",
       "Seyisi                       29.500000  \n",
       "Fumisukoma                   27.407407  \n",
       "Isaac Booi                    3.181818  "
      ]
     },
     "execution_count": 233,
     "metadata": {},
     "output_type": "execute_result"
    }
   ],
   "source": [
    "# Reading total is 128\n",
    "# children[\"June - Reading\"] = children[\"June - Blends\"] + children[\"June - Sight Words\"] + children['June - Read Sentences'] + children[\"June - Read Story\"] + children[\"June - Story Comprehension\"]\n",
    "\n",
    "df_good_readers = primary[(primary['On The Programme'] == 'Yes') & (primary['Jan - Sounds and Phonics'] > 35) & (primary['Jan - Reading'] > 50)]\n",
    "columns = [\"June - Sight Words Improvement\",\"June - Read Story Improvement\", \"June - Reading Improvement\"]\n",
    "df_good_readers.groupby('Schools')[columns].mean().sort_values(\"June - Reading Improvement\", ascending=False)"
   ]
  },
  {
   "cell_type": "markdown",
   "id": "5972c451",
   "metadata": {},
   "source": [
    "# Beginner Writers Performance"
   ]
  },
  {
   "cell_type": "code",
   "execution_count": 234,
   "id": "51cba27c",
   "metadata": {},
   "outputs": [
    {
     "data": {
      "text/plain": [
       "Schools\n",
       "Astra           13\n",
       "Ben Sinuka      22\n",
       "Charles Duna     4\n",
       "Ebongweni        1\n",
       "Empumalanga      1\n",
       "Fumisukoma      60\n",
       "Isaac Booi      38\n",
       "Seyisi          15\n",
       "Name: Mcode, dtype: int64"
      ]
     },
     "execution_count": 234,
     "metadata": {},
     "output_type": "execute_result"
    }
   ],
   "source": [
    "# Reading total is 128\n",
    "# children[\"June - Reading\"] = children[\"June - Blends\"] + children[\"June - Sight Words\"] + children['June - Read Sentences'] + children[\"June - Read Story\"] + children[\"June - Story Comprehension\"]\n",
    "\n",
    "df_good_writers = primary[(primary['On The Programme'] == 'Yes') & (primary['Jan - Sounds and Phonics'] > 35) & (primary['Jan - Writing'] > 30)]\n",
    "df_good_writers.groupby('Schools')['Mcode'].count()"
   ]
  },
  {
   "cell_type": "code",
   "execution_count": 235,
   "id": "a20244c2",
   "metadata": {},
   "outputs": [
    {
     "data": {
      "text/html": [
       "<div>\n",
       "<style scoped>\n",
       "    .dataframe tbody tr th:only-of-type {\n",
       "        vertical-align: middle;\n",
       "    }\n",
       "\n",
       "    .dataframe tbody tr th {\n",
       "        vertical-align: top;\n",
       "    }\n",
       "\n",
       "    .dataframe thead th {\n",
       "        text-align: right;\n",
       "    }\n",
       "</style>\n",
       "<table border=\"1\" class=\"dataframe\">\n",
       "  <thead>\n",
       "    <tr style=\"text-align: right;\">\n",
       "      <th></th>\n",
       "      <th>June - Write Sentence Improvement</th>\n",
       "      <th>June - Write CVCs</th>\n",
       "      <th>June - Writing Improvement</th>\n",
       "    </tr>\n",
       "    <tr>\n",
       "      <th>Schools</th>\n",
       "      <th></th>\n",
       "      <th></th>\n",
       "      <th></th>\n",
       "    </tr>\n",
       "  </thead>\n",
       "  <tbody>\n",
       "    <tr>\n",
       "      <th>Ebongweni</th>\n",
       "      <td>23.000000</td>\n",
       "      <td>15.000000</td>\n",
       "      <td>31.000000</td>\n",
       "    </tr>\n",
       "    <tr>\n",
       "      <th>Charles Duna</th>\n",
       "      <td>21.250000</td>\n",
       "      <td>12.750000</td>\n",
       "      <td>26.750000</td>\n",
       "    </tr>\n",
       "    <tr>\n",
       "      <th>Astra</th>\n",
       "      <td>15.153846</td>\n",
       "      <td>11.692308</td>\n",
       "      <td>17.538462</td>\n",
       "    </tr>\n",
       "    <tr>\n",
       "      <th>Fumisukoma</th>\n",
       "      <td>14.050000</td>\n",
       "      <td>12.716667</td>\n",
       "      <td>16.050000</td>\n",
       "    </tr>\n",
       "    <tr>\n",
       "      <th>Ben Sinuka</th>\n",
       "      <td>9.863636</td>\n",
       "      <td>13.000000</td>\n",
       "      <td>11.954545</td>\n",
       "    </tr>\n",
       "    <tr>\n",
       "      <th>Seyisi</th>\n",
       "      <td>10.333333</td>\n",
       "      <td>12.133333</td>\n",
       "      <td>11.466667</td>\n",
       "    </tr>\n",
       "    <tr>\n",
       "      <th>Isaac Booi</th>\n",
       "      <td>5.105263</td>\n",
       "      <td>12.710526</td>\n",
       "      <td>6.763158</td>\n",
       "    </tr>\n",
       "    <tr>\n",
       "      <th>Empumalanga</th>\n",
       "      <td>-19.000000</td>\n",
       "      <td>12.000000</td>\n",
       "      <td>-14.000000</td>\n",
       "    </tr>\n",
       "  </tbody>\n",
       "</table>\n",
       "</div>"
      ],
      "text/plain": [
       "              June - Write Sentence Improvement  June - Write CVCs  \\\n",
       "Schools                                                              \n",
       "Ebongweni                             23.000000          15.000000   \n",
       "Charles Duna                          21.250000          12.750000   \n",
       "Astra                                 15.153846          11.692308   \n",
       "Fumisukoma                            14.050000          12.716667   \n",
       "Ben Sinuka                             9.863636          13.000000   \n",
       "Seyisi                                10.333333          12.133333   \n",
       "Isaac Booi                             5.105263          12.710526   \n",
       "Empumalanga                          -19.000000          12.000000   \n",
       "\n",
       "              June - Writing Improvement  \n",
       "Schools                                   \n",
       "Ebongweni                      31.000000  \n",
       "Charles Duna                   26.750000  \n",
       "Astra                          17.538462  \n",
       "Fumisukoma                     16.050000  \n",
       "Ben Sinuka                     11.954545  \n",
       "Seyisi                         11.466667  \n",
       "Isaac Booi                      6.763158  \n",
       "Empumalanga                   -14.000000  "
      ]
     },
     "execution_count": 235,
     "metadata": {},
     "output_type": "execute_result"
    }
   ],
   "source": [
    "# Reading total is 128\n",
    "# children[\"June - Reading\"] = children[\"June - Blends\"] + children[\"June - Sight Words\"] + children['June - Read Sentences'] + children[\"June - Read Story\"] + children[\"June - Story Comprehension\"]\n",
    "\n",
    "df_good_writers = primary[(primary['On The Programme'] == 'Yes') & (primary['Jan - Sounds and Phonics'] > 35) & (primary['Jan - Writing'] > 30)]\n",
    "columns = [\"June - Write Sentence Improvement\",\"June - Write CVCs\", \"June - Writing Improvement\"]\n",
    "df_good_writers.groupby('Schools')[columns].mean().sort_values(\"June - Writing Improvement\", ascending=False)"
   ]
  },
  {
   "cell_type": "markdown",
   "id": "320a33cb",
   "metadata": {},
   "source": [
    "# Kids to Graduate\n",
    "#### Kids scoring 85% or higher"
   ]
  },
  {
   "cell_type": "code",
   "execution_count": 236,
   "id": "79e7013d",
   "metadata": {},
   "outputs": [
    {
     "data": {
      "text/plain": [
       "Schools       Grade  \n",
       "Astra         Grade 1     1\n",
       "Ben Sinuka    Grade 2     1\n",
       "              Grade 3     4\n",
       "Charles Duna  Grade 1     1\n",
       "Fumisukoma    Grade 1     1\n",
       "              Grade 2     3\n",
       "              Grade 3    18\n",
       "Isaac Booi    Grade 2     1\n",
       "              Grade 3     4\n",
       "Seyisi        Grade 2     7\n",
       "              Grade 3     4\n",
       "Name: Mcode, dtype: int64"
      ]
     },
     "execution_count": 236,
     "metadata": {},
     "output_type": "execute_result"
    }
   ],
   "source": [
    "graduates = children[children['June - Total'] > 224]\n",
    "graduates.groupby(['Schools', 'Grade'])['Mcode'].count()"
   ]
  },
  {
   "cell_type": "markdown",
   "id": "9ef9b2a3",
   "metadata": {},
   "source": [
    "## Isaac Booi LC Performance Checks"
   ]
  },
  {
   "cell_type": "code",
   "execution_count": 237,
   "id": "e11e8622",
   "metadata": {},
   "outputs": [
    {
     "data": {
      "text/html": [
       "<div>\n",
       "<style scoped>\n",
       "    .dataframe tbody tr th:only-of-type {\n",
       "        vertical-align: middle;\n",
       "    }\n",
       "\n",
       "    .dataframe tbody tr th {\n",
       "        vertical-align: top;\n",
       "    }\n",
       "\n",
       "    .dataframe thead th {\n",
       "        text-align: right;\n",
       "    }\n",
       "</style>\n",
       "<table border=\"1\" class=\"dataframe\">\n",
       "  <thead>\n",
       "    <tr style=\"text-align: right;\">\n",
       "      <th></th>\n",
       "      <th>June - Listen First Sound Improvement</th>\n",
       "      <th>June - Listen Word Improvement</th>\n",
       "      <th>June - Phonics Improvement</th>\n",
       "      <th>June - Blends Improvement</th>\n",
       "      <th>June - Sight Words Improvement</th>\n",
       "      <th>June - Read Sentences Improvement</th>\n",
       "      <th>June - Read Story Improvement</th>\n",
       "      <th>June - Written Letters Improvement</th>\n",
       "      <th>June - Write CVCs Improvement</th>\n",
       "      <th>June - Write Sentence Improvement</th>\n",
       "      <th>June - Total Improvement</th>\n",
       "    </tr>\n",
       "    <tr>\n",
       "      <th>LC Name</th>\n",
       "      <th></th>\n",
       "      <th></th>\n",
       "      <th></th>\n",
       "      <th></th>\n",
       "      <th></th>\n",
       "      <th></th>\n",
       "      <th></th>\n",
       "      <th></th>\n",
       "      <th></th>\n",
       "      <th></th>\n",
       "      <th></th>\n",
       "    </tr>\n",
       "  </thead>\n",
       "  <tbody>\n",
       "    <tr>\n",
       "      <th>Sisipho Wali</th>\n",
       "      <td>2.583333</td>\n",
       "      <td>2.916667</td>\n",
       "      <td>3.833333</td>\n",
       "      <td>1.500000</td>\n",
       "      <td>0.583333</td>\n",
       "      <td>1.166667</td>\n",
       "      <td>6.750000</td>\n",
       "      <td>4.583333</td>\n",
       "      <td>1.500000</td>\n",
       "      <td>1.583333</td>\n",
       "      <td>27.416667</td>\n",
       "    </tr>\n",
       "    <tr>\n",
       "      <th>Siya Matola</th>\n",
       "      <td>1.916667</td>\n",
       "      <td>2.166667</td>\n",
       "      <td>2.000000</td>\n",
       "      <td>0.083333</td>\n",
       "      <td>3.250000</td>\n",
       "      <td>0.000000</td>\n",
       "      <td>6.666667</td>\n",
       "      <td>3.750000</td>\n",
       "      <td>1.166667</td>\n",
       "      <td>2.833333</td>\n",
       "      <td>24.333333</td>\n",
       "    </tr>\n",
       "    <tr>\n",
       "      <th>Nominentle Magwa</th>\n",
       "      <td>1.333333</td>\n",
       "      <td>2.333333</td>\n",
       "      <td>2.416667</td>\n",
       "      <td>1.000000</td>\n",
       "      <td>0.583333</td>\n",
       "      <td>2.250000</td>\n",
       "      <td>-1.500000</td>\n",
       "      <td>4.500000</td>\n",
       "      <td>3.250000</td>\n",
       "      <td>6.500000</td>\n",
       "      <td>23.000000</td>\n",
       "    </tr>\n",
       "    <tr>\n",
       "      <th>Lizalise Baliwe</th>\n",
       "      <td>2.454545</td>\n",
       "      <td>1.090909</td>\n",
       "      <td>3.727273</td>\n",
       "      <td>0.363636</td>\n",
       "      <td>3.454545</td>\n",
       "      <td>0.818182</td>\n",
       "      <td>5.454545</td>\n",
       "      <td>3.000000</td>\n",
       "      <td>1.090909</td>\n",
       "      <td>1.090909</td>\n",
       "      <td>22.727273</td>\n",
       "    </tr>\n",
       "    <tr>\n",
       "      <th>Anam Mabangula</th>\n",
       "      <td>0.833333</td>\n",
       "      <td>1.416667</td>\n",
       "      <td>4.916667</td>\n",
       "      <td>0.666667</td>\n",
       "      <td>0.666667</td>\n",
       "      <td>1.833333</td>\n",
       "      <td>1.750000</td>\n",
       "      <td>2.166667</td>\n",
       "      <td>1.500000</td>\n",
       "      <td>3.083333</td>\n",
       "      <td>19.083333</td>\n",
       "    </tr>\n",
       "    <tr>\n",
       "      <th>Anita Ngceza</th>\n",
       "      <td>1.666667</td>\n",
       "      <td>2.083333</td>\n",
       "      <td>3.583333</td>\n",
       "      <td>-0.083333</td>\n",
       "      <td>0.166667</td>\n",
       "      <td>0.333333</td>\n",
       "      <td>-0.666667</td>\n",
       "      <td>5.833333</td>\n",
       "      <td>0.833333</td>\n",
       "      <td>3.833333</td>\n",
       "      <td>18.250000</td>\n",
       "    </tr>\n",
       "    <tr>\n",
       "      <th>Sinombulelo</th>\n",
       "      <td>1.750000</td>\n",
       "      <td>1.250000</td>\n",
       "      <td>4.500000</td>\n",
       "      <td>0.500000</td>\n",
       "      <td>1.666667</td>\n",
       "      <td>0.583333</td>\n",
       "      <td>2.083333</td>\n",
       "      <td>2.750000</td>\n",
       "      <td>1.000000</td>\n",
       "      <td>1.166667</td>\n",
       "      <td>17.666667</td>\n",
       "    </tr>\n",
       "    <tr>\n",
       "      <th>Seluleko Mvabi</th>\n",
       "      <td>-0.363636</td>\n",
       "      <td>2.363636</td>\n",
       "      <td>0.181818</td>\n",
       "      <td>1.363636</td>\n",
       "      <td>2.363636</td>\n",
       "      <td>1.090909</td>\n",
       "      <td>4.363636</td>\n",
       "      <td>1.000000</td>\n",
       "      <td>1.818182</td>\n",
       "      <td>3.272727</td>\n",
       "      <td>17.454545</td>\n",
       "    </tr>\n",
       "    <tr>\n",
       "      <th>Siyamthanda Shevan Palamente</th>\n",
       "      <td>0.166667</td>\n",
       "      <td>2.833333</td>\n",
       "      <td>3.833333</td>\n",
       "      <td>0.750000</td>\n",
       "      <td>1.083333</td>\n",
       "      <td>0.833333</td>\n",
       "      <td>2.000000</td>\n",
       "      <td>2.000000</td>\n",
       "      <td>2.166667</td>\n",
       "      <td>0.000000</td>\n",
       "      <td>16.416667</td>\n",
       "    </tr>\n",
       "    <tr>\n",
       "      <th>Sinethemba Maxwell Mofu</th>\n",
       "      <td>0.916667</td>\n",
       "      <td>1.083333</td>\n",
       "      <td>5.083333</td>\n",
       "      <td>-0.166667</td>\n",
       "      <td>0.166667</td>\n",
       "      <td>0.166667</td>\n",
       "      <td>-1.583333</td>\n",
       "      <td>6.166667</td>\n",
       "      <td>2.083333</td>\n",
       "      <td>0.500000</td>\n",
       "      <td>14.916667</td>\n",
       "    </tr>\n",
       "    <tr>\n",
       "      <th>Viwe Gloria Mke</th>\n",
       "      <td>0.916667</td>\n",
       "      <td>2.666667</td>\n",
       "      <td>5.166667</td>\n",
       "      <td>0.416667</td>\n",
       "      <td>-0.416667</td>\n",
       "      <td>-0.333333</td>\n",
       "      <td>2.750000</td>\n",
       "      <td>2.083333</td>\n",
       "      <td>1.083333</td>\n",
       "      <td>-0.333333</td>\n",
       "      <td>14.166667</td>\n",
       "    </tr>\n",
       "    <tr>\n",
       "      <th>Basanele Hlwempu</th>\n",
       "      <td>0.333333</td>\n",
       "      <td>2.583333</td>\n",
       "      <td>4.083333</td>\n",
       "      <td>0.583333</td>\n",
       "      <td>1.416667</td>\n",
       "      <td>0.250000</td>\n",
       "      <td>-1.666667</td>\n",
       "      <td>2.416667</td>\n",
       "      <td>1.333333</td>\n",
       "      <td>1.583333</td>\n",
       "      <td>13.083333</td>\n",
       "    </tr>\n",
       "  </tbody>\n",
       "</table>\n",
       "</div>"
      ],
      "text/plain": [
       "                              June - Listen First Sound Improvement  \\\n",
       "LC Name                                                               \n",
       "Sisipho Wali                                               2.583333   \n",
       "Siya Matola                                                1.916667   \n",
       "Nominentle Magwa                                           1.333333   \n",
       "Lizalise Baliwe                                            2.454545   \n",
       "Anam Mabangula                                             0.833333   \n",
       "Anita Ngceza                                               1.666667   \n",
       "Sinombulelo                                                1.750000   \n",
       "Seluleko Mvabi                                            -0.363636   \n",
       "Siyamthanda Shevan Palamente                               0.166667   \n",
       "Sinethemba Maxwell Mofu                                    0.916667   \n",
       "Viwe Gloria Mke                                            0.916667   \n",
       "Basanele Hlwempu                                           0.333333   \n",
       "\n",
       "                              June - Listen Word Improvement  \\\n",
       "LC Name                                                        \n",
       "Sisipho Wali                                        2.916667   \n",
       "Siya Matola                                         2.166667   \n",
       "Nominentle Magwa                                    2.333333   \n",
       "Lizalise Baliwe                                     1.090909   \n",
       "Anam Mabangula                                      1.416667   \n",
       "Anita Ngceza                                        2.083333   \n",
       "Sinombulelo                                         1.250000   \n",
       "Seluleko Mvabi                                      2.363636   \n",
       "Siyamthanda Shevan Palamente                        2.833333   \n",
       "Sinethemba Maxwell Mofu                             1.083333   \n",
       "Viwe Gloria Mke                                     2.666667   \n",
       "Basanele Hlwempu                                    2.583333   \n",
       "\n",
       "                              June - Phonics Improvement  \\\n",
       "LC Name                                                    \n",
       "Sisipho Wali                                    3.833333   \n",
       "Siya Matola                                     2.000000   \n",
       "Nominentle Magwa                                2.416667   \n",
       "Lizalise Baliwe                                 3.727273   \n",
       "Anam Mabangula                                  4.916667   \n",
       "Anita Ngceza                                    3.583333   \n",
       "Sinombulelo                                     4.500000   \n",
       "Seluleko Mvabi                                  0.181818   \n",
       "Siyamthanda Shevan Palamente                    3.833333   \n",
       "Sinethemba Maxwell Mofu                         5.083333   \n",
       "Viwe Gloria Mke                                 5.166667   \n",
       "Basanele Hlwempu                                4.083333   \n",
       "\n",
       "                              June - Blends Improvement  \\\n",
       "LC Name                                                   \n",
       "Sisipho Wali                                   1.500000   \n",
       "Siya Matola                                    0.083333   \n",
       "Nominentle Magwa                               1.000000   \n",
       "Lizalise Baliwe                                0.363636   \n",
       "Anam Mabangula                                 0.666667   \n",
       "Anita Ngceza                                  -0.083333   \n",
       "Sinombulelo                                    0.500000   \n",
       "Seluleko Mvabi                                 1.363636   \n",
       "Siyamthanda Shevan Palamente                   0.750000   \n",
       "Sinethemba Maxwell Mofu                       -0.166667   \n",
       "Viwe Gloria Mke                                0.416667   \n",
       "Basanele Hlwempu                               0.583333   \n",
       "\n",
       "                              June - Sight Words Improvement  \\\n",
       "LC Name                                                        \n",
       "Sisipho Wali                                        0.583333   \n",
       "Siya Matola                                         3.250000   \n",
       "Nominentle Magwa                                    0.583333   \n",
       "Lizalise Baliwe                                     3.454545   \n",
       "Anam Mabangula                                      0.666667   \n",
       "Anita Ngceza                                        0.166667   \n",
       "Sinombulelo                                         1.666667   \n",
       "Seluleko Mvabi                                      2.363636   \n",
       "Siyamthanda Shevan Palamente                        1.083333   \n",
       "Sinethemba Maxwell Mofu                             0.166667   \n",
       "Viwe Gloria Mke                                    -0.416667   \n",
       "Basanele Hlwempu                                    1.416667   \n",
       "\n",
       "                              June - Read Sentences Improvement  \\\n",
       "LC Name                                                           \n",
       "Sisipho Wali                                           1.166667   \n",
       "Siya Matola                                            0.000000   \n",
       "Nominentle Magwa                                       2.250000   \n",
       "Lizalise Baliwe                                        0.818182   \n",
       "Anam Mabangula                                         1.833333   \n",
       "Anita Ngceza                                           0.333333   \n",
       "Sinombulelo                                            0.583333   \n",
       "Seluleko Mvabi                                         1.090909   \n",
       "Siyamthanda Shevan Palamente                           0.833333   \n",
       "Sinethemba Maxwell Mofu                                0.166667   \n",
       "Viwe Gloria Mke                                       -0.333333   \n",
       "Basanele Hlwempu                                       0.250000   \n",
       "\n",
       "                              June - Read Story Improvement  \\\n",
       "LC Name                                                       \n",
       "Sisipho Wali                                       6.750000   \n",
       "Siya Matola                                        6.666667   \n",
       "Nominentle Magwa                                  -1.500000   \n",
       "Lizalise Baliwe                                    5.454545   \n",
       "Anam Mabangula                                     1.750000   \n",
       "Anita Ngceza                                      -0.666667   \n",
       "Sinombulelo                                        2.083333   \n",
       "Seluleko Mvabi                                     4.363636   \n",
       "Siyamthanda Shevan Palamente                       2.000000   \n",
       "Sinethemba Maxwell Mofu                           -1.583333   \n",
       "Viwe Gloria Mke                                    2.750000   \n",
       "Basanele Hlwempu                                  -1.666667   \n",
       "\n",
       "                              June - Written Letters Improvement  \\\n",
       "LC Name                                                            \n",
       "Sisipho Wali                                            4.583333   \n",
       "Siya Matola                                             3.750000   \n",
       "Nominentle Magwa                                        4.500000   \n",
       "Lizalise Baliwe                                         3.000000   \n",
       "Anam Mabangula                                          2.166667   \n",
       "Anita Ngceza                                            5.833333   \n",
       "Sinombulelo                                             2.750000   \n",
       "Seluleko Mvabi                                          1.000000   \n",
       "Siyamthanda Shevan Palamente                            2.000000   \n",
       "Sinethemba Maxwell Mofu                                 6.166667   \n",
       "Viwe Gloria Mke                                         2.083333   \n",
       "Basanele Hlwempu                                        2.416667   \n",
       "\n",
       "                              June - Write CVCs Improvement  \\\n",
       "LC Name                                                       \n",
       "Sisipho Wali                                       1.500000   \n",
       "Siya Matola                                        1.166667   \n",
       "Nominentle Magwa                                   3.250000   \n",
       "Lizalise Baliwe                                    1.090909   \n",
       "Anam Mabangula                                     1.500000   \n",
       "Anita Ngceza                                       0.833333   \n",
       "Sinombulelo                                        1.000000   \n",
       "Seluleko Mvabi                                     1.818182   \n",
       "Siyamthanda Shevan Palamente                       2.166667   \n",
       "Sinethemba Maxwell Mofu                            2.083333   \n",
       "Viwe Gloria Mke                                    1.083333   \n",
       "Basanele Hlwempu                                   1.333333   \n",
       "\n",
       "                              June - Write Sentence Improvement  \\\n",
       "LC Name                                                           \n",
       "Sisipho Wali                                           1.583333   \n",
       "Siya Matola                                            2.833333   \n",
       "Nominentle Magwa                                       6.500000   \n",
       "Lizalise Baliwe                                        1.090909   \n",
       "Anam Mabangula                                         3.083333   \n",
       "Anita Ngceza                                           3.833333   \n",
       "Sinombulelo                                            1.166667   \n",
       "Seluleko Mvabi                                         3.272727   \n",
       "Siyamthanda Shevan Palamente                           0.000000   \n",
       "Sinethemba Maxwell Mofu                                0.500000   \n",
       "Viwe Gloria Mke                                       -0.333333   \n",
       "Basanele Hlwempu                                       1.583333   \n",
       "\n",
       "                              June - Total Improvement  \n",
       "LC Name                                                 \n",
       "Sisipho Wali                                 27.416667  \n",
       "Siya Matola                                  24.333333  \n",
       "Nominentle Magwa                             23.000000  \n",
       "Lizalise Baliwe                              22.727273  \n",
       "Anam Mabangula                               19.083333  \n",
       "Anita Ngceza                                 18.250000  \n",
       "Sinombulelo                                  17.666667  \n",
       "Seluleko Mvabi                               17.454545  \n",
       "Siyamthanda Shevan Palamente                 16.416667  \n",
       "Sinethemba Maxwell Mofu                      14.916667  \n",
       "Viwe Gloria Mke                              14.166667  \n",
       "Basanele Hlwempu                             13.083333  "
      ]
     },
     "execution_count": 237,
     "metadata": {},
     "output_type": "execute_result"
    }
   ],
   "source": [
    "df_ib = children[(children['Schools'] == 'Isaac Booi') & (children['On The Programme'] == 'Yes')]\n",
    "df_ib.groupby('LC Name')[improvement_columns].mean().sort_values('June - Total Improvement', ascending=False)"
   ]
  },
  {
   "cell_type": "markdown",
   "id": "9fcfcc29",
   "metadata": {},
   "source": [
    "# Export CSVs with Children's Results"
   ]
  },
  {
   "cell_type": "code",
   "execution_count": 238,
   "id": "0324a5e8",
   "metadata": {},
   "outputs": [],
   "source": [
    "import os\n",
    "\n",
    "# Create a new directory for these CSVs, if it doesn't already exist\n",
    "os.makedirs('June Results', exist_ok=True)\n",
    "\n",
    "# List of columns to keep in each CSV\n",
    "columns_to_keep = ['LC Name', 'Full Name', 'June - Listen First Sound', 'June - Listen Word', 'June - Phonics', 'June - Blends', \n",
    "                   'June - Sight Words', 'June - Read Sentences', 'June - Read Story', \n",
    "                   'June - Story Comprehension', 'June - Written Letters', 'June - Write Name', \n",
    "                   'June - Write CVCs', 'June - Write Sentences', 'June - Total']\n",
    "\n",
    "# Group by 'LC Name' and iterate over the groups\n",
    "for lc_name, group in children.groupby('LC Name'):\n",
    "    # Filter down to the columns we're interested in\n",
    "    filtered_group = group[columns_to_keep].sort_values('June - Total', ascending=False)\n",
    "    \n",
    "    # Construct the CSV filename\n",
    "    filename = os.path.join('June Results', f'{lc_name}.csv')\n",
    "    \n",
    "    # Export to CSV\n",
    "    filtered_group.to_csv(filename, index=False)\n"
   ]
  },
  {
   "cell_type": "code",
   "execution_count": 239,
   "id": "5fc68f3e",
   "metadata": {},
   "outputs": [],
   "source": [
    "import os\n",
    "\n",
    "# Create a new directory for these CSVs, if it doesn't already exist\n",
    "os.makedirs('June Results', exist_ok=True)\n",
    "\n",
    "# Lists of columns to keep in each CSV\n",
    "columns_to_keep1 = ['LC Name', 'Full Name', 'Total Sessions', 'June - Listen First Sound', 'June - Listen Word', 'June - Phonics', 'June - Blends', \n",
    "                    'June - Sight Words', 'June - Read Sentences', 'June - Read Story', \n",
    "                    'June - Written Letters',\n",
    "                    'June - Write CVCs', 'June - Write Sentences', 'June - Total']\n",
    "\n",
    "# Replace these with your second list of columns\n",
    "columns_to_keep2 = [\"LC Name\", \"Full Name\", \"Total Sessions\",\"June - Listen First Sound Improvement\",\"June - Listen Word Improvement\", \"June - Phonics Improvement\",\"June - Blends Improvement\",\"June - Sight Words Improvement\", \"June - Read Sentences Improvement\", \"June - Read Story Improvement\", \"June - Written Letters Improvement\", \"June - Write CVCs Improvement\", \"June - Write Sentence Improvement\", \"June - Total Improvement\" ]\n",
    "\n",
    "# Group by 'LC Name' and iterate over the groups\n",
    "for lc_name, group in children.groupby('LC Name'):\n",
    "    # Filter down to the columns we're interested in\n",
    "    filtered_group1 = group[columns_to_keep1].sort_values('Full Name')\n",
    "    filtered_group2 = group[columns_to_keep2].sort_values('Full Name')\n",
    "    \n",
    "    # Construct the CSV filename\n",
    "    filename = os.path.join('June Results', f'{lc_name}.csv')\n",
    "    \n",
    "    # Export first filtered group to CSV\n",
    "    filtered_group1.to_csv(filename, index=False)\n",
    "    \n",
    "    # Append second filtered group to same CSV, with a couple of blank lines between\n",
    "    with open(filename, 'a') as f:\n",
    "        # Write blank lines\n",
    "        f.write('\\n\\n')\n",
    "        # Write second filtered group to CSV\n",
    "        filtered_group2.to_csv(f, index=False)\n"
   ]
  },
  {
   "cell_type": "code",
   "execution_count": null,
   "id": "9bb001b6",
   "metadata": {},
   "outputs": [],
   "source": []
  }
 ],
 "metadata": {
  "kernelspec": {
   "display_name": "Python 3 (ipykernel)",
   "language": "python",
   "name": "python3"
  },
  "language_info": {
   "codemirror_mode": {
    "name": "ipython",
    "version": 3
   },
   "file_extension": ".py",
   "mimetype": "text/x-python",
   "name": "python",
   "nbconvert_exporter": "python",
   "pygments_lexer": "ipython3",
   "version": "3.10.9"
  }
 },
 "nbformat": 4,
 "nbformat_minor": 5
}
